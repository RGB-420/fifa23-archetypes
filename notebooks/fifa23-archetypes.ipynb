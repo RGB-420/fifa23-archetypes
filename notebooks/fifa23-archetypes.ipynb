{
 "cells": [
  {
   "cell_type": "code",
   "execution_count": 107,
   "id": "d39e1252",
   "metadata": {},
   "outputs": [],
   "source": [
    "import pandas as pd\n",
    "import plotly.express as px\n",
    "import plotly.graph_objects as go\n",
    "import plotly.subplots as sp\n",
    "from sklearn.cluster import KMeans\n",
    "from sklearn.preprocessing import StandardScaler\n",
    "\n",
    "df = pd.read_csv(\"fifa23.csv\", sep=';', encoding='utf-8')\n",
    "df_field_players = df[df['Best Position'].str.contains('GK') == False]\n"
   ]
  },
  {
   "cell_type": "code",
   "execution_count": 108,
   "id": "b228320b",
   "metadata": {},
   "outputs": [
    {
     "name": "stderr",
     "output_type": "stream",
     "text": [
      "C:\\Users\\rgbej\\AppData\\Local\\Temp\\ipykernel_9592\\2283071605.py:9: SettingWithCopyWarning:\n",
      "\n",
      "\n",
      "A value is trying to be set on a copy of a slice from a DataFrame.\n",
      "Try using .loc[row_indexer,col_indexer] = value instead\n",
      "\n",
      "See the caveats in the documentation: https://pandas.pydata.org/pandas-docs/stable/user_guide/indexing.html#returning-a-view-versus-a-copy\n",
      "\n",
      "C:\\Users\\rgbej\\AppData\\Local\\Temp\\ipykernel_9592\\2283071605.py:9: SettingWithCopyWarning:\n",
      "\n",
      "\n",
      "A value is trying to be set on a copy of a slice from a DataFrame.\n",
      "Try using .loc[row_indexer,col_indexer] = value instead\n",
      "\n",
      "See the caveats in the documentation: https://pandas.pydata.org/pandas-docs/stable/user_guide/indexing.html#returning-a-view-versus-a-copy\n",
      "\n",
      "C:\\Users\\rgbej\\AppData\\Local\\Temp\\ipykernel_9592\\2283071605.py:9: SettingWithCopyWarning:\n",
      "\n",
      "\n",
      "A value is trying to be set on a copy of a slice from a DataFrame.\n",
      "Try using .loc[row_indexer,col_indexer] = value instead\n",
      "\n",
      "See the caveats in the documentation: https://pandas.pydata.org/pandas-docs/stable/user_guide/indexing.html#returning-a-view-versus-a-copy\n",
      "\n",
      "C:\\Users\\rgbej\\AppData\\Local\\Temp\\ipykernel_9592\\2283071605.py:9: SettingWithCopyWarning:\n",
      "\n",
      "\n",
      "A value is trying to be set on a copy of a slice from a DataFrame.\n",
      "Try using .loc[row_indexer,col_indexer] = value instead\n",
      "\n",
      "See the caveats in the documentation: https://pandas.pydata.org/pandas-docs/stable/user_guide/indexing.html#returning-a-view-versus-a-copy\n",
      "\n",
      "C:\\Users\\rgbej\\AppData\\Local\\Temp\\ipykernel_9592\\2283071605.py:9: SettingWithCopyWarning:\n",
      "\n",
      "\n",
      "A value is trying to be set on a copy of a slice from a DataFrame.\n",
      "Try using .loc[row_indexer,col_indexer] = value instead\n",
      "\n",
      "See the caveats in the documentation: https://pandas.pydata.org/pandas-docs/stable/user_guide/indexing.html#returning-a-view-versus-a-copy\n",
      "\n",
      "C:\\Users\\rgbej\\AppData\\Local\\Temp\\ipykernel_9592\\2283071605.py:9: SettingWithCopyWarning:\n",
      "\n",
      "\n",
      "A value is trying to be set on a copy of a slice from a DataFrame.\n",
      "Try using .loc[row_indexer,col_indexer] = value instead\n",
      "\n",
      "See the caveats in the documentation: https://pandas.pydata.org/pandas-docs/stable/user_guide/indexing.html#returning-a-view-versus-a-copy\n",
      "\n",
      "C:\\Users\\rgbej\\AppData\\Local\\Temp\\ipykernel_9592\\2283071605.py:9: SettingWithCopyWarning:\n",
      "\n",
      "\n",
      "A value is trying to be set on a copy of a slice from a DataFrame.\n",
      "Try using .loc[row_indexer,col_indexer] = value instead\n",
      "\n",
      "See the caveats in the documentation: https://pandas.pydata.org/pandas-docs/stable/user_guide/indexing.html#returning-a-view-versus-a-copy\n",
      "\n",
      "C:\\Users\\rgbej\\AppData\\Local\\Temp\\ipykernel_9592\\2283071605.py:9: SettingWithCopyWarning:\n",
      "\n",
      "\n",
      "A value is trying to be set on a copy of a slice from a DataFrame.\n",
      "Try using .loc[row_indexer,col_indexer] = value instead\n",
      "\n",
      "See the caveats in the documentation: https://pandas.pydata.org/pandas-docs/stable/user_guide/indexing.html#returning-a-view-versus-a-copy\n",
      "\n",
      "C:\\Users\\rgbej\\AppData\\Local\\Temp\\ipykernel_9592\\2283071605.py:9: SettingWithCopyWarning:\n",
      "\n",
      "\n",
      "A value is trying to be set on a copy of a slice from a DataFrame.\n",
      "Try using .loc[row_indexer,col_indexer] = value instead\n",
      "\n",
      "See the caveats in the documentation: https://pandas.pydata.org/pandas-docs/stable/user_guide/indexing.html#returning-a-view-versus-a-copy\n",
      "\n",
      "C:\\Users\\rgbej\\AppData\\Local\\Temp\\ipykernel_9592\\2283071605.py:9: SettingWithCopyWarning:\n",
      "\n",
      "\n",
      "A value is trying to be set on a copy of a slice from a DataFrame.\n",
      "Try using .loc[row_indexer,col_indexer] = value instead\n",
      "\n",
      "See the caveats in the documentation: https://pandas.pydata.org/pandas-docs/stable/user_guide/indexing.html#returning-a-view-versus-a-copy\n",
      "\n",
      "C:\\Users\\rgbej\\AppData\\Local\\Temp\\ipykernel_9592\\2283071605.py:9: SettingWithCopyWarning:\n",
      "\n",
      "\n",
      "A value is trying to be set on a copy of a slice from a DataFrame.\n",
      "Try using .loc[row_indexer,col_indexer] = value instead\n",
      "\n",
      "See the caveats in the documentation: https://pandas.pydata.org/pandas-docs/stable/user_guide/indexing.html#returning-a-view-versus-a-copy\n",
      "\n",
      "C:\\Users\\rgbej\\AppData\\Local\\Temp\\ipykernel_9592\\2283071605.py:9: SettingWithCopyWarning:\n",
      "\n",
      "\n",
      "A value is trying to be set on a copy of a slice from a DataFrame.\n",
      "Try using .loc[row_indexer,col_indexer] = value instead\n",
      "\n",
      "See the caveats in the documentation: https://pandas.pydata.org/pandas-docs/stable/user_guide/indexing.html#returning-a-view-versus-a-copy\n",
      "\n",
      "C:\\Users\\rgbej\\AppData\\Local\\Temp\\ipykernel_9592\\2283071605.py:9: SettingWithCopyWarning:\n",
      "\n",
      "\n",
      "A value is trying to be set on a copy of a slice from a DataFrame.\n",
      "Try using .loc[row_indexer,col_indexer] = value instead\n",
      "\n",
      "See the caveats in the documentation: https://pandas.pydata.org/pandas-docs/stable/user_guide/indexing.html#returning-a-view-versus-a-copy\n",
      "\n",
      "C:\\Users\\rgbej\\AppData\\Local\\Temp\\ipykernel_9592\\2283071605.py:9: SettingWithCopyWarning:\n",
      "\n",
      "\n",
      "A value is trying to be set on a copy of a slice from a DataFrame.\n",
      "Try using .loc[row_indexer,col_indexer] = value instead\n",
      "\n",
      "See the caveats in the documentation: https://pandas.pydata.org/pandas-docs/stable/user_guide/indexing.html#returning-a-view-versus-a-copy\n",
      "\n",
      "C:\\Users\\rgbej\\AppData\\Local\\Temp\\ipykernel_9592\\2283071605.py:9: SettingWithCopyWarning:\n",
      "\n",
      "\n",
      "A value is trying to be set on a copy of a slice from a DataFrame.\n",
      "Try using .loc[row_indexer,col_indexer] = value instead\n",
      "\n",
      "See the caveats in the documentation: https://pandas.pydata.org/pandas-docs/stable/user_guide/indexing.html#returning-a-view-versus-a-copy\n",
      "\n",
      "C:\\Users\\rgbej\\AppData\\Local\\Temp\\ipykernel_9592\\2283071605.py:9: SettingWithCopyWarning:\n",
      "\n",
      "\n",
      "A value is trying to be set on a copy of a slice from a DataFrame.\n",
      "Try using .loc[row_indexer,col_indexer] = value instead\n",
      "\n",
      "See the caveats in the documentation: https://pandas.pydata.org/pandas-docs/stable/user_guide/indexing.html#returning-a-view-versus-a-copy\n",
      "\n",
      "C:\\Users\\rgbej\\AppData\\Local\\Temp\\ipykernel_9592\\2283071605.py:9: SettingWithCopyWarning:\n",
      "\n",
      "\n",
      "A value is trying to be set on a copy of a slice from a DataFrame.\n",
      "Try using .loc[row_indexer,col_indexer] = value instead\n",
      "\n",
      "See the caveats in the documentation: https://pandas.pydata.org/pandas-docs/stable/user_guide/indexing.html#returning-a-view-versus-a-copy\n",
      "\n",
      "C:\\Users\\rgbej\\AppData\\Local\\Temp\\ipykernel_9592\\2283071605.py:9: SettingWithCopyWarning:\n",
      "\n",
      "\n",
      "A value is trying to be set on a copy of a slice from a DataFrame.\n",
      "Try using .loc[row_indexer,col_indexer] = value instead\n",
      "\n",
      "See the caveats in the documentation: https://pandas.pydata.org/pandas-docs/stable/user_guide/indexing.html#returning-a-view-versus-a-copy\n",
      "\n",
      "C:\\Users\\rgbej\\AppData\\Local\\Temp\\ipykernel_9592\\2283071605.py:9: SettingWithCopyWarning:\n",
      "\n",
      "\n",
      "A value is trying to be set on a copy of a slice from a DataFrame.\n",
      "Try using .loc[row_indexer,col_indexer] = value instead\n",
      "\n",
      "See the caveats in the documentation: https://pandas.pydata.org/pandas-docs/stable/user_guide/indexing.html#returning-a-view-versus-a-copy\n",
      "\n",
      "C:\\Users\\rgbej\\AppData\\Local\\Temp\\ipykernel_9592\\2283071605.py:9: SettingWithCopyWarning:\n",
      "\n",
      "\n",
      "A value is trying to be set on a copy of a slice from a DataFrame.\n",
      "Try using .loc[row_indexer,col_indexer] = value instead\n",
      "\n",
      "See the caveats in the documentation: https://pandas.pydata.org/pandas-docs/stable/user_guide/indexing.html#returning-a-view-versus-a-copy\n",
      "\n",
      "C:\\Users\\rgbej\\AppData\\Local\\Temp\\ipykernel_9592\\2283071605.py:9: SettingWithCopyWarning:\n",
      "\n",
      "\n",
      "A value is trying to be set on a copy of a slice from a DataFrame.\n",
      "Try using .loc[row_indexer,col_indexer] = value instead\n",
      "\n",
      "See the caveats in the documentation: https://pandas.pydata.org/pandas-docs/stable/user_guide/indexing.html#returning-a-view-versus-a-copy\n",
      "\n",
      "C:\\Users\\rgbej\\AppData\\Local\\Temp\\ipykernel_9592\\2283071605.py:9: SettingWithCopyWarning:\n",
      "\n",
      "\n",
      "A value is trying to be set on a copy of a slice from a DataFrame.\n",
      "Try using .loc[row_indexer,col_indexer] = value instead\n",
      "\n",
      "See the caveats in the documentation: https://pandas.pydata.org/pandas-docs/stable/user_guide/indexing.html#returning-a-view-versus-a-copy\n",
      "\n",
      "C:\\Users\\rgbej\\AppData\\Local\\Temp\\ipykernel_9592\\2283071605.py:9: SettingWithCopyWarning:\n",
      "\n",
      "\n",
      "A value is trying to be set on a copy of a slice from a DataFrame.\n",
      "Try using .loc[row_indexer,col_indexer] = value instead\n",
      "\n",
      "See the caveats in the documentation: https://pandas.pydata.org/pandas-docs/stable/user_guide/indexing.html#returning-a-view-versus-a-copy\n",
      "\n",
      "C:\\Users\\rgbej\\AppData\\Local\\Temp\\ipykernel_9592\\2283071605.py:9: SettingWithCopyWarning:\n",
      "\n",
      "\n",
      "A value is trying to be set on a copy of a slice from a DataFrame.\n",
      "Try using .loc[row_indexer,col_indexer] = value instead\n",
      "\n",
      "See the caveats in the documentation: https://pandas.pydata.org/pandas-docs/stable/user_guide/indexing.html#returning-a-view-versus-a-copy\n",
      "\n",
      "C:\\Users\\rgbej\\AppData\\Local\\Temp\\ipykernel_9592\\2283071605.py:9: SettingWithCopyWarning:\n",
      "\n",
      "\n",
      "A value is trying to be set on a copy of a slice from a DataFrame.\n",
      "Try using .loc[row_indexer,col_indexer] = value instead\n",
      "\n",
      "See the caveats in the documentation: https://pandas.pydata.org/pandas-docs/stable/user_guide/indexing.html#returning-a-view-versus-a-copy\n",
      "\n",
      "C:\\Users\\rgbej\\AppData\\Local\\Temp\\ipykernel_9592\\2283071605.py:9: SettingWithCopyWarning:\n",
      "\n",
      "\n",
      "A value is trying to be set on a copy of a slice from a DataFrame.\n",
      "Try using .loc[row_indexer,col_indexer] = value instead\n",
      "\n",
      "See the caveats in the documentation: https://pandas.pydata.org/pandas-docs/stable/user_guide/indexing.html#returning-a-view-versus-a-copy\n",
      "\n",
      "C:\\Users\\rgbej\\AppData\\Local\\Temp\\ipykernel_9592\\2283071605.py:9: SettingWithCopyWarning:\n",
      "\n",
      "\n",
      "A value is trying to be set on a copy of a slice from a DataFrame.\n",
      "Try using .loc[row_indexer,col_indexer] = value instead\n",
      "\n",
      "See the caveats in the documentation: https://pandas.pydata.org/pandas-docs/stable/user_guide/indexing.html#returning-a-view-versus-a-copy\n",
      "\n",
      "C:\\Users\\rgbej\\AppData\\Local\\Temp\\ipykernel_9592\\2283071605.py:9: SettingWithCopyWarning:\n",
      "\n",
      "\n",
      "A value is trying to be set on a copy of a slice from a DataFrame.\n",
      "Try using .loc[row_indexer,col_indexer] = value instead\n",
      "\n",
      "See the caveats in the documentation: https://pandas.pydata.org/pandas-docs/stable/user_guide/indexing.html#returning-a-view-versus-a-copy\n",
      "\n"
     ]
    }
   ],
   "source": [
    "stats = ['Crossing', 'Finishing', 'Heading Accuracy', 'Short Passing', 'Volleys',\n",
    "    'Dribbling', 'Curve', 'Freekick Accuracy', 'LongPassing', 'BallControl',\n",
    "    'Acceleration', 'Sprint Speed', 'Agility', 'Reactions', 'Balance',\n",
    "    'Shot Power', 'Jumping', 'Stamina', 'Strength', 'Long Shots',\n",
    "    'Aggression', 'Interceptions', 'Positioning', 'Vision',\n",
    "    'Composure', 'Marking', 'Standing Tackle', 'Sliding Tackle']\n",
    "\n",
    "for col in stats:\n",
    "    df_field_players[col] = df_field_players[col] / df['Overall']\n",
    "\n",
    "features = [\n",
    "    'Height(in cm)', 'Weight(in kg)',\n",
    "    'Crossing', 'Finishing', 'Heading Accuracy', 'Short Passing', 'Volleys',\n",
    "    'Dribbling', 'Curve', 'Freekick Accuracy', 'LongPassing', 'BallControl',\n",
    "    'Acceleration', 'Sprint Speed', 'Agility', 'Reactions', 'Balance',\n",
    "    'Shot Power', 'Jumping', 'Stamina', 'Strength', 'Long Shots',\n",
    "    'Aggression', 'Interceptions', 'Positioning', 'Vision',\n",
    "    'Composure', 'Marking', 'Standing Tackle', 'Sliding Tackle'\n",
    "]"
   ]
  },
  {
   "cell_type": "code",
   "execution_count": 109,
   "id": "9d9aad51",
   "metadata": {},
   "outputs": [
    {
     "name": "stderr",
     "output_type": "stream",
     "text": [
      "C:\\Users\\rgbej\\AppData\\Local\\Temp\\ipykernel_9592\\3253962679.py:7: SettingWithCopyWarning:\n",
      "\n",
      "\n",
      "A value is trying to be set on a copy of a slice from a DataFrame.\n",
      "Try using .loc[row_indexer,col_indexer] = value instead\n",
      "\n",
      "See the caveats in the documentation: https://pandas.pydata.org/pandas-docs/stable/user_guide/indexing.html#returning-a-view-versus-a-copy\n",
      "\n"
     ]
    }
   ],
   "source": [
    "position_groups = {\n",
    "    'CB': 'DEF', 'LB': 'DEF', 'RB': 'DEF', 'LWB': 'DEF', 'RWB': 'DEF',\n",
    "    'CDM': 'MID', 'CM': 'MID', 'CAM': 'MID', 'LM': 'MID', 'RM': 'MID',\n",
    "    'ST': 'FWD', 'CF': 'FWD', 'LW': 'FWD', 'RW': 'FWD'\n",
    "}\n",
    "\n",
    "df_field_players['Position Group'] = df_field_players['Best Position'].map(position_groups)"
   ]
  },
  {
   "cell_type": "markdown",
   "id": "dd225397",
   "metadata": {},
   "source": [
    "## Defensas"
   ]
  },
  {
   "cell_type": "code",
   "execution_count": 110,
   "id": "668b1c04",
   "metadata": {},
   "outputs": [
    {
     "name": "stdout",
     "output_type": "stream",
     "text": [
      "Total defenders: 6273\n",
      "         Height(in cm)  Weight(in kg)  Crossing  Heading Accuracy  \\\n",
      "cluster                                                             \n",
      "0           184.569775      77.924436  0.772126          0.970801   \n",
      "1           189.170897      82.683587  0.564193          1.012869   \n",
      "2           185.986882      78.422805  0.557086          0.974701   \n",
      "3           178.100924      72.318408  0.963614          0.822647   \n",
      "4           177.100760      70.941065  0.921653          0.796184   \n",
      "\n",
      "         Short Passing  Dribbling  LongPassing  BallControl  Acceleration  \\\n",
      "cluster                                                                     \n",
      "0             0.958343   0.839535     0.895835     0.918024      0.958454   \n",
      "1             0.901447   0.672451     0.829791     0.830181      0.723861   \n",
      "2             0.811345   0.620383     0.682849     0.754252      1.004760   \n",
      "3             0.952262   0.947087     0.868876     0.956607      1.072662   \n",
      "4             0.882283   0.931509     0.772470     0.909953      1.213393   \n",
      "\n",
      "         Sprint Speed  ...   Jumping   Stamina  Strength  Aggression  \\\n",
      "cluster                ...                                             \n",
      "0            0.984894  ...  1.104424  1.026421  1.117990    1.023165   \n",
      "1            0.773078  ...  1.012880  0.915255  1.173036    1.030686   \n",
      "2            1.023334  ...  1.187910  1.022188  1.186044    0.970570   \n",
      "3            1.072494  ...  0.968619  1.066797  0.938035    0.935679   \n",
      "4            1.210006  ...  1.095722  1.142278  0.985819    0.950392   \n",
      "\n",
      "         Interceptions  Positioning  Composure   Marking  Standing Tackle  \\\n",
      "cluster                                                                     \n",
      "0             0.981584     0.688113   0.904333  0.980754         1.007559   \n",
      "1             0.985647     0.498173   0.901149  0.999014         1.016070   \n",
      "2             0.973030     0.493665   0.799040  0.982023         1.044478   \n",
      "3             0.942592     0.858185   0.900750  0.937166         0.972060   \n",
      "4             0.911019     0.816131   0.816267  0.895278         0.960222   \n",
      "\n",
      "         Sliding Tackle  \n",
      "cluster                  \n",
      "0              0.980091  \n",
      "1              0.975928  \n",
      "2              1.008791  \n",
      "3              0.953685  \n",
      "4              0.944774  \n",
      "\n",
      "[5 rows x 23 columns]\n"
     ]
    }
   ],
   "source": [
    "df_defenders = df_field_players[df_field_players['Position Group'] == 'DEF'].copy()\n",
    "\n",
    "print(f\"Total defenders: {df_defenders.shape[0]}\")\n",
    "\n",
    "defense_features = [\n",
    "    'Height(in cm)', 'Weight(in kg)',\n",
    "    'Crossing', 'Heading Accuracy', 'Short Passing',\n",
    "    'Dribbling', 'LongPassing', 'BallControl',\n",
    "    'Acceleration', 'Sprint Speed', 'Agility', 'Reactions', 'Balance',\n",
    "    'Jumping', 'Stamina', 'Strength',\n",
    "    'Aggression', 'Interceptions', 'Positioning',\n",
    "    'Composure', 'Marking', 'Standing Tackle', 'Sliding Tackle'\n",
    "]\n",
    "\n",
    "X_defenders = df_defenders[defense_features].dropna()\n",
    "\n",
    "scaler = StandardScaler()\n",
    "X_defenders_scaled = scaler.fit_transform(X_defenders)\n",
    "\n",
    "kmeans = KMeans(n_clusters=5, random_state=42, n_init=10)\n",
    "kmeans.fit(X_defenders_scaled)\n",
    "\n",
    "df_defenders['cluster'] = kmeans.labels_\n",
    "\n",
    "cluster_means = df_defenders.groupby('cluster')[defense_features].mean()\n",
    "print(cluster_means)\n"
   ]
  },
  {
   "cell_type": "code",
   "execution_count": 111,
   "id": "18500ad5",
   "metadata": {},
   "outputs": [
    {
     "name": "stdout",
     "output_type": "stream",
     "text": [
      "\n",
      "🔹 Aggressive Fast CB\n"
     ]
    },
    {
     "data": {
      "text/html": [
       "<div>\n",
       "<style scoped>\n",
       "    .dataframe tbody tr th:only-of-type {\n",
       "        vertical-align: middle;\n",
       "    }\n",
       "\n",
       "    .dataframe tbody tr th {\n",
       "        vertical-align: top;\n",
       "    }\n",
       "\n",
       "    .dataframe thead th {\n",
       "        text-align: right;\n",
       "    }\n",
       "</style>\n",
       "<table border=\"1\" class=\"dataframe\">\n",
       "  <thead>\n",
       "    <tr style=\"text-align: right;\">\n",
       "      <th></th>\n",
       "      <th>Known As</th>\n",
       "      <th>Best Position</th>\n",
       "      <th>Overall</th>\n",
       "      <th>Height(in cm)</th>\n",
       "    </tr>\n",
       "  </thead>\n",
       "  <tbody>\n",
       "    <tr>\n",
       "      <th>308</th>\n",
       "      <td>Heberto Gaúcho</td>\n",
       "      <td>CB</td>\n",
       "      <td>81</td>\n",
       "      <td>181</td>\n",
       "    </tr>\n",
       "    <tr>\n",
       "      <th>543</th>\n",
       "      <td>Ibañez</td>\n",
       "      <td>CB</td>\n",
       "      <td>79</td>\n",
       "      <td>185</td>\n",
       "    </tr>\n",
       "    <tr>\n",
       "      <th>844</th>\n",
       "      <td>J. Aidoo</td>\n",
       "      <td>CB</td>\n",
       "      <td>78</td>\n",
       "      <td>184</td>\n",
       "    </tr>\n",
       "    <tr>\n",
       "      <th>1269</th>\n",
       "      <td>Antonaldinho</td>\n",
       "      <td>CB</td>\n",
       "      <td>76</td>\n",
       "      <td>188</td>\n",
       "    </tr>\n",
       "    <tr>\n",
       "      <th>1319</th>\n",
       "      <td>Igor</td>\n",
       "      <td>CB</td>\n",
       "      <td>76</td>\n",
       "      <td>185</td>\n",
       "    </tr>\n",
       "  </tbody>\n",
       "</table>\n",
       "</div>"
      ],
      "text/plain": [
       "            Known As Best Position  Overall  Height(in cm)\n",
       "308   Heberto Gaúcho            CB       81            181\n",
       "543           Ibañez            CB       79            185\n",
       "844         J. Aidoo            CB       78            184\n",
       "1269    Antonaldinho            CB       76            188\n",
       "1319            Igor            CB       76            185"
      ]
     },
     "metadata": {},
     "output_type": "display_data"
    },
    {
     "name": "stdout",
     "output_type": "stream",
     "text": [
      "\n",
      "🔹 Attacking Wing-Back\n"
     ]
    },
    {
     "data": {
      "text/html": [
       "<div>\n",
       "<style scoped>\n",
       "    .dataframe tbody tr th:only-of-type {\n",
       "        vertical-align: middle;\n",
       "    }\n",
       "\n",
       "    .dataframe tbody tr th {\n",
       "        vertical-align: top;\n",
       "    }\n",
       "\n",
       "    .dataframe thead th {\n",
       "        text-align: right;\n",
       "    }\n",
       "</style>\n",
       "<table border=\"1\" class=\"dataframe\">\n",
       "  <thead>\n",
       "    <tr style=\"text-align: right;\">\n",
       "      <th></th>\n",
       "      <th>Known As</th>\n",
       "      <th>Best Position</th>\n",
       "      <th>Overall</th>\n",
       "      <th>Height(in cm)</th>\n",
       "    </tr>\n",
       "  </thead>\n",
       "  <tbody>\n",
       "    <tr>\n",
       "      <th>1209</th>\n",
       "      <td>L. Advíncula</td>\n",
       "      <td>RB</td>\n",
       "      <td>76</td>\n",
       "      <td>180</td>\n",
       "    </tr>\n",
       "    <tr>\n",
       "      <th>1851</th>\n",
       "      <td>R. Henry</td>\n",
       "      <td>LWB</td>\n",
       "      <td>75</td>\n",
       "      <td>170</td>\n",
       "    </tr>\n",
       "    <tr>\n",
       "      <th>1926</th>\n",
       "      <td>Luis Pérez</td>\n",
       "      <td>RB</td>\n",
       "      <td>74</td>\n",
       "      <td>174</td>\n",
       "    </tr>\n",
       "    <tr>\n",
       "      <th>2055</th>\n",
       "      <td>R. Cannon</td>\n",
       "      <td>RWB</td>\n",
       "      <td>74</td>\n",
       "      <td>180</td>\n",
       "    </tr>\n",
       "    <tr>\n",
       "      <th>2074</th>\n",
       "      <td>F. Sacko</td>\n",
       "      <td>RB</td>\n",
       "      <td>74</td>\n",
       "      <td>179</td>\n",
       "    </tr>\n",
       "  </tbody>\n",
       "</table>\n",
       "</div>"
      ],
      "text/plain": [
       "          Known As Best Position  Overall  Height(in cm)\n",
       "1209  L. Advíncula            RB       76            180\n",
       "1851      R. Henry           LWB       75            170\n",
       "1926    Luis Pérez            RB       74            174\n",
       "2055     R. Cannon           RWB       74            180\n",
       "2074      F. Sacko            RB       74            179"
      ]
     },
     "metadata": {},
     "output_type": "display_data"
    },
    {
     "name": "stdout",
     "output_type": "stream",
     "text": [
      "\n",
      "🔹 Ball-Playing CB\n"
     ]
    },
    {
     "data": {
      "text/html": [
       "<div>\n",
       "<style scoped>\n",
       "    .dataframe tbody tr th:only-of-type {\n",
       "        vertical-align: middle;\n",
       "    }\n",
       "\n",
       "    .dataframe tbody tr th {\n",
       "        vertical-align: top;\n",
       "    }\n",
       "\n",
       "    .dataframe thead th {\n",
       "        text-align: right;\n",
       "    }\n",
       "</style>\n",
       "<table border=\"1\" class=\"dataframe\">\n",
       "  <thead>\n",
       "    <tr style=\"text-align: right;\">\n",
       "      <th></th>\n",
       "      <th>Known As</th>\n",
       "      <th>Best Position</th>\n",
       "      <th>Overall</th>\n",
       "      <th>Height(in cm)</th>\n",
       "    </tr>\n",
       "  </thead>\n",
       "  <tbody>\n",
       "    <tr>\n",
       "      <th>25</th>\n",
       "      <td>Marquinhos</td>\n",
       "      <td>CB</td>\n",
       "      <td>88</td>\n",
       "      <td>183</td>\n",
       "    </tr>\n",
       "    <tr>\n",
       "      <th>46</th>\n",
       "      <td>D. Alaba</td>\n",
       "      <td>CB</td>\n",
       "      <td>86</td>\n",
       "      <td>180</td>\n",
       "    </tr>\n",
       "    <tr>\n",
       "      <th>91</th>\n",
       "      <td>L. Hernández</td>\n",
       "      <td>CB</td>\n",
       "      <td>84</td>\n",
       "      <td>184</td>\n",
       "    </tr>\n",
       "    <tr>\n",
       "      <th>129</th>\n",
       "      <td>J. Koundé</td>\n",
       "      <td>CB</td>\n",
       "      <td>84</td>\n",
       "      <td>181</td>\n",
       "    </tr>\n",
       "    <tr>\n",
       "      <th>133</th>\n",
       "      <td>Éder Militão</td>\n",
       "      <td>CB</td>\n",
       "      <td>84</td>\n",
       "      <td>186</td>\n",
       "    </tr>\n",
       "  </tbody>\n",
       "</table>\n",
       "</div>"
      ],
      "text/plain": [
       "         Known As Best Position  Overall  Height(in cm)\n",
       "25     Marquinhos            CB       88            183\n",
       "46       D. Alaba            CB       86            180\n",
       "91   L. Hernández            CB       84            184\n",
       "129     J. Koundé            CB       84            181\n",
       "133  Éder Militão            CB       84            186"
      ]
     },
     "metadata": {},
     "output_type": "display_data"
    },
    {
     "name": "stdout",
     "output_type": "stream",
     "text": [
      "\n",
      "🔹 Mix Full-Back\n"
     ]
    },
    {
     "data": {
      "text/html": [
       "<div>\n",
       "<style scoped>\n",
       "    .dataframe tbody tr th:only-of-type {\n",
       "        vertical-align: middle;\n",
       "    }\n",
       "\n",
       "    .dataframe tbody tr th {\n",
       "        vertical-align: top;\n",
       "    }\n",
       "\n",
       "    .dataframe thead th {\n",
       "        text-align: right;\n",
       "    }\n",
       "</style>\n",
       "<table border=\"1\" class=\"dataframe\">\n",
       "  <thead>\n",
       "    <tr style=\"text-align: right;\">\n",
       "      <th></th>\n",
       "      <th>Known As</th>\n",
       "      <th>Best Position</th>\n",
       "      <th>Overall</th>\n",
       "      <th>Height(in cm)</th>\n",
       "    </tr>\n",
       "  </thead>\n",
       "  <tbody>\n",
       "    <tr>\n",
       "      <th>24</th>\n",
       "      <td>João Cancelo</td>\n",
       "      <td>LB</td>\n",
       "      <td>88</td>\n",
       "      <td>182</td>\n",
       "    </tr>\n",
       "    <tr>\n",
       "      <th>39</th>\n",
       "      <td>A. Robertson</td>\n",
       "      <td>LB</td>\n",
       "      <td>87</td>\n",
       "      <td>178</td>\n",
       "    </tr>\n",
       "    <tr>\n",
       "      <th>69</th>\n",
       "      <td>K. Walker</td>\n",
       "      <td>RB</td>\n",
       "      <td>85</td>\n",
       "      <td>183</td>\n",
       "    </tr>\n",
       "    <tr>\n",
       "      <th>71</th>\n",
       "      <td>Jordi Alba</td>\n",
       "      <td>LB</td>\n",
       "      <td>85</td>\n",
       "      <td>170</td>\n",
       "    </tr>\n",
       "    <tr>\n",
       "      <th>77</th>\n",
       "      <td>M. Acuña</td>\n",
       "      <td>LB</td>\n",
       "      <td>85</td>\n",
       "      <td>172</td>\n",
       "    </tr>\n",
       "  </tbody>\n",
       "</table>\n",
       "</div>"
      ],
      "text/plain": [
       "        Known As Best Position  Overall  Height(in cm)\n",
       "24  João Cancelo            LB       88            182\n",
       "39  A. Robertson            LB       87            178\n",
       "69     K. Walker            RB       85            183\n",
       "71    Jordi Alba            LB       85            170\n",
       "77      M. Acuña            LB       85            172"
      ]
     },
     "metadata": {},
     "output_type": "display_data"
    },
    {
     "name": "stdout",
     "output_type": "stream",
     "text": [
      "\n",
      "🔹 Physical Tower CB\n"
     ]
    },
    {
     "data": {
      "text/html": [
       "<div>\n",
       "<style scoped>\n",
       "    .dataframe tbody tr th:only-of-type {\n",
       "        vertical-align: middle;\n",
       "    }\n",
       "\n",
       "    .dataframe tbody tr th {\n",
       "        vertical-align: top;\n",
       "    }\n",
       "\n",
       "    .dataframe thead th {\n",
       "        text-align: right;\n",
       "    }\n",
       "</style>\n",
       "<table border=\"1\" class=\"dataframe\">\n",
       "  <thead>\n",
       "    <tr style=\"text-align: right;\">\n",
       "      <th></th>\n",
       "      <th>Known As</th>\n",
       "      <th>Best Position</th>\n",
       "      <th>Overall</th>\n",
       "      <th>Height(in cm)</th>\n",
       "    </tr>\n",
       "  </thead>\n",
       "  <tbody>\n",
       "    <tr>\n",
       "      <th>9</th>\n",
       "      <td>V. van Dijk</td>\n",
       "      <td>CB</td>\n",
       "      <td>90</td>\n",
       "      <td>193</td>\n",
       "    </tr>\n",
       "    <tr>\n",
       "      <th>20</th>\n",
       "      <td>Rúben Dias</td>\n",
       "      <td>CB</td>\n",
       "      <td>88</td>\n",
       "      <td>187</td>\n",
       "    </tr>\n",
       "    <tr>\n",
       "      <th>30</th>\n",
       "      <td>A. Rüdiger</td>\n",
       "      <td>CB</td>\n",
       "      <td>87</td>\n",
       "      <td>190</td>\n",
       "    </tr>\n",
       "    <tr>\n",
       "      <th>40</th>\n",
       "      <td>K. Koulibaly</td>\n",
       "      <td>CB</td>\n",
       "      <td>87</td>\n",
       "      <td>187</td>\n",
       "    </tr>\n",
       "    <tr>\n",
       "      <th>50</th>\n",
       "      <td>Thiago Silva</td>\n",
       "      <td>CB</td>\n",
       "      <td>86</td>\n",
       "      <td>183</td>\n",
       "    </tr>\n",
       "  </tbody>\n",
       "</table>\n",
       "</div>"
      ],
      "text/plain": [
       "        Known As Best Position  Overall  Height(in cm)\n",
       "9    V. van Dijk            CB       90            193\n",
       "20    Rúben Dias            CB       88            187\n",
       "30    A. Rüdiger            CB       87            190\n",
       "40  K. Koulibaly            CB       87            187\n",
       "50  Thiago Silva            CB       86            183"
      ]
     },
     "metadata": {},
     "output_type": "display_data"
    }
   ],
   "source": [
    "archetype_names = {\n",
    "    0: \"Ball-Playing CB\",\n",
    "    1: \"Physical Tower CB\",\n",
    "    2: \"Aggressive Fast CB\",\n",
    "    3: \"Mix Full-Back\",\n",
    "    4: \"Attacking Wing-Back\"\n",
    "}\n",
    "\n",
    "df_defenders['archetype'] = df_defenders['cluster'].map(archetype_names)\n",
    "\n",
    "for archetype, group in df_defenders.groupby('archetype'):\n",
    "    print(f\"\\n🔹 {archetype}\")\n",
    "    display(group[['Known As', 'Best Position', 'Overall', 'Height(in cm)']].head(5))"
   ]
  },
  {
   "cell_type": "code",
   "execution_count": 112,
   "id": "d12cf23c",
   "metadata": {},
   "outputs": [
    {
     "data": {
      "application/vnd.plotly.v1+json": {
       "config": {
        "plotlyServerURL": "https://plot.ly"
       },
       "data": [
        {
         "fill": "toself",
         "name": "Ball-Playing CB",
         "r": {
          "bdata": "8dRhxUG16D8gwelrzRDvPxNwiSm+qu4/KKYodnjd6j9Wo5shr6rsP0/34KBzYO0/WG9Njqer7j8Jnl0UQYTvP0l5AohhV+0/q+WPk1lH7j/hHVL45kztP7l7u1i4q/E/wNDlZDhs8D9vP3g2SePxP1/UiXjiXvA/FUGUqyJp7z+HWXERBgXmP8JDU8ZK8Ow/UtRPbVZi7z++VbOO9h7wP/9NZnznXO8/",
          "dtype": "f8"
         },
         "subplot": "polar",
         "theta": [
          "Crossing",
          "Heading Accuracy",
          "Short Passing",
          "Dribbling",
          "LongPassing",
          "BallControl",
          "Acceleration",
          "Sprint Speed",
          "Agility",
          "Reactions",
          "Balance",
          "Jumping",
          "Stamina",
          "Strength",
          "Aggression",
          "Interceptions",
          "Positioning",
          "Composure",
          "Marking",
          "Standing Tackle",
          "Sliding Tackle"
         ],
         "type": "scatterpolar"
        },
        {
         "fill": "toself",
         "name": "Physical Tower CB",
         "r": {
          "bdata": "FLNbv94N4j+5I+FNtjTwP1fwy+Cn2Ow/a6yvWbeE5T8+yNiypY3qP00f2B/XkOo/4zbwTN8p5z/P/TLmDb3oP/c4/hsiuOU/XHAnBwz37T+6VmvQf17mP8ZGxkDBNPA/19lYfMRJ7T9vFh5WwcTyP9oHiESwffA/pUR1y2uK7z++e3kqEOLfP+m60nY11uw/FUzUTuv37z+6fiDo0kHwP5gQZ3jMOu8/",
          "dtype": "f8"
         },
         "subplot": "polar2",
         "theta": [
          "Crossing",
          "Heading Accuracy",
          "Short Passing",
          "Dribbling",
          "LongPassing",
          "BallControl",
          "Acceleration",
          "Sprint Speed",
          "Agility",
          "Reactions",
          "Balance",
          "Jumping",
          "Stamina",
          "Strength",
          "Aggression",
          "Interceptions",
          "Positioning",
          "Composure",
          "Marking",
          "Standing Tackle",
          "Sliding Tackle"
         ],
         "type": "scatterpolar"
        },
        {
         "fill": "toself",
         "name": "Aggressive Fast CB",
         "r": {
          "bdata": "x7JgA6XT4T/J6wy7vzDvP172V52K9uk/f/4geSza4z8nSJTB5tnlP7xDmWjUIug/3FvRu38T8D/bZA51k1/wP4/ZXLi1X+s/wZQFtvfT7D/QJZoS3PLtP4BuszGuAfM/ZgfweeFa8D9SZAahCfryP1E6KADpDu8/cKILag8j7z9QrrotN5jfP+ZdF9C7kek/bI6IE7xs7z/mRjhbLrbwP9v62hwCJPA/",
          "dtype": "f8"
         },
         "subplot": "polar3",
         "theta": [
          "Crossing",
          "Heading Accuracy",
          "Short Passing",
          "Dribbling",
          "LongPassing",
          "BallControl",
          "Acceleration",
          "Sprint Speed",
          "Agility",
          "Reactions",
          "Balance",
          "Jumping",
          "Stamina",
          "Strength",
          "Aggression",
          "Interceptions",
          "Positioning",
          "Composure",
          "Marking",
          "Standing Tackle",
          "Sliding Tackle"
         ],
         "type": "scatterpolar"
        },
        {
         "fill": "toself",
         "name": "Mix Full-Back",
         "r": {
          "bdata": "WTHfYuzV7j++PTXhH1PqP++Y2pvteO4/z+8pz4lO7j/IHHWB1M3rP5lZzuCFnO4/ZLF05J8p8T/Am5AA7yjxP8fPrWXKXvA/6qyHbiE+7j+0ZD4oVn/wP/pMPWnt/u4/3Hgpm5kR8T/OvoZAYgTuP9us2rIU8e0/+Q5JurYp7j9+rzZuP3brP5FOBbDy0uw/rnOmokL97T/Vy/aPHBvvP663A9yWhO4/",
          "dtype": "f8"
         },
         "subplot": "polar4",
         "theta": [
          "Crossing",
          "Heading Accuracy",
          "Short Passing",
          "Dribbling",
          "LongPassing",
          "BallControl",
          "Acceleration",
          "Sprint Speed",
          "Agility",
          "Reactions",
          "Balance",
          "Jumping",
          "Stamina",
          "Strength",
          "Aggression",
          "Interceptions",
          "Positioning",
          "Composure",
          "Marking",
          "Standing Tackle",
          "Sliding Tackle"
         ],
         "type": "scatterpolar"
        },
        {
         "fill": "toself",
         "name": "Attacking Wing-Back",
         "r": {
          "bdata": "b878Jy5+7T8q3fdGV3rpP2h1YIWqO+w/3I2Z9OzO7T+8PeARErjoP3U9zRdWHu0/tXh6sw5q8z83Si0sL1zzP3j1m4p7P/I/HoiLK8/W7D8PcfxFXpfyPzVOQIsTiPE/aMh9ysVG8j9d2gm+1IvvP+26D1Wcae4/h12hAxEn7T8u2YgPvx3qP6m9Bj3bHuo/AA7vdh2m7D82ZBgIJLruP7jBthaWO+4/",
          "dtype": "f8"
         },
         "subplot": "polar5",
         "theta": [
          "Crossing",
          "Heading Accuracy",
          "Short Passing",
          "Dribbling",
          "LongPassing",
          "BallControl",
          "Acceleration",
          "Sprint Speed",
          "Agility",
          "Reactions",
          "Balance",
          "Jumping",
          "Stamina",
          "Strength",
          "Aggression",
          "Interceptions",
          "Positioning",
          "Composure",
          "Marking",
          "Standing Tackle",
          "Sliding Tackle"
         ],
         "type": "scatterpolar"
        }
       ],
       "layout": {
        "annotations": [
         {
          "font": {
           "size": 16
          },
          "showarrow": false,
          "text": "Ball-Playing CB",
          "x": 0.14444444444444446,
          "xanchor": "center",
          "xref": "paper",
          "y": 1,
          "yanchor": "bottom",
          "yref": "paper"
         },
         {
          "font": {
           "size": 16
          },
          "showarrow": false,
          "text": "Physical Tower CB",
          "x": 0.5,
          "xanchor": "center",
          "xref": "paper",
          "y": 1,
          "yanchor": "bottom",
          "yref": "paper"
         },
         {
          "font": {
           "size": 16
          },
          "showarrow": false,
          "text": "Aggressive Fast CB",
          "x": 0.8555555555555556,
          "xanchor": "center",
          "xref": "paper",
          "y": 1,
          "yanchor": "bottom",
          "yref": "paper"
         },
         {
          "font": {
           "size": 16
          },
          "showarrow": false,
          "text": "Mix Full-Back",
          "x": 0.14444444444444446,
          "xanchor": "center",
          "xref": "paper",
          "y": 0.375,
          "yanchor": "bottom",
          "yref": "paper"
         },
         {
          "font": {
           "size": 16
          },
          "showarrow": false,
          "text": "Attacking Wing-Back",
          "x": 0.5,
          "xanchor": "center",
          "xref": "paper",
          "y": 0.375,
          "yanchor": "bottom",
          "yref": "paper"
         }
        ],
        "height": 800,
        "polar": {
         "domain": {
          "x": [
           0,
           0.2888888888888889
          ],
          "y": [
           0.625,
           1
          ]
         }
        },
        "polar2": {
         "domain": {
          "x": [
           0.35555555555555557,
           0.6444444444444445
          ],
          "y": [
           0.625,
           1
          ]
         }
        },
        "polar3": {
         "domain": {
          "x": [
           0.7111111111111111,
           1
          ],
          "y": [
           0.625,
           1
          ]
         }
        },
        "polar4": {
         "domain": {
          "x": [
           0,
           0.2888888888888889
          ],
          "y": [
           0,
           0.375
          ]
         }
        },
        "polar5": {
         "domain": {
          "x": [
           0.35555555555555557,
           0.6444444444444445
          ],
          "y": [
           0,
           0.375
          ]
         }
        },
        "showlegend": false,
        "template": {
         "data": {
          "bar": [
           {
            "error_x": {
             "color": "#2a3f5f"
            },
            "error_y": {
             "color": "#2a3f5f"
            },
            "marker": {
             "line": {
              "color": "#E5ECF6",
              "width": 0.5
             },
             "pattern": {
              "fillmode": "overlay",
              "size": 10,
              "solidity": 0.2
             }
            },
            "type": "bar"
           }
          ],
          "barpolar": [
           {
            "marker": {
             "line": {
              "color": "#E5ECF6",
              "width": 0.5
             },
             "pattern": {
              "fillmode": "overlay",
              "size": 10,
              "solidity": 0.2
             }
            },
            "type": "barpolar"
           }
          ],
          "carpet": [
           {
            "aaxis": {
             "endlinecolor": "#2a3f5f",
             "gridcolor": "white",
             "linecolor": "white",
             "minorgridcolor": "white",
             "startlinecolor": "#2a3f5f"
            },
            "baxis": {
             "endlinecolor": "#2a3f5f",
             "gridcolor": "white",
             "linecolor": "white",
             "minorgridcolor": "white",
             "startlinecolor": "#2a3f5f"
            },
            "type": "carpet"
           }
          ],
          "choropleth": [
           {
            "colorbar": {
             "outlinewidth": 0,
             "ticks": ""
            },
            "type": "choropleth"
           }
          ],
          "contour": [
           {
            "colorbar": {
             "outlinewidth": 0,
             "ticks": ""
            },
            "colorscale": [
             [
              0,
              "#0d0887"
             ],
             [
              0.1111111111111111,
              "#46039f"
             ],
             [
              0.2222222222222222,
              "#7201a8"
             ],
             [
              0.3333333333333333,
              "#9c179e"
             ],
             [
              0.4444444444444444,
              "#bd3786"
             ],
             [
              0.5555555555555556,
              "#d8576b"
             ],
             [
              0.6666666666666666,
              "#ed7953"
             ],
             [
              0.7777777777777778,
              "#fb9f3a"
             ],
             [
              0.8888888888888888,
              "#fdca26"
             ],
             [
              1,
              "#f0f921"
             ]
            ],
            "type": "contour"
           }
          ],
          "contourcarpet": [
           {
            "colorbar": {
             "outlinewidth": 0,
             "ticks": ""
            },
            "type": "contourcarpet"
           }
          ],
          "heatmap": [
           {
            "colorbar": {
             "outlinewidth": 0,
             "ticks": ""
            },
            "colorscale": [
             [
              0,
              "#0d0887"
             ],
             [
              0.1111111111111111,
              "#46039f"
             ],
             [
              0.2222222222222222,
              "#7201a8"
             ],
             [
              0.3333333333333333,
              "#9c179e"
             ],
             [
              0.4444444444444444,
              "#bd3786"
             ],
             [
              0.5555555555555556,
              "#d8576b"
             ],
             [
              0.6666666666666666,
              "#ed7953"
             ],
             [
              0.7777777777777778,
              "#fb9f3a"
             ],
             [
              0.8888888888888888,
              "#fdca26"
             ],
             [
              1,
              "#f0f921"
             ]
            ],
            "type": "heatmap"
           }
          ],
          "histogram": [
           {
            "marker": {
             "pattern": {
              "fillmode": "overlay",
              "size": 10,
              "solidity": 0.2
             }
            },
            "type": "histogram"
           }
          ],
          "histogram2d": [
           {
            "colorbar": {
             "outlinewidth": 0,
             "ticks": ""
            },
            "colorscale": [
             [
              0,
              "#0d0887"
             ],
             [
              0.1111111111111111,
              "#46039f"
             ],
             [
              0.2222222222222222,
              "#7201a8"
             ],
             [
              0.3333333333333333,
              "#9c179e"
             ],
             [
              0.4444444444444444,
              "#bd3786"
             ],
             [
              0.5555555555555556,
              "#d8576b"
             ],
             [
              0.6666666666666666,
              "#ed7953"
             ],
             [
              0.7777777777777778,
              "#fb9f3a"
             ],
             [
              0.8888888888888888,
              "#fdca26"
             ],
             [
              1,
              "#f0f921"
             ]
            ],
            "type": "histogram2d"
           }
          ],
          "histogram2dcontour": [
           {
            "colorbar": {
             "outlinewidth": 0,
             "ticks": ""
            },
            "colorscale": [
             [
              0,
              "#0d0887"
             ],
             [
              0.1111111111111111,
              "#46039f"
             ],
             [
              0.2222222222222222,
              "#7201a8"
             ],
             [
              0.3333333333333333,
              "#9c179e"
             ],
             [
              0.4444444444444444,
              "#bd3786"
             ],
             [
              0.5555555555555556,
              "#d8576b"
             ],
             [
              0.6666666666666666,
              "#ed7953"
             ],
             [
              0.7777777777777778,
              "#fb9f3a"
             ],
             [
              0.8888888888888888,
              "#fdca26"
             ],
             [
              1,
              "#f0f921"
             ]
            ],
            "type": "histogram2dcontour"
           }
          ],
          "mesh3d": [
           {
            "colorbar": {
             "outlinewidth": 0,
             "ticks": ""
            },
            "type": "mesh3d"
           }
          ],
          "parcoords": [
           {
            "line": {
             "colorbar": {
              "outlinewidth": 0,
              "ticks": ""
             }
            },
            "type": "parcoords"
           }
          ],
          "pie": [
           {
            "automargin": true,
            "type": "pie"
           }
          ],
          "scatter": [
           {
            "fillpattern": {
             "fillmode": "overlay",
             "size": 10,
             "solidity": 0.2
            },
            "type": "scatter"
           }
          ],
          "scatter3d": [
           {
            "line": {
             "colorbar": {
              "outlinewidth": 0,
              "ticks": ""
             }
            },
            "marker": {
             "colorbar": {
              "outlinewidth": 0,
              "ticks": ""
             }
            },
            "type": "scatter3d"
           }
          ],
          "scattercarpet": [
           {
            "marker": {
             "colorbar": {
              "outlinewidth": 0,
              "ticks": ""
             }
            },
            "type": "scattercarpet"
           }
          ],
          "scattergeo": [
           {
            "marker": {
             "colorbar": {
              "outlinewidth": 0,
              "ticks": ""
             }
            },
            "type": "scattergeo"
           }
          ],
          "scattergl": [
           {
            "marker": {
             "colorbar": {
              "outlinewidth": 0,
              "ticks": ""
             }
            },
            "type": "scattergl"
           }
          ],
          "scattermap": [
           {
            "marker": {
             "colorbar": {
              "outlinewidth": 0,
              "ticks": ""
             }
            },
            "type": "scattermap"
           }
          ],
          "scattermapbox": [
           {
            "marker": {
             "colorbar": {
              "outlinewidth": 0,
              "ticks": ""
             }
            },
            "type": "scattermapbox"
           }
          ],
          "scatterpolar": [
           {
            "marker": {
             "colorbar": {
              "outlinewidth": 0,
              "ticks": ""
             }
            },
            "type": "scatterpolar"
           }
          ],
          "scatterpolargl": [
           {
            "marker": {
             "colorbar": {
              "outlinewidth": 0,
              "ticks": ""
             }
            },
            "type": "scatterpolargl"
           }
          ],
          "scatterternary": [
           {
            "marker": {
             "colorbar": {
              "outlinewidth": 0,
              "ticks": ""
             }
            },
            "type": "scatterternary"
           }
          ],
          "surface": [
           {
            "colorbar": {
             "outlinewidth": 0,
             "ticks": ""
            },
            "colorscale": [
             [
              0,
              "#0d0887"
             ],
             [
              0.1111111111111111,
              "#46039f"
             ],
             [
              0.2222222222222222,
              "#7201a8"
             ],
             [
              0.3333333333333333,
              "#9c179e"
             ],
             [
              0.4444444444444444,
              "#bd3786"
             ],
             [
              0.5555555555555556,
              "#d8576b"
             ],
             [
              0.6666666666666666,
              "#ed7953"
             ],
             [
              0.7777777777777778,
              "#fb9f3a"
             ],
             [
              0.8888888888888888,
              "#fdca26"
             ],
             [
              1,
              "#f0f921"
             ]
            ],
            "type": "surface"
           }
          ],
          "table": [
           {
            "cells": {
             "fill": {
              "color": "#EBF0F8"
             },
             "line": {
              "color": "white"
             }
            },
            "header": {
             "fill": {
              "color": "#C8D4E3"
             },
             "line": {
              "color": "white"
             }
            },
            "type": "table"
           }
          ]
         },
         "layout": {
          "annotationdefaults": {
           "arrowcolor": "#2a3f5f",
           "arrowhead": 0,
           "arrowwidth": 1
          },
          "autotypenumbers": "strict",
          "coloraxis": {
           "colorbar": {
            "outlinewidth": 0,
            "ticks": ""
           }
          },
          "colorscale": {
           "diverging": [
            [
             0,
             "#8e0152"
            ],
            [
             0.1,
             "#c51b7d"
            ],
            [
             0.2,
             "#de77ae"
            ],
            [
             0.3,
             "#f1b6da"
            ],
            [
             0.4,
             "#fde0ef"
            ],
            [
             0.5,
             "#f7f7f7"
            ],
            [
             0.6,
             "#e6f5d0"
            ],
            [
             0.7,
             "#b8e186"
            ],
            [
             0.8,
             "#7fbc41"
            ],
            [
             0.9,
             "#4d9221"
            ],
            [
             1,
             "#276419"
            ]
           ],
           "sequential": [
            [
             0,
             "#0d0887"
            ],
            [
             0.1111111111111111,
             "#46039f"
            ],
            [
             0.2222222222222222,
             "#7201a8"
            ],
            [
             0.3333333333333333,
             "#9c179e"
            ],
            [
             0.4444444444444444,
             "#bd3786"
            ],
            [
             0.5555555555555556,
             "#d8576b"
            ],
            [
             0.6666666666666666,
             "#ed7953"
            ],
            [
             0.7777777777777778,
             "#fb9f3a"
            ],
            [
             0.8888888888888888,
             "#fdca26"
            ],
            [
             1,
             "#f0f921"
            ]
           ],
           "sequentialminus": [
            [
             0,
             "#0d0887"
            ],
            [
             0.1111111111111111,
             "#46039f"
            ],
            [
             0.2222222222222222,
             "#7201a8"
            ],
            [
             0.3333333333333333,
             "#9c179e"
            ],
            [
             0.4444444444444444,
             "#bd3786"
            ],
            [
             0.5555555555555556,
             "#d8576b"
            ],
            [
             0.6666666666666666,
             "#ed7953"
            ],
            [
             0.7777777777777778,
             "#fb9f3a"
            ],
            [
             0.8888888888888888,
             "#fdca26"
            ],
            [
             1,
             "#f0f921"
            ]
           ]
          },
          "colorway": [
           "#636efa",
           "#EF553B",
           "#00cc96",
           "#ab63fa",
           "#FFA15A",
           "#19d3f3",
           "#FF6692",
           "#B6E880",
           "#FF97FF",
           "#FECB52"
          ],
          "font": {
           "color": "#2a3f5f"
          },
          "geo": {
           "bgcolor": "white",
           "lakecolor": "white",
           "landcolor": "#E5ECF6",
           "showlakes": true,
           "showland": true,
           "subunitcolor": "white"
          },
          "hoverlabel": {
           "align": "left"
          },
          "hovermode": "closest",
          "mapbox": {
           "style": "light"
          },
          "paper_bgcolor": "white",
          "plot_bgcolor": "#E5ECF6",
          "polar": {
           "angularaxis": {
            "gridcolor": "white",
            "linecolor": "white",
            "ticks": ""
           },
           "bgcolor": "#E5ECF6",
           "radialaxis": {
            "gridcolor": "white",
            "linecolor": "white",
            "ticks": ""
           }
          },
          "scene": {
           "xaxis": {
            "backgroundcolor": "#E5ECF6",
            "gridcolor": "white",
            "gridwidth": 2,
            "linecolor": "white",
            "showbackground": true,
            "ticks": "",
            "zerolinecolor": "white"
           },
           "yaxis": {
            "backgroundcolor": "#E5ECF6",
            "gridcolor": "white",
            "gridwidth": 2,
            "linecolor": "white",
            "showbackground": true,
            "ticks": "",
            "zerolinecolor": "white"
           },
           "zaxis": {
            "backgroundcolor": "#E5ECF6",
            "gridcolor": "white",
            "gridwidth": 2,
            "linecolor": "white",
            "showbackground": true,
            "ticks": "",
            "zerolinecolor": "white"
           }
          },
          "shapedefaults": {
           "line": {
            "color": "#2a3f5f"
           }
          },
          "ternary": {
           "aaxis": {
            "gridcolor": "white",
            "linecolor": "white",
            "ticks": ""
           },
           "baxis": {
            "gridcolor": "white",
            "linecolor": "white",
            "ticks": ""
           },
           "bgcolor": "#E5ECF6",
           "caxis": {
            "gridcolor": "white",
            "linecolor": "white",
            "ticks": ""
           }
          },
          "title": {
           "x": 0.05
          },
          "xaxis": {
           "automargin": true,
           "gridcolor": "white",
           "linecolor": "white",
           "ticks": "",
           "title": {
            "standoff": 15
           },
           "zerolinecolor": "white",
           "zerolinewidth": 2
          },
          "yaxis": {
           "automargin": true,
           "gridcolor": "white",
           "linecolor": "white",
           "ticks": "",
           "title": {
            "standoff": 15
           },
           "zerolinecolor": "white",
           "zerolinewidth": 2
          }
         }
        },
        "title": {
         "text": "FIFA23 Defender Archetypes (Radar Charts)"
        },
        "width": 1200
       }
      }
     },
     "metadata": {},
     "output_type": "display_data"
    }
   ],
   "source": [
    "radar_features = [f for f in defense_features if f not in ['Height(in cm)', 'Weight(in kg)']]\n",
    "\n",
    "fig = sp.make_subplots(\n",
    "    rows=2, cols=3,  # 2 filas x 3 columnas (la última quedará vacía)\n",
    "    specs=[[{'type': 'polar'}, {'type': 'polar'}, {'type': 'polar'}],\n",
    "           [{'type': 'polar'}, {'type': 'polar'}, None]],\n",
    "    subplot_titles=list(archetype_names.values())\n",
    ")\n",
    "\n",
    "row_col_map = [(1,1), (1,2), (1,3), (2,1), (2,2)]\n",
    "\n",
    "for i, (cluster_id, archetype) in enumerate(archetype_names.items()):\n",
    "    row, col = row_col_map[i]\n",
    "    fig.add_trace(\n",
    "        go.Scatterpolar(\n",
    "            r=cluster_means.loc[cluster_id, radar_features].values,\n",
    "            theta=radar_features,\n",
    "            fill='toself',\n",
    "            name=archetype,\n",
    "        ),\n",
    "        row=row, col=col\n",
    "    )\n",
    "\n",
    "fig.update_layout(\n",
    "    height=800, width=1200,\n",
    "    title_text=\"FIFA23 Defender Archetypes (Radar Charts)\",\n",
    "    showlegend=False\n",
    ")\n",
    "\n",
    "fig.show()"
   ]
  },
  {
   "cell_type": "markdown",
   "id": "a0cb9fbe",
   "metadata": {},
   "source": [
    "## Mediocentros\n"
   ]
  },
  {
   "cell_type": "code",
   "execution_count": 113,
   "id": "95ea3cb2",
   "metadata": {},
   "outputs": [
    {
     "name": "stdout",
     "output_type": "stream",
     "text": [
      "Total midfielders: 7058\n",
      "         Height(in cm)  Weight(in kg)  Crossing  Finishing  Heading Accuracy  \\\n",
      "cluster                                                                        \n",
      "0           176.794399      70.759027  0.933574   0.930306          0.709247   \n",
      "1           181.160889      75.130804  0.918524   0.869726          0.823792   \n",
      "2           181.272081      74.837563  0.752762   0.675077          0.856674   \n",
      "3           176.096467      69.503085  0.863460   0.818207          0.781583   \n",
      "4           175.514957      69.266382  0.906118   0.915162          0.686120   \n",
      "\n",
      "         Short Passing   Volleys  Dribbling     Curve  Freekick Accuracy  ...  \\\n",
      "cluster                                                                   ...   \n",
      "0             1.004064  0.855993   1.040336  0.964757           0.908211  ...   \n",
      "1             1.033834  0.818292   0.985538  0.940150           0.891473  ...   \n",
      "2             1.025079  0.601332   0.906574  0.710399           0.684608  ...   \n",
      "3             1.041718  0.727513   1.010009  0.848499           0.774860  ...   \n",
      "4             0.938086  0.786258   1.049622  0.850245           0.737577  ...   \n",
      "\n",
      "         Strength  Long Shots  Aggression  Interceptions  Positioning  \\\n",
      "cluster                                                                 \n",
      "0        0.822277    0.938434    0.744027       0.569776     0.955796   \n",
      "1        0.988183    0.947578    0.961153       0.918239     0.935893   \n",
      "2        1.045840    0.773829    1.027704       0.968173     0.782203   \n",
      "3        0.913559    0.838505    0.938341       0.869483     0.924811   \n",
      "4        0.827061    0.835021    0.690459       0.462687     0.925408   \n",
      "\n",
      "           Vision  Composure   Marking  Standing Tackle  Sliding Tackle  \n",
      "cluster                                                                  \n",
      "0        0.988831   0.959011  0.581531         0.600498        0.555070  \n",
      "1        0.995612   0.986497  0.892245         0.932200        0.874337  \n",
      "2        0.906791   0.906783  0.950109         0.989672        0.947475  \n",
      "3        0.971598   0.934099  0.845933         0.911155        0.872098  \n",
      "4        0.905477   0.887244  0.501984         0.512088        0.493822  \n",
      "\n",
      "[5 rows x 29 columns]\n"
     ]
    }
   ],
   "source": [
    "df_midfielders = df_field_players[df_field_players['Position Group'] == 'MID'].copy()\n",
    "\n",
    "print(f\"Total midfielders: {df_midfielders.shape[0]}\")\n",
    "\n",
    "midfield_features = [\n",
    "    'Height(in cm)', 'Weight(in kg)',\n",
    "    'Crossing', 'Finishing', 'Heading Accuracy', 'Short Passing', 'Volleys',\n",
    "    'Dribbling','Curve','Freekick Accuracy', 'LongPassing', 'BallControl',\n",
    "    'Acceleration', 'Sprint Speed', 'Agility', 'Reactions', 'Balance',\n",
    "    'Jumping', 'Stamina', 'Strength','Long Shots',\n",
    "    'Aggression', 'Interceptions', 'Positioning', 'Vision',\n",
    "    'Composure', 'Marking', 'Standing Tackle', 'Sliding Tackle'\n",
    "]\n",
    "\n",
    "X_midfielders = df_midfielders[midfield_features].dropna()\n",
    "\n",
    "scaler = StandardScaler()\n",
    "X_midfielders_scaled = scaler.fit_transform(X_midfielders)\n",
    "\n",
    "\n",
    "kmeans = KMeans(n_clusters=5, random_state=42, n_init=10)\n",
    "kmeans.fit(X_midfielders_scaled)\n",
    "\n",
    "df_midfielders['cluster'] = kmeans.labels_\n",
    "\n",
    "cluster_means = df_midfielders.groupby('cluster')[midfield_features].mean()\n",
    "print(cluster_means)\n"
   ]
  },
  {
   "cell_type": "code",
   "execution_count": 114,
   "id": "0af78484",
   "metadata": {},
   "outputs": [
    {
     "name": "stdout",
     "output_type": "stream",
     "text": [
      "\n",
      "🔹 Attacking Midfielder\n"
     ]
    },
    {
     "data": {
      "text/html": [
       "<div>\n",
       "<style scoped>\n",
       "    .dataframe tbody tr th:only-of-type {\n",
       "        vertical-align: middle;\n",
       "    }\n",
       "\n",
       "    .dataframe tbody tr th {\n",
       "        vertical-align: top;\n",
       "    }\n",
       "\n",
       "    .dataframe thead th {\n",
       "        text-align: right;\n",
       "    }\n",
       "</style>\n",
       "<table border=\"1\" class=\"dataframe\">\n",
       "  <thead>\n",
       "    <tr style=\"text-align: right;\">\n",
       "      <th></th>\n",
       "      <th>Known As</th>\n",
       "      <th>Best Position</th>\n",
       "      <th>Overall</th>\n",
       "      <th>Short Passing</th>\n",
       "    </tr>\n",
       "  </thead>\n",
       "  <tbody>\n",
       "    <tr>\n",
       "      <th>0</th>\n",
       "      <td>L. Messi</td>\n",
       "      <td>CAM</td>\n",
       "      <td>91</td>\n",
       "      <td>1.000000</td>\n",
       "    </tr>\n",
       "    <tr>\n",
       "      <th>15</th>\n",
       "      <td>S. Mané</td>\n",
       "      <td>LM</td>\n",
       "      <td>89</td>\n",
       "      <td>0.943820</td>\n",
       "    </tr>\n",
       "    <tr>\n",
       "      <th>23</th>\n",
       "      <td>Bernardo Silva</td>\n",
       "      <td>CAM</td>\n",
       "      <td>88</td>\n",
       "      <td>1.011364</td>\n",
       "    </tr>\n",
       "    <tr>\n",
       "      <th>49</th>\n",
       "      <td>P. Dybala</td>\n",
       "      <td>CAM</td>\n",
       "      <td>86</td>\n",
       "      <td>1.000000</td>\n",
       "    </tr>\n",
       "    <tr>\n",
       "      <th>56</th>\n",
       "      <td>K. Coman</td>\n",
       "      <td>LM</td>\n",
       "      <td>86</td>\n",
       "      <td>0.930233</td>\n",
       "    </tr>\n",
       "  </tbody>\n",
       "</table>\n",
       "</div>"
      ],
      "text/plain": [
       "          Known As Best Position  Overall  Short Passing\n",
       "0         L. Messi           CAM       91       1.000000\n",
       "15         S. Mané            LM       89       0.943820\n",
       "23  Bernardo Silva           CAM       88       1.011364\n",
       "49       P. Dybala           CAM       86       1.000000\n",
       "56        K. Coman            LM       86       0.930233"
      ]
     },
     "metadata": {},
     "output_type": "display_data"
    },
    {
     "name": "stdout",
     "output_type": "stream",
     "text": [
      "\n",
      "🔹 Attacking Wide Midfielder\n"
     ]
    },
    {
     "data": {
      "text/html": [
       "<div>\n",
       "<style scoped>\n",
       "    .dataframe tbody tr th:only-of-type {\n",
       "        vertical-align: middle;\n",
       "    }\n",
       "\n",
       "    .dataframe tbody tr th {\n",
       "        vertical-align: top;\n",
       "    }\n",
       "\n",
       "    .dataframe thead th {\n",
       "        text-align: right;\n",
       "    }\n",
       "</style>\n",
       "<table border=\"1\" class=\"dataframe\">\n",
       "  <thead>\n",
       "    <tr style=\"text-align: right;\">\n",
       "      <th></th>\n",
       "      <th>Known As</th>\n",
       "      <th>Best Position</th>\n",
       "      <th>Overall</th>\n",
       "      <th>Short Passing</th>\n",
       "    </tr>\n",
       "  </thead>\n",
       "  <tbody>\n",
       "    <tr>\n",
       "      <th>126</th>\n",
       "      <td>M. Diaby</td>\n",
       "      <td>RM</td>\n",
       "      <td>84</td>\n",
       "      <td>0.952381</td>\n",
       "    </tr>\n",
       "    <tr>\n",
       "      <th>244</th>\n",
       "      <td>C. Pulisic</td>\n",
       "      <td>RM</td>\n",
       "      <td>82</td>\n",
       "      <td>0.939024</td>\n",
       "    </tr>\n",
       "    <tr>\n",
       "      <th>369</th>\n",
       "      <td>A. Saint-Maximin</td>\n",
       "      <td>CAM</td>\n",
       "      <td>81</td>\n",
       "      <td>0.938272</td>\n",
       "    </tr>\n",
       "    <tr>\n",
       "      <th>415</th>\n",
       "      <td>N. González</td>\n",
       "      <td>LM</td>\n",
       "      <td>80</td>\n",
       "      <td>1.000000</td>\n",
       "    </tr>\n",
       "    <tr>\n",
       "      <th>537</th>\n",
       "      <td>S. Chukwueze</td>\n",
       "      <td>LM</td>\n",
       "      <td>79</td>\n",
       "      <td>0.924051</td>\n",
       "    </tr>\n",
       "  </tbody>\n",
       "</table>\n",
       "</div>"
      ],
      "text/plain": [
       "             Known As Best Position  Overall  Short Passing\n",
       "126          M. Diaby            RM       84       0.952381\n",
       "244        C. Pulisic            RM       82       0.939024\n",
       "369  A. Saint-Maximin           CAM       81       0.938272\n",
       "415       N. González            LM       80       1.000000\n",
       "537      S. Chukwueze            LM       79       0.924051"
      ]
     },
     "metadata": {},
     "output_type": "display_data"
    },
    {
     "name": "stdout",
     "output_type": "stream",
     "text": [
      "\n",
      "🔹 Box-to-Box Midfielder\n"
     ]
    },
    {
     "data": {
      "text/html": [
       "<div>\n",
       "<style scoped>\n",
       "    .dataframe tbody tr th:only-of-type {\n",
       "        vertical-align: middle;\n",
       "    }\n",
       "\n",
       "    .dataframe tbody tr th {\n",
       "        vertical-align: top;\n",
       "    }\n",
       "\n",
       "    .dataframe thead th {\n",
       "        text-align: right;\n",
       "    }\n",
       "</style>\n",
       "<table border=\"1\" class=\"dataframe\">\n",
       "  <thead>\n",
       "    <tr style=\"text-align: right;\">\n",
       "      <th></th>\n",
       "      <th>Known As</th>\n",
       "      <th>Best Position</th>\n",
       "      <th>Overall</th>\n",
       "      <th>Short Passing</th>\n",
       "    </tr>\n",
       "  </thead>\n",
       "  <tbody>\n",
       "    <tr>\n",
       "      <th>3</th>\n",
       "      <td>K. De Bruyne</td>\n",
       "      <td>CM</td>\n",
       "      <td>91</td>\n",
       "      <td>1.021978</td>\n",
       "    </tr>\n",
       "    <tr>\n",
       "      <th>17</th>\n",
       "      <td>J. Kimmich</td>\n",
       "      <td>CDM</td>\n",
       "      <td>89</td>\n",
       "      <td>0.977528</td>\n",
       "    </tr>\n",
       "    <tr>\n",
       "      <th>28</th>\n",
       "      <td>T. Kroos</td>\n",
       "      <td>CM</td>\n",
       "      <td>88</td>\n",
       "      <td>1.056818</td>\n",
       "    </tr>\n",
       "    <tr>\n",
       "      <th>29</th>\n",
       "      <td>L. Modrić</td>\n",
       "      <td>CM</td>\n",
       "      <td>88</td>\n",
       "      <td>1.034091</td>\n",
       "    </tr>\n",
       "    <tr>\n",
       "      <th>34</th>\n",
       "      <td>T. Müller</td>\n",
       "      <td>CAM</td>\n",
       "      <td>87</td>\n",
       "      <td>0.977011</td>\n",
       "    </tr>\n",
       "  </tbody>\n",
       "</table>\n",
       "</div>"
      ],
      "text/plain": [
       "        Known As Best Position  Overall  Short Passing\n",
       "3   K. De Bruyne            CM       91       1.021978\n",
       "17    J. Kimmich           CDM       89       0.977528\n",
       "28      T. Kroos            CM       88       1.056818\n",
       "29     L. Modrić            CM       88       1.034091\n",
       "34     T. Müller           CAM       87       0.977011"
      ]
     },
     "metadata": {},
     "output_type": "display_data"
    },
    {
     "name": "stdout",
     "output_type": "stream",
     "text": [
      "\n",
      "🔹 Holding Midfielder\n"
     ]
    },
    {
     "data": {
      "text/html": [
       "<div>\n",
       "<style scoped>\n",
       "    .dataframe tbody tr th:only-of-type {\n",
       "        vertical-align: middle;\n",
       "    }\n",
       "\n",
       "    .dataframe tbody tr th {\n",
       "        vertical-align: top;\n",
       "    }\n",
       "\n",
       "    .dataframe thead th {\n",
       "        text-align: right;\n",
       "    }\n",
       "</style>\n",
       "<table border=\"1\" class=\"dataframe\">\n",
       "  <thead>\n",
       "    <tr style=\"text-align: right;\">\n",
       "      <th></th>\n",
       "      <th>Known As</th>\n",
       "      <th>Best Position</th>\n",
       "      <th>Overall</th>\n",
       "      <th>Short Passing</th>\n",
       "    </tr>\n",
       "  </thead>\n",
       "  <tbody>\n",
       "    <tr>\n",
       "      <th>13</th>\n",
       "      <td>Casemiro</td>\n",
       "      <td>CDM</td>\n",
       "      <td>89</td>\n",
       "      <td>0.943820</td>\n",
       "    </tr>\n",
       "    <tr>\n",
       "      <th>19</th>\n",
       "      <td>N. Kanté</td>\n",
       "      <td>CDM</td>\n",
       "      <td>89</td>\n",
       "      <td>0.921348</td>\n",
       "    </tr>\n",
       "    <tr>\n",
       "      <th>31</th>\n",
       "      <td>Rodri</td>\n",
       "      <td>CDM</td>\n",
       "      <td>87</td>\n",
       "      <td>0.988506</td>\n",
       "    </tr>\n",
       "    <tr>\n",
       "      <th>32</th>\n",
       "      <td>Fabinho</td>\n",
       "      <td>CDM</td>\n",
       "      <td>87</td>\n",
       "      <td>0.965517</td>\n",
       "    </tr>\n",
       "    <tr>\n",
       "      <th>72</th>\n",
       "      <td>Sergio Busquets</td>\n",
       "      <td>CDM</td>\n",
       "      <td>85</td>\n",
       "      <td>1.023529</td>\n",
       "    </tr>\n",
       "  </tbody>\n",
       "</table>\n",
       "</div>"
      ],
      "text/plain": [
       "           Known As Best Position  Overall  Short Passing\n",
       "13         Casemiro           CDM       89       0.943820\n",
       "19         N. Kanté           CDM       89       0.921348\n",
       "31            Rodri           CDM       87       0.988506\n",
       "32          Fabinho           CDM       87       0.965517\n",
       "72  Sergio Busquets           CDM       85       1.023529"
      ]
     },
     "metadata": {},
     "output_type": "display_data"
    },
    {
     "name": "stdout",
     "output_type": "stream",
     "text": [
      "\n",
      "🔹 Mobile Playmaker\n"
     ]
    },
    {
     "data": {
      "text/html": [
       "<div>\n",
       "<style scoped>\n",
       "    .dataframe tbody tr th:only-of-type {\n",
       "        vertical-align: middle;\n",
       "    }\n",
       "\n",
       "    .dataframe tbody tr th {\n",
       "        vertical-align: top;\n",
       "    }\n",
       "\n",
       "    .dataframe thead th {\n",
       "        text-align: right;\n",
       "    }\n",
       "</style>\n",
       "<table border=\"1\" class=\"dataframe\">\n",
       "  <thead>\n",
       "    <tr style=\"text-align: right;\">\n",
       "      <th></th>\n",
       "      <th>Known As</th>\n",
       "      <th>Best Position</th>\n",
       "      <th>Overall</th>\n",
       "      <th>Short Passing</th>\n",
       "    </tr>\n",
       "  </thead>\n",
       "  <tbody>\n",
       "    <tr>\n",
       "      <th>36</th>\n",
       "      <td>M. Verratti</td>\n",
       "      <td>CM</td>\n",
       "      <td>87</td>\n",
       "      <td>1.034483</td>\n",
       "    </tr>\n",
       "    <tr>\n",
       "      <th>82</th>\n",
       "      <td>Pedri</td>\n",
       "      <td>CM</td>\n",
       "      <td>85</td>\n",
       "      <td>1.023529</td>\n",
       "    </tr>\n",
       "    <tr>\n",
       "      <th>141</th>\n",
       "      <td>A. Davies</td>\n",
       "      <td>LM</td>\n",
       "      <td>84</td>\n",
       "      <td>0.976190</td>\n",
       "    </tr>\n",
       "    <tr>\n",
       "      <th>233</th>\n",
       "      <td>N. Mazraoui</td>\n",
       "      <td>RM</td>\n",
       "      <td>82</td>\n",
       "      <td>1.012195</td>\n",
       "    </tr>\n",
       "    <tr>\n",
       "      <th>360</th>\n",
       "      <td>S. Lobotka</td>\n",
       "      <td>CM</td>\n",
       "      <td>81</td>\n",
       "      <td>1.049383</td>\n",
       "    </tr>\n",
       "  </tbody>\n",
       "</table>\n",
       "</div>"
      ],
      "text/plain": [
       "        Known As Best Position  Overall  Short Passing\n",
       "36   M. Verratti            CM       87       1.034483\n",
       "82         Pedri            CM       85       1.023529\n",
       "141    A. Davies            LM       84       0.976190\n",
       "233  N. Mazraoui            RM       82       1.012195\n",
       "360   S. Lobotka            CM       81       1.049383"
      ]
     },
     "metadata": {},
     "output_type": "display_data"
    }
   ],
   "source": [
    "archetype_names = {\n",
    "    0: \"Attacking Midfielder\",\n",
    "    1: \"Box-to-Box Midfielder\",\n",
    "    2: \"Holding Midfielder\",\n",
    "    3: \"Mobile Playmaker\",\n",
    "    4: \"Attacking Wide Midfielder\"\n",
    "}\n",
    "\n",
    "df_midfielders['archetype'] = df_midfielders['cluster'].map(archetype_names)\n",
    "\n",
    "for archetype, group in df_midfielders.groupby('archetype'):\n",
    "    print(f\"\\n🔹 {archetype}\")\n",
    "    display(group[['Known As', 'Best Position', 'Overall', 'Short Passing']].head(5))"
   ]
  },
  {
   "cell_type": "code",
   "execution_count": 115,
   "id": "0202a31a",
   "metadata": {},
   "outputs": [
    {
     "data": {
      "application/vnd.plotly.v1+json": {
       "config": {
        "plotlyServerURL": "https://plot.ly"
       },
       "data": [
        {
         "fill": "toself",
         "name": "Attacking Midfielder",
         "r": {
          "bdata": "1yqUwdXf7T/beG7yJrLmPx9CknulEPA/xMdyvjel8D+T/G4WlvHtPzf7ZyJ5evA/Z5J7NP0V8T/dtU3GfJ3wP0sOGIIOifE/nTbxR/vv7T9MLC/DX0vxP08hfrm40+o/kDP8aZ3Q7T/o2IYAGFDqP0iHEfURz+c/e/vte5s74j98eUeB4pXuP+s9/yA4sO4/S+dkfOeb4j/a/v8oSDfjP6anr3siw+E/",
          "dtype": "f8"
         },
         "subplot": "polar",
         "theta": [
          "Crossing",
          "Heading Accuracy",
          "Short Passing",
          "Dribbling",
          "LongPassing",
          "BallControl",
          "Acceleration",
          "Sprint Speed",
          "Agility",
          "Reactions",
          "Balance",
          "Jumping",
          "Stamina",
          "Strength",
          "Aggression",
          "Interceptions",
          "Positioning",
          "Composure",
          "Marking",
          "Standing Tackle",
          "Sliding Tackle"
         ],
         "type": "scatterpolar"
        },
        {
         "fill": "toself",
         "name": "Box-to-Box Midfielder",
         "r": {
          "bdata": "CPiEdItk7T+++pREgFzqP8B3XUmVivA/x2LQqoeJ7z/mk7wzD/vvP/hTGywxSfA/e6lOMUWX7T/B9yYNFRntP9EysVt5T+8/hnonRuEk7z8N0Ocgg3LvP+R8mG5XeO0/vbG00eHj8D9IOZS7MZ/vP8bJi6vEwe4/J1cgGTZi7T/V2dlT1fLtP897sjxhke8/G+9wDkaN7D8TBRP8ldTtPxHbEYaR+us/",
          "dtype": "f8"
         },
         "subplot": "polar2",
         "theta": [
          "Crossing",
          "Heading Accuracy",
          "Short Passing",
          "Dribbling",
          "LongPassing",
          "BallControl",
          "Acceleration",
          "Sprint Speed",
          "Agility",
          "Reactions",
          "Balance",
          "Jumping",
          "Stamina",
          "Strength",
          "Aggression",
          "Interceptions",
          "Positioning",
          "Composure",
          "Marking",
          "Standing Tackle",
          "Sliding Tackle"
         ],
         "type": "scatterpolar"
        },
        {
         "fill": "toself",
         "name": "Holding Midfielder",
         "r": {
          "bdata": "Ne0KAaEW6D/X0G0S32nrPwIpR0y5ZvA/n8F+a6gC7T/TAeYC6nPvP2JE2ixMOu8/503Nqkj97T/JFB8W5prtP7M1VXYwbO4/dL8HA7SH7j8vakHh9bvvPwdC8+/eCvA/zmqbMU6L8T+92G3jwrvwPzcW7jl5cfA/q2G92kX77j+UiftyzwfpP9C6rQNdBO0/RG2EG0pn7j+YbHxbZKvvP7Sy5gS4Ue4/",
          "dtype": "f8"
         },
         "subplot": "polar3",
         "theta": [
          "Crossing",
          "Heading Accuracy",
          "Short Passing",
          "Dribbling",
          "LongPassing",
          "BallControl",
          "Acceleration",
          "Sprint Speed",
          "Agility",
          "Reactions",
          "Balance",
          "Jumping",
          "Stamina",
          "Strength",
          "Aggression",
          "Interceptions",
          "Positioning",
          "Composure",
          "Marking",
          "Standing Tackle",
          "Sliding Tackle"
         ],
         "type": "scatterpolar"
        },
        {
         "fill": "toself",
         "name": "Mobile Playmaker",
         "r": {
          "bdata": "9pYUhHeh6z/oSyhTugLpP3zbZSHgqvA/h2P60P4o8D+dTWdHVHXvPzjmaNIyWvA/CJkkZv1O8j/uiw/rOPnxP7G8Jnkvi/I/KC1rYD+P7j/IrrOfijLzP2XqpZzVPPA/mGkteOZy8T9uUBGf3zvtPzEotKjjBu4/q7CZr87S6z8+2zioDZjtP6fsYwgj5O0/zxNIDOER6z9NonzrLSjtP9cobYE66Os/",
          "dtype": "f8"
         },
         "subplot": "polar4",
         "theta": [
          "Crossing",
          "Heading Accuracy",
          "Short Passing",
          "Dribbling",
          "LongPassing",
          "BallControl",
          "Acceleration",
          "Sprint Speed",
          "Agility",
          "Reactions",
          "Balance",
          "Jumping",
          "Stamina",
          "Strength",
          "Aggression",
          "Interceptions",
          "Positioning",
          "Composure",
          "Marking",
          "Standing Tackle",
          "Sliding Tackle"
         ],
         "type": "scatterpolar"
        },
        {
         "fill": "toself",
         "name": "Attacking Wide Midfielder",
         "r": {
          "bdata": "KGssR+r+7D/D1cdHsvTlP5l2hbDNBO4/y2sLPUDL8D/VMkgda2bqPw97Ir04MPA/iMlvWZUA9D//SGlTEK/zPxR+bcSOXfM/guYilfAd7D861QIr/iXzPzH70sOTdew/uQN7G0d/7z/aV4ZBSHfqPzIQV/s8GOY/4PN2vKic3T9SopGr8ZztPxVhRapNZOw/8k09p0EQ4D/EOCO4BWPgPy0mhgnJmt8/",
          "dtype": "f8"
         },
         "subplot": "polar5",
         "theta": [
          "Crossing",
          "Heading Accuracy",
          "Short Passing",
          "Dribbling",
          "LongPassing",
          "BallControl",
          "Acceleration",
          "Sprint Speed",
          "Agility",
          "Reactions",
          "Balance",
          "Jumping",
          "Stamina",
          "Strength",
          "Aggression",
          "Interceptions",
          "Positioning",
          "Composure",
          "Marking",
          "Standing Tackle",
          "Sliding Tackle"
         ],
         "type": "scatterpolar"
        }
       ],
       "layout": {
        "annotations": [
         {
          "font": {
           "size": 16
          },
          "showarrow": false,
          "text": "Attacking Midfielder",
          "x": 0.14444444444444446,
          "xanchor": "center",
          "xref": "paper",
          "y": 1,
          "yanchor": "bottom",
          "yref": "paper"
         },
         {
          "font": {
           "size": 16
          },
          "showarrow": false,
          "text": "Box-to-Box Midfielder",
          "x": 0.5,
          "xanchor": "center",
          "xref": "paper",
          "y": 1,
          "yanchor": "bottom",
          "yref": "paper"
         },
         {
          "font": {
           "size": 16
          },
          "showarrow": false,
          "text": "Holding Midfielder",
          "x": 0.8555555555555556,
          "xanchor": "center",
          "xref": "paper",
          "y": 1,
          "yanchor": "bottom",
          "yref": "paper"
         },
         {
          "font": {
           "size": 16
          },
          "showarrow": false,
          "text": "Mobile Playmaker",
          "x": 0.14444444444444446,
          "xanchor": "center",
          "xref": "paper",
          "y": 0.375,
          "yanchor": "bottom",
          "yref": "paper"
         },
         {
          "font": {
           "size": 16
          },
          "showarrow": false,
          "text": "Attacking Wide Midfielder",
          "x": 0.5,
          "xanchor": "center",
          "xref": "paper",
          "y": 0.375,
          "yanchor": "bottom",
          "yref": "paper"
         }
        ],
        "height": 800,
        "polar": {
         "domain": {
          "x": [
           0,
           0.2888888888888889
          ],
          "y": [
           0.625,
           1
          ]
         }
        },
        "polar2": {
         "domain": {
          "x": [
           0.35555555555555557,
           0.6444444444444445
          ],
          "y": [
           0.625,
           1
          ]
         }
        },
        "polar3": {
         "domain": {
          "x": [
           0.7111111111111111,
           1
          ],
          "y": [
           0.625,
           1
          ]
         }
        },
        "polar4": {
         "domain": {
          "x": [
           0,
           0.2888888888888889
          ],
          "y": [
           0,
           0.375
          ]
         }
        },
        "polar5": {
         "domain": {
          "x": [
           0.35555555555555557,
           0.6444444444444445
          ],
          "y": [
           0,
           0.375
          ]
         }
        },
        "showlegend": false,
        "template": {
         "data": {
          "bar": [
           {
            "error_x": {
             "color": "#2a3f5f"
            },
            "error_y": {
             "color": "#2a3f5f"
            },
            "marker": {
             "line": {
              "color": "#E5ECF6",
              "width": 0.5
             },
             "pattern": {
              "fillmode": "overlay",
              "size": 10,
              "solidity": 0.2
             }
            },
            "type": "bar"
           }
          ],
          "barpolar": [
           {
            "marker": {
             "line": {
              "color": "#E5ECF6",
              "width": 0.5
             },
             "pattern": {
              "fillmode": "overlay",
              "size": 10,
              "solidity": 0.2
             }
            },
            "type": "barpolar"
           }
          ],
          "carpet": [
           {
            "aaxis": {
             "endlinecolor": "#2a3f5f",
             "gridcolor": "white",
             "linecolor": "white",
             "minorgridcolor": "white",
             "startlinecolor": "#2a3f5f"
            },
            "baxis": {
             "endlinecolor": "#2a3f5f",
             "gridcolor": "white",
             "linecolor": "white",
             "minorgridcolor": "white",
             "startlinecolor": "#2a3f5f"
            },
            "type": "carpet"
           }
          ],
          "choropleth": [
           {
            "colorbar": {
             "outlinewidth": 0,
             "ticks": ""
            },
            "type": "choropleth"
           }
          ],
          "contour": [
           {
            "colorbar": {
             "outlinewidth": 0,
             "ticks": ""
            },
            "colorscale": [
             [
              0,
              "#0d0887"
             ],
             [
              0.1111111111111111,
              "#46039f"
             ],
             [
              0.2222222222222222,
              "#7201a8"
             ],
             [
              0.3333333333333333,
              "#9c179e"
             ],
             [
              0.4444444444444444,
              "#bd3786"
             ],
             [
              0.5555555555555556,
              "#d8576b"
             ],
             [
              0.6666666666666666,
              "#ed7953"
             ],
             [
              0.7777777777777778,
              "#fb9f3a"
             ],
             [
              0.8888888888888888,
              "#fdca26"
             ],
             [
              1,
              "#f0f921"
             ]
            ],
            "type": "contour"
           }
          ],
          "contourcarpet": [
           {
            "colorbar": {
             "outlinewidth": 0,
             "ticks": ""
            },
            "type": "contourcarpet"
           }
          ],
          "heatmap": [
           {
            "colorbar": {
             "outlinewidth": 0,
             "ticks": ""
            },
            "colorscale": [
             [
              0,
              "#0d0887"
             ],
             [
              0.1111111111111111,
              "#46039f"
             ],
             [
              0.2222222222222222,
              "#7201a8"
             ],
             [
              0.3333333333333333,
              "#9c179e"
             ],
             [
              0.4444444444444444,
              "#bd3786"
             ],
             [
              0.5555555555555556,
              "#d8576b"
             ],
             [
              0.6666666666666666,
              "#ed7953"
             ],
             [
              0.7777777777777778,
              "#fb9f3a"
             ],
             [
              0.8888888888888888,
              "#fdca26"
             ],
             [
              1,
              "#f0f921"
             ]
            ],
            "type": "heatmap"
           }
          ],
          "histogram": [
           {
            "marker": {
             "pattern": {
              "fillmode": "overlay",
              "size": 10,
              "solidity": 0.2
             }
            },
            "type": "histogram"
           }
          ],
          "histogram2d": [
           {
            "colorbar": {
             "outlinewidth": 0,
             "ticks": ""
            },
            "colorscale": [
             [
              0,
              "#0d0887"
             ],
             [
              0.1111111111111111,
              "#46039f"
             ],
             [
              0.2222222222222222,
              "#7201a8"
             ],
             [
              0.3333333333333333,
              "#9c179e"
             ],
             [
              0.4444444444444444,
              "#bd3786"
             ],
             [
              0.5555555555555556,
              "#d8576b"
             ],
             [
              0.6666666666666666,
              "#ed7953"
             ],
             [
              0.7777777777777778,
              "#fb9f3a"
             ],
             [
              0.8888888888888888,
              "#fdca26"
             ],
             [
              1,
              "#f0f921"
             ]
            ],
            "type": "histogram2d"
           }
          ],
          "histogram2dcontour": [
           {
            "colorbar": {
             "outlinewidth": 0,
             "ticks": ""
            },
            "colorscale": [
             [
              0,
              "#0d0887"
             ],
             [
              0.1111111111111111,
              "#46039f"
             ],
             [
              0.2222222222222222,
              "#7201a8"
             ],
             [
              0.3333333333333333,
              "#9c179e"
             ],
             [
              0.4444444444444444,
              "#bd3786"
             ],
             [
              0.5555555555555556,
              "#d8576b"
             ],
             [
              0.6666666666666666,
              "#ed7953"
             ],
             [
              0.7777777777777778,
              "#fb9f3a"
             ],
             [
              0.8888888888888888,
              "#fdca26"
             ],
             [
              1,
              "#f0f921"
             ]
            ],
            "type": "histogram2dcontour"
           }
          ],
          "mesh3d": [
           {
            "colorbar": {
             "outlinewidth": 0,
             "ticks": ""
            },
            "type": "mesh3d"
           }
          ],
          "parcoords": [
           {
            "line": {
             "colorbar": {
              "outlinewidth": 0,
              "ticks": ""
             }
            },
            "type": "parcoords"
           }
          ],
          "pie": [
           {
            "automargin": true,
            "type": "pie"
           }
          ],
          "scatter": [
           {
            "fillpattern": {
             "fillmode": "overlay",
             "size": 10,
             "solidity": 0.2
            },
            "type": "scatter"
           }
          ],
          "scatter3d": [
           {
            "line": {
             "colorbar": {
              "outlinewidth": 0,
              "ticks": ""
             }
            },
            "marker": {
             "colorbar": {
              "outlinewidth": 0,
              "ticks": ""
             }
            },
            "type": "scatter3d"
           }
          ],
          "scattercarpet": [
           {
            "marker": {
             "colorbar": {
              "outlinewidth": 0,
              "ticks": ""
             }
            },
            "type": "scattercarpet"
           }
          ],
          "scattergeo": [
           {
            "marker": {
             "colorbar": {
              "outlinewidth": 0,
              "ticks": ""
             }
            },
            "type": "scattergeo"
           }
          ],
          "scattergl": [
           {
            "marker": {
             "colorbar": {
              "outlinewidth": 0,
              "ticks": ""
             }
            },
            "type": "scattergl"
           }
          ],
          "scattermap": [
           {
            "marker": {
             "colorbar": {
              "outlinewidth": 0,
              "ticks": ""
             }
            },
            "type": "scattermap"
           }
          ],
          "scattermapbox": [
           {
            "marker": {
             "colorbar": {
              "outlinewidth": 0,
              "ticks": ""
             }
            },
            "type": "scattermapbox"
           }
          ],
          "scatterpolar": [
           {
            "marker": {
             "colorbar": {
              "outlinewidth": 0,
              "ticks": ""
             }
            },
            "type": "scatterpolar"
           }
          ],
          "scatterpolargl": [
           {
            "marker": {
             "colorbar": {
              "outlinewidth": 0,
              "ticks": ""
             }
            },
            "type": "scatterpolargl"
           }
          ],
          "scatterternary": [
           {
            "marker": {
             "colorbar": {
              "outlinewidth": 0,
              "ticks": ""
             }
            },
            "type": "scatterternary"
           }
          ],
          "surface": [
           {
            "colorbar": {
             "outlinewidth": 0,
             "ticks": ""
            },
            "colorscale": [
             [
              0,
              "#0d0887"
             ],
             [
              0.1111111111111111,
              "#46039f"
             ],
             [
              0.2222222222222222,
              "#7201a8"
             ],
             [
              0.3333333333333333,
              "#9c179e"
             ],
             [
              0.4444444444444444,
              "#bd3786"
             ],
             [
              0.5555555555555556,
              "#d8576b"
             ],
             [
              0.6666666666666666,
              "#ed7953"
             ],
             [
              0.7777777777777778,
              "#fb9f3a"
             ],
             [
              0.8888888888888888,
              "#fdca26"
             ],
             [
              1,
              "#f0f921"
             ]
            ],
            "type": "surface"
           }
          ],
          "table": [
           {
            "cells": {
             "fill": {
              "color": "#EBF0F8"
             },
             "line": {
              "color": "white"
             }
            },
            "header": {
             "fill": {
              "color": "#C8D4E3"
             },
             "line": {
              "color": "white"
             }
            },
            "type": "table"
           }
          ]
         },
         "layout": {
          "annotationdefaults": {
           "arrowcolor": "#2a3f5f",
           "arrowhead": 0,
           "arrowwidth": 1
          },
          "autotypenumbers": "strict",
          "coloraxis": {
           "colorbar": {
            "outlinewidth": 0,
            "ticks": ""
           }
          },
          "colorscale": {
           "diverging": [
            [
             0,
             "#8e0152"
            ],
            [
             0.1,
             "#c51b7d"
            ],
            [
             0.2,
             "#de77ae"
            ],
            [
             0.3,
             "#f1b6da"
            ],
            [
             0.4,
             "#fde0ef"
            ],
            [
             0.5,
             "#f7f7f7"
            ],
            [
             0.6,
             "#e6f5d0"
            ],
            [
             0.7,
             "#b8e186"
            ],
            [
             0.8,
             "#7fbc41"
            ],
            [
             0.9,
             "#4d9221"
            ],
            [
             1,
             "#276419"
            ]
           ],
           "sequential": [
            [
             0,
             "#0d0887"
            ],
            [
             0.1111111111111111,
             "#46039f"
            ],
            [
             0.2222222222222222,
             "#7201a8"
            ],
            [
             0.3333333333333333,
             "#9c179e"
            ],
            [
             0.4444444444444444,
             "#bd3786"
            ],
            [
             0.5555555555555556,
             "#d8576b"
            ],
            [
             0.6666666666666666,
             "#ed7953"
            ],
            [
             0.7777777777777778,
             "#fb9f3a"
            ],
            [
             0.8888888888888888,
             "#fdca26"
            ],
            [
             1,
             "#f0f921"
            ]
           ],
           "sequentialminus": [
            [
             0,
             "#0d0887"
            ],
            [
             0.1111111111111111,
             "#46039f"
            ],
            [
             0.2222222222222222,
             "#7201a8"
            ],
            [
             0.3333333333333333,
             "#9c179e"
            ],
            [
             0.4444444444444444,
             "#bd3786"
            ],
            [
             0.5555555555555556,
             "#d8576b"
            ],
            [
             0.6666666666666666,
             "#ed7953"
            ],
            [
             0.7777777777777778,
             "#fb9f3a"
            ],
            [
             0.8888888888888888,
             "#fdca26"
            ],
            [
             1,
             "#f0f921"
            ]
           ]
          },
          "colorway": [
           "#636efa",
           "#EF553B",
           "#00cc96",
           "#ab63fa",
           "#FFA15A",
           "#19d3f3",
           "#FF6692",
           "#B6E880",
           "#FF97FF",
           "#FECB52"
          ],
          "font": {
           "color": "#2a3f5f"
          },
          "geo": {
           "bgcolor": "white",
           "lakecolor": "white",
           "landcolor": "#E5ECF6",
           "showlakes": true,
           "showland": true,
           "subunitcolor": "white"
          },
          "hoverlabel": {
           "align": "left"
          },
          "hovermode": "closest",
          "mapbox": {
           "style": "light"
          },
          "paper_bgcolor": "white",
          "plot_bgcolor": "#E5ECF6",
          "polar": {
           "angularaxis": {
            "gridcolor": "white",
            "linecolor": "white",
            "ticks": ""
           },
           "bgcolor": "#E5ECF6",
           "radialaxis": {
            "gridcolor": "white",
            "linecolor": "white",
            "ticks": ""
           }
          },
          "scene": {
           "xaxis": {
            "backgroundcolor": "#E5ECF6",
            "gridcolor": "white",
            "gridwidth": 2,
            "linecolor": "white",
            "showbackground": true,
            "ticks": "",
            "zerolinecolor": "white"
           },
           "yaxis": {
            "backgroundcolor": "#E5ECF6",
            "gridcolor": "white",
            "gridwidth": 2,
            "linecolor": "white",
            "showbackground": true,
            "ticks": "",
            "zerolinecolor": "white"
           },
           "zaxis": {
            "backgroundcolor": "#E5ECF6",
            "gridcolor": "white",
            "gridwidth": 2,
            "linecolor": "white",
            "showbackground": true,
            "ticks": "",
            "zerolinecolor": "white"
           }
          },
          "shapedefaults": {
           "line": {
            "color": "#2a3f5f"
           }
          },
          "ternary": {
           "aaxis": {
            "gridcolor": "white",
            "linecolor": "white",
            "ticks": ""
           },
           "baxis": {
            "gridcolor": "white",
            "linecolor": "white",
            "ticks": ""
           },
           "bgcolor": "#E5ECF6",
           "caxis": {
            "gridcolor": "white",
            "linecolor": "white",
            "ticks": ""
           }
          },
          "title": {
           "x": 0.05
          },
          "xaxis": {
           "automargin": true,
           "gridcolor": "white",
           "linecolor": "white",
           "ticks": "",
           "title": {
            "standoff": 15
           },
           "zerolinecolor": "white",
           "zerolinewidth": 2
          },
          "yaxis": {
           "automargin": true,
           "gridcolor": "white",
           "linecolor": "white",
           "ticks": "",
           "title": {
            "standoff": 15
           },
           "zerolinecolor": "white",
           "zerolinewidth": 2
          }
         }
        },
        "title": {
         "text": "FIFA23 Midfielder Archetypes (Radar Charts)"
        },
        "width": 1200
       }
      }
     },
     "metadata": {},
     "output_type": "display_data"
    }
   ],
   "source": [
    "radar_features = [f for f in defense_features if f not in ['Height(in cm)', 'Weight(in kg)']]\n",
    "\n",
    "fig = sp.make_subplots(\n",
    "    rows=2, cols=3,\n",
    "    specs=[[{'type': 'polar'}, {'type': 'polar'}, {'type': 'polar'}],\n",
    "           [{'type': 'polar'}, {'type': 'polar'}, None]],\n",
    "    subplot_titles=list(archetype_names.values())\n",
    ")\n",
    "\n",
    "row_col_map = [(1,1), (1,2), (1,3), (2,1), (2,2)]\n",
    "\n",
    "for i, (cluster_id, archetype) in enumerate(archetype_names.items()):\n",
    "    row, col = row_col_map[i]\n",
    "    fig.add_trace(\n",
    "        go.Scatterpolar(\n",
    "            r=cluster_means.loc[cluster_id, radar_features].values,\n",
    "            theta=radar_features,\n",
    "            fill='toself',\n",
    "            name=archetype,\n",
    "        ),\n",
    "        row=row, col=col\n",
    "    )\n",
    "\n",
    "fig.update_layout(\n",
    "    height=800, width=1200,\n",
    "    title_text=\"FIFA23 Midfielder Archetypes (Radar Charts)\",\n",
    "    showlegend=False\n",
    ")\n",
    "\n",
    "fig.show()"
   ]
  },
  {
   "cell_type": "markdown",
   "id": "cd13c58f",
   "metadata": {},
   "source": [
    "## Delanteros"
   ]
  },
  {
   "cell_type": "code",
   "execution_count": 119,
   "id": "f89f1f39",
   "metadata": {},
   "outputs": [
    {
     "name": "stdout",
     "output_type": "stream",
     "text": [
      "Total forwards: 3147\n",
      "         Height(in cm)  Weight(in kg)  Crossing  Finishing  Heading Accuracy  \\\n",
      "cluster                                                                        \n",
      "0           174.853598      68.890819  0.928117   0.947800          0.703205   \n",
      "1           181.486674      75.943221  0.856949   1.011295          0.945083   \n",
      "2           188.992683      83.836585  0.678244   1.033331          1.059985   \n",
      "3           185.660811      79.186486  0.602329   1.035259          1.017969   \n",
      "4           179.666211      73.257182  0.753157   1.013428          0.915026   \n",
      "\n",
      "         Short Passing   Volleys  Dribbling     Curve  Freekick Accuracy  ...  \\\n",
      "cluster                                                                   ...   \n",
      "0             0.943352  0.854173   1.052271  0.916910           0.811358  ...   \n",
      "1             0.951984  0.934738   0.996945  0.889308           0.814633  ...   \n",
      "2             0.913015  0.953298   0.925381  0.774844           0.728813  ...   \n",
      "3             0.860602  0.863677   0.936925  0.706580           0.634431  ...   \n",
      "4             0.884271  0.847110   1.009489  0.772947           0.655769  ...   \n",
      "\n",
      "         Sprint Speed   Agility  Reactions   Balance   Jumping   Stamina  \\\n",
      "cluster                                                                    \n",
      "0            1.163284  1.179583   0.910193  1.160045  0.844626  0.903346   \n",
      "1            1.049251  1.026474   0.969467  0.987238  1.007966  0.992122   \n",
      "2            0.842779  0.793527   0.973367  0.734426  0.998662  0.886153   \n",
      "3            1.081473  0.974392   0.941875  0.941274  1.110277  0.997916   \n",
      "4            1.249041  1.163462   0.926177  1.142356  1.102294  1.009871   \n",
      "\n",
      "         Strength  Long Shots  Positioning    Vision  \n",
      "cluster                                               \n",
      "0        0.789501    0.915704     0.949818  0.919501  \n",
      "1        1.010261    0.959701     1.011616  0.916557  \n",
      "2        1.183664    0.926830     1.039502  0.845059  \n",
      "3        1.159132    0.903095     1.004079  0.791723  \n",
      "4        1.034675    0.899228     0.981362  0.852830  \n",
      "\n",
      "[5 rows x 23 columns]\n"
     ]
    }
   ],
   "source": [
    "df_forwards = df_field_players[df_field_players['Position Group'] == 'FWD'].copy()\n",
    "\n",
    "print(f\"Total forwards: {df_forwards.shape[0]}\")\n",
    "\n",
    "forward_features = [\n",
    "    'Height(in cm)', 'Weight(in kg)',\n",
    "    'Crossing', 'Finishing', 'Heading Accuracy', 'Short Passing', 'Volleys',\n",
    "    'Dribbling','Curve','Freekick Accuracy', 'LongPassing', 'BallControl',\n",
    "    'Acceleration', 'Sprint Speed', 'Agility', 'Reactions', 'Balance',\n",
    "    'Jumping', 'Stamina', 'Strength','Long Shots',\n",
    "    'Positioning', 'Vision'\n",
    "]\n",
    "\n",
    "X_forwards = df_forwards[forward_features].dropna()\n",
    "\n",
    "scaler = StandardScaler()\n",
    "X_forwards_scaled = scaler.fit_transform(X_forwards)\n",
    "\n",
    "\n",
    "kmeans = KMeans(n_clusters=5, random_state=42, n_init=10)\n",
    "kmeans.fit(X_forwards_scaled)\n",
    "\n",
    "df_forwards['cluster'] = kmeans.labels_\n",
    "\n",
    "cluster_means = df_forwards.groupby('cluster')[forward_features].mean()\n",
    "cluster_means.to_csv(\"Delanteros.csv\")\n",
    "print(cluster_means)\n"
   ]
  },
  {
   "cell_type": "code",
   "execution_count": 121,
   "id": "88955d3d",
   "metadata": {},
   "outputs": [
    {
     "name": "stdout",
     "output_type": "stream",
     "text": [
      "\n",
      "🔹 Complete Forward\n"
     ]
    },
    {
     "data": {
      "text/html": [
       "<div>\n",
       "<style scoped>\n",
       "    .dataframe tbody tr th:only-of-type {\n",
       "        vertical-align: middle;\n",
       "    }\n",
       "\n",
       "    .dataframe tbody tr th {\n",
       "        vertical-align: top;\n",
       "    }\n",
       "\n",
       "    .dataframe thead th {\n",
       "        text-align: right;\n",
       "    }\n",
       "</style>\n",
       "<table border=\"1\" class=\"dataframe\">\n",
       "  <thead>\n",
       "    <tr style=\"text-align: right;\">\n",
       "      <th></th>\n",
       "      <th>Known As</th>\n",
       "      <th>Best Position</th>\n",
       "      <th>Overall</th>\n",
       "      <th>Short Passing</th>\n",
       "    </tr>\n",
       "  </thead>\n",
       "  <tbody>\n",
       "    <tr>\n",
       "      <th>1</th>\n",
       "      <td>K. Benzema</td>\n",
       "      <td>CF</td>\n",
       "      <td>91</td>\n",
       "      <td>0.978022</td>\n",
       "    </tr>\n",
       "    <tr>\n",
       "      <th>4</th>\n",
       "      <td>K. Mbappé</td>\n",
       "      <td>ST</td>\n",
       "      <td>91</td>\n",
       "      <td>0.934066</td>\n",
       "    </tr>\n",
       "    <tr>\n",
       "      <th>5</th>\n",
       "      <td>M. Salah</td>\n",
       "      <td>RW</td>\n",
       "      <td>90</td>\n",
       "      <td>0.933333</td>\n",
       "    </tr>\n",
       "    <tr>\n",
       "      <th>12</th>\n",
       "      <td>H. Son</td>\n",
       "      <td>LW</td>\n",
       "      <td>89</td>\n",
       "      <td>0.943820</td>\n",
       "    </tr>\n",
       "    <tr>\n",
       "      <th>59</th>\n",
       "      <td>L. Martínez</td>\n",
       "      <td>ST</td>\n",
       "      <td>86</td>\n",
       "      <td>0.883721</td>\n",
       "    </tr>\n",
       "  </tbody>\n",
       "</table>\n",
       "</div>"
      ],
      "text/plain": [
       "       Known As Best Position  Overall  Short Passing\n",
       "1    K. Benzema            CF       91       0.978022\n",
       "4     K. Mbappé            ST       91       0.934066\n",
       "5      M. Salah            RW       90       0.933333\n",
       "12       H. Son            LW       89       0.943820\n",
       "59  L. Martínez            ST       86       0.883721"
      ]
     },
     "metadata": {},
     "output_type": "display_data"
    },
    {
     "name": "stdout",
     "output_type": "stream",
     "text": [
      "\n",
      "🔹 Explosive Winger\n"
     ]
    },
    {
     "data": {
      "text/html": [
       "<div>\n",
       "<style scoped>\n",
       "    .dataframe tbody tr th:only-of-type {\n",
       "        vertical-align: middle;\n",
       "    }\n",
       "\n",
       "    .dataframe tbody tr th {\n",
       "        vertical-align: top;\n",
       "    }\n",
       "\n",
       "    .dataframe thead th {\n",
       "        text-align: right;\n",
       "    }\n",
       "</style>\n",
       "<table border=\"1\" class=\"dataframe\">\n",
       "  <thead>\n",
       "    <tr style=\"text-align: right;\">\n",
       "      <th></th>\n",
       "      <th>Known As</th>\n",
       "      <th>Best Position</th>\n",
       "      <th>Overall</th>\n",
       "      <th>Short Passing</th>\n",
       "    </tr>\n",
       "  </thead>\n",
       "  <tbody>\n",
       "    <tr>\n",
       "      <th>11</th>\n",
       "      <td>Neymar Jr</td>\n",
       "      <td>LW</td>\n",
       "      <td>89</td>\n",
       "      <td>0.955056</td>\n",
       "    </tr>\n",
       "    <tr>\n",
       "      <th>47</th>\n",
       "      <td>R. Sterling</td>\n",
       "      <td>LW</td>\n",
       "      <td>86</td>\n",
       "      <td>0.965116</td>\n",
       "    </tr>\n",
       "    <tr>\n",
       "      <th>48</th>\n",
       "      <td>R. Mahrez</td>\n",
       "      <td>RW</td>\n",
       "      <td>86</td>\n",
       "      <td>0.965116</td>\n",
       "    </tr>\n",
       "    <tr>\n",
       "      <th>63</th>\n",
       "      <td>Vinícius Jr.</td>\n",
       "      <td>LW</td>\n",
       "      <td>86</td>\n",
       "      <td>0.872093</td>\n",
       "    </tr>\n",
       "    <tr>\n",
       "      <th>95</th>\n",
       "      <td>D. Mertens</td>\n",
       "      <td>CF</td>\n",
       "      <td>84</td>\n",
       "      <td>1.000000</td>\n",
       "    </tr>\n",
       "  </tbody>\n",
       "</table>\n",
       "</div>"
      ],
      "text/plain": [
       "        Known As Best Position  Overall  Short Passing\n",
       "11     Neymar Jr            LW       89       0.955056\n",
       "47   R. Sterling            LW       86       0.965116\n",
       "48     R. Mahrez            RW       86       0.965116\n",
       "63  Vinícius Jr.            LW       86       0.872093\n",
       "95    D. Mertens            CF       84       1.000000"
      ]
     },
     "metadata": {},
     "output_type": "display_data"
    },
    {
     "name": "stdout",
     "output_type": "stream",
     "text": [
      "\n",
      "🔹 Poacher\n"
     ]
    },
    {
     "data": {
      "text/html": [
       "<div>\n",
       "<style scoped>\n",
       "    .dataframe tbody tr th:only-of-type {\n",
       "        vertical-align: middle;\n",
       "    }\n",
       "\n",
       "    .dataframe tbody tr th {\n",
       "        vertical-align: top;\n",
       "    }\n",
       "\n",
       "    .dataframe thead th {\n",
       "        text-align: right;\n",
       "    }\n",
       "</style>\n",
       "<table border=\"1\" class=\"dataframe\">\n",
       "  <thead>\n",
       "    <tr style=\"text-align: right;\">\n",
       "      <th></th>\n",
       "      <th>Known As</th>\n",
       "      <th>Best Position</th>\n",
       "      <th>Overall</th>\n",
       "      <th>Short Passing</th>\n",
       "    </tr>\n",
       "  </thead>\n",
       "  <tbody>\n",
       "    <tr>\n",
       "      <th>166</th>\n",
       "      <td>V. Osimhen</td>\n",
       "      <td>ST</td>\n",
       "      <td>83</td>\n",
       "      <td>0.867470</td>\n",
       "    </tr>\n",
       "    <tr>\n",
       "      <th>474</th>\n",
       "      <td>D. Calvert-Lewin</td>\n",
       "      <td>ST</td>\n",
       "      <td>80</td>\n",
       "      <td>0.887500</td>\n",
       "    </tr>\n",
       "    <tr>\n",
       "      <th>494</th>\n",
       "      <td>A. Belotti</td>\n",
       "      <td>ST</td>\n",
       "      <td>80</td>\n",
       "      <td>0.850000</td>\n",
       "    </tr>\n",
       "    <tr>\n",
       "      <th>539</th>\n",
       "      <td>Beto</td>\n",
       "      <td>ST</td>\n",
       "      <td>79</td>\n",
       "      <td>0.848101</td>\n",
       "    </tr>\n",
       "    <tr>\n",
       "      <th>545</th>\n",
       "      <td>B. Dia</td>\n",
       "      <td>ST</td>\n",
       "      <td>79</td>\n",
       "      <td>0.936709</td>\n",
       "    </tr>\n",
       "  </tbody>\n",
       "</table>\n",
       "</div>"
      ],
      "text/plain": [
       "             Known As Best Position  Overall  Short Passing\n",
       "166        V. Osimhen            ST       83       0.867470\n",
       "474  D. Calvert-Lewin            ST       80       0.887500\n",
       "494        A. Belotti            ST       80       0.850000\n",
       "539              Beto            ST       79       0.848101\n",
       "545            B. Dia            ST       79       0.936709"
      ]
     },
     "metadata": {},
     "output_type": "display_data"
    },
    {
     "name": "stdout",
     "output_type": "stream",
     "text": [
      "\n",
      "🔹 Second Striker\n"
     ]
    },
    {
     "data": {
      "text/html": [
       "<div>\n",
       "<style scoped>\n",
       "    .dataframe tbody tr th:only-of-type {\n",
       "        vertical-align: middle;\n",
       "    }\n",
       "\n",
       "    .dataframe tbody tr th {\n",
       "        vertical-align: top;\n",
       "    }\n",
       "\n",
       "    .dataframe thead th {\n",
       "        text-align: right;\n",
       "    }\n",
       "</style>\n",
       "<table border=\"1\" class=\"dataframe\">\n",
       "  <thead>\n",
       "    <tr style=\"text-align: right;\">\n",
       "      <th></th>\n",
       "      <th>Known As</th>\n",
       "      <th>Best Position</th>\n",
       "      <th>Overall</th>\n",
       "      <th>Short Passing</th>\n",
       "    </tr>\n",
       "  </thead>\n",
       "  <tbody>\n",
       "    <tr>\n",
       "      <th>754</th>\n",
       "      <td>J. Martínez</td>\n",
       "      <td>ST</td>\n",
       "      <td>78</td>\n",
       "      <td>0.858974</td>\n",
       "    </tr>\n",
       "    <tr>\n",
       "      <th>1009</th>\n",
       "      <td>P. Daka</td>\n",
       "      <td>ST</td>\n",
       "      <td>77</td>\n",
       "      <td>0.883117</td>\n",
       "    </tr>\n",
       "    <tr>\n",
       "      <th>1230</th>\n",
       "      <td>E. Dennis</td>\n",
       "      <td>ST</td>\n",
       "      <td>76</td>\n",
       "      <td>0.855263</td>\n",
       "    </tr>\n",
       "    <tr>\n",
       "      <th>1258</th>\n",
       "      <td>E. Boateng</td>\n",
       "      <td>ST</td>\n",
       "      <td>76</td>\n",
       "      <td>0.868421</td>\n",
       "    </tr>\n",
       "    <tr>\n",
       "      <th>1460</th>\n",
       "      <td>A. Elis</td>\n",
       "      <td>ST</td>\n",
       "      <td>75</td>\n",
       "      <td>0.866667</td>\n",
       "    </tr>\n",
       "  </tbody>\n",
       "</table>\n",
       "</div>"
      ],
      "text/plain": [
       "         Known As Best Position  Overall  Short Passing\n",
       "754   J. Martínez            ST       78       0.858974\n",
       "1009      P. Daka            ST       77       0.883117\n",
       "1230    E. Dennis            ST       76       0.855263\n",
       "1258   E. Boateng            ST       76       0.868421\n",
       "1460      A. Elis            ST       75       0.866667"
      ]
     },
     "metadata": {},
     "output_type": "display_data"
    },
    {
     "name": "stdout",
     "output_type": "stream",
     "text": [
      "\n",
      "🔹 Target Man\n"
     ]
    },
    {
     "data": {
      "text/html": [
       "<div>\n",
       "<style scoped>\n",
       "    .dataframe tbody tr th:only-of-type {\n",
       "        vertical-align: middle;\n",
       "    }\n",
       "\n",
       "    .dataframe tbody tr th {\n",
       "        vertical-align: top;\n",
       "    }\n",
       "\n",
       "    .dataframe thead th {\n",
       "        text-align: right;\n",
       "    }\n",
       "</style>\n",
       "<table border=\"1\" class=\"dataframe\">\n",
       "  <thead>\n",
       "    <tr style=\"text-align: right;\">\n",
       "      <th></th>\n",
       "      <th>Known As</th>\n",
       "      <th>Best Position</th>\n",
       "      <th>Overall</th>\n",
       "      <th>Short Passing</th>\n",
       "    </tr>\n",
       "  </thead>\n",
       "  <tbody>\n",
       "    <tr>\n",
       "      <th>2</th>\n",
       "      <td>R. Lewandowski</td>\n",
       "      <td>ST</td>\n",
       "      <td>91</td>\n",
       "      <td>0.923077</td>\n",
       "    </tr>\n",
       "    <tr>\n",
       "      <th>8</th>\n",
       "      <td>Cristiano Ronaldo</td>\n",
       "      <td>ST</td>\n",
       "      <td>90</td>\n",
       "      <td>0.888889</td>\n",
       "    </tr>\n",
       "    <tr>\n",
       "      <th>10</th>\n",
       "      <td>H. Kane</td>\n",
       "      <td>ST</td>\n",
       "      <td>89</td>\n",
       "      <td>0.943820</td>\n",
       "    </tr>\n",
       "    <tr>\n",
       "      <th>21</th>\n",
       "      <td>E. Haaland</td>\n",
       "      <td>ST</td>\n",
       "      <td>88</td>\n",
       "      <td>0.840909</td>\n",
       "    </tr>\n",
       "    <tr>\n",
       "      <th>44</th>\n",
       "      <td>C. Immobile</td>\n",
       "      <td>ST</td>\n",
       "      <td>86</td>\n",
       "      <td>0.918605</td>\n",
       "    </tr>\n",
       "  </tbody>\n",
       "</table>\n",
       "</div>"
      ],
      "text/plain": [
       "             Known As Best Position  Overall  Short Passing\n",
       "2      R. Lewandowski            ST       91       0.923077\n",
       "8   Cristiano Ronaldo            ST       90       0.888889\n",
       "10            H. Kane            ST       89       0.943820\n",
       "21         E. Haaland            ST       88       0.840909\n",
       "44        C. Immobile            ST       86       0.918605"
      ]
     },
     "metadata": {},
     "output_type": "display_data"
    }
   ],
   "source": [
    "archetype_names = {\n",
    "    0: \"Explosive Winger\",\n",
    "    1: \"Complete Forward\",\n",
    "    2: \"Target Man\",\n",
    "    3: \"Poacher\",\n",
    "    4: \"Second Striker\"\n",
    "}\n",
    "\n",
    "df_forwards['archetype'] = df_forwards['cluster'].map(archetype_names)\n",
    "\n",
    "for archetype, group in df_forwards.groupby('archetype'):\n",
    "    print(f\"\\n🔹 {archetype}\")\n",
    "    display(group[['Known As', 'Best Position', 'Overall', 'Short Passing']].head(5))"
   ]
  },
  {
   "cell_type": "code",
   "execution_count": 122,
   "id": "23760c7b",
   "metadata": {},
   "outputs": [
    {
     "data": {
      "application/vnd.plotly.v1+json": {
       "config": {
        "plotlyServerURL": "https://plot.ly"
       },
       "data": [
        {
         "fill": "toself",
         "name": "Explosive Winger",
         "r": {
          "bdata": "w4+1+SKz7T8wPSaoYVTuP63uxqOngOY/bRYtP/Ev7j/qDRHNYVXrP6DzyuMZ1vA/EjaeDFNX7T+kgt2QpfbpP8wrLb8GWuo/croJC29O8D8J6TjcSP/yPyRZ7h7QnPI/DJzPdZLf8j+YKdZuTSDtP0zditmLj/I/R6IvkCwH6z/q+G8/NejsP9J1nLmWQ+k/IdTUO3NN7T9tn6SM6WTuP1XsmWiObO0/",
          "dtype": "f8"
         },
         "subplot": "polar",
         "theta": [
          "Crossing",
          "Finishing",
          "Heading Accuracy",
          "Short Passing",
          "Volleys",
          "Dribbling",
          "Curve",
          "Freekick Accuracy",
          "LongPassing",
          "BallControl",
          "Acceleration",
          "Sprint Speed",
          "Agility",
          "Reactions",
          "Balance",
          "Jumping",
          "Stamina",
          "Strength",
          "Long Shots",
          "Positioning",
          "Vision"
         ],
         "type": "scatterpolar"
        },
        {
         "fill": "toself",
         "name": "Complete Forward",
         "r": {
          "bdata": "xMWWKCBs6z/PM3omQy7wPxr/lAMfPu4/3zjMTaZ27j9SSLGfX+ntPy4vJLj45u8/nGrnbTZ17D8F+rBfeBHqP+r5r0SqYOo/sStvdvUL8D9xuS21QrTwP8JfRTy7yfA/+qh+4W9s8D83fG6U3wXvPzIYK/B0l+8/7OXFLaEg8D+xOSVxd7/vPx10ev0GKvA/AjSIz9617j+kxp4TlC/wPwgy6/tvVO0/",
          "dtype": "f8"
         },
         "subplot": "polar2",
         "theta": [
          "Crossing",
          "Finishing",
          "Heading Accuracy",
          "Short Passing",
          "Volleys",
          "Dribbling",
          "Curve",
          "Freekick Accuracy",
          "LongPassing",
          "BallControl",
          "Acceleration",
          "Sprint Speed",
          "Agility",
          "Reactions",
          "Balance",
          "Jumping",
          "Stamina",
          "Strength",
          "Long Shots",
          "Positioning",
          "Vision"
         ],
         "type": "scatterpolar"
        },
        {
         "fill": "toself",
         "name": "Target Man",
         "r": {
          "bdata": "+/3qwiy05T9WBdg8hojwP3QY04Ky9fA/fiY/cms37T9MUG1ZaoHuP/83zUy4nO0/B7iKMYbL6D+5PQOYb1LnPx1UIwvTsOY/qzkfXdRT7z9g13SYNKbpP5KOO/UK+Oo/90SA6JJk6T9Uoj5Z0yXvPzte50BrgOc/eKsTegn17z+cXnRwXlvsP6DYYUBJ8PI/d7bBwJeo7T8q6vdXzKHwP3OJq8O4Cus/",
          "dtype": "f8"
         },
         "subplot": "polar3",
         "theta": [
          "Crossing",
          "Finishing",
          "Heading Accuracy",
          "Short Passing",
          "Volleys",
          "Dribbling",
          "Curve",
          "Freekick Accuracy",
          "LongPassing",
          "BallControl",
          "Acceleration",
          "Sprint Speed",
          "Agility",
          "Reactions",
          "Balance",
          "Jumping",
          "Stamina",
          "Strength",
          "Long Shots",
          "Positioning",
          "Vision"
         ],
         "type": "scatterpolar"
        },
        {
         "fill": "toself",
         "name": "Poacher",
         "r": {
          "bdata": "5D71pkdG4z8CBMqKa5DwP75J+TSaSfA/GE7LHQ6K6z+q0Fo+PqPrP9kbYaRJ++0/BqjiAk2c5j+GLqPSQk3kP1axiTN9UOQ/T1Rulsjb7j/k03AY/8TwPycersi2TfE/XrXWKjcu7z/DVtgk1iPuP3QmE2LqHu4/d0KdJbLD8T8dx+fB7e7vP/5BQFHOi/I/NRW5jibm7D+Es1kHtRDwP5Q7FsbKVek/",
          "dtype": "f8"
         },
         "subplot": "polar4",
         "theta": [
          "Crossing",
          "Finishing",
          "Heading Accuracy",
          "Short Passing",
          "Volleys",
          "Dribbling",
          "Curve",
          "Freekick Accuracy",
          "LongPassing",
          "BallControl",
          "Acceleration",
          "Sprint Speed",
          "Agility",
          "Reactions",
          "Balance",
          "Jumping",
          "Stamina",
          "Strength",
          "Long Shots",
          "Positioning",
          "Vision"
         ],
         "type": "scatterpolar"
        },
        {
         "fill": "toself",
         "name": "Second Striker",
         "r": {
          "bdata": "eqPpEt0Z6D9HcIC3ADfwP9DJOaLlR+0/ZXmgBPNL7D/c7atvhRvrP40YrMrdJvA/z75Bdvu76D+NAfQJEPzkP+HJejg3HuY/CgTTNPqr7z+lIIGaV/HzP1DkCVAS/PM/yr5BLIqd8j84fey/PaPtP0ZNzToXR/I/oPLZW/+i8T/ETDsxbijwP6Kqh6sHjvA/0EqfDXnG7D8/eIJ0UGfvP+3mapViSus/",
          "dtype": "f8"
         },
         "subplot": "polar5",
         "theta": [
          "Crossing",
          "Finishing",
          "Heading Accuracy",
          "Short Passing",
          "Volleys",
          "Dribbling",
          "Curve",
          "Freekick Accuracy",
          "LongPassing",
          "BallControl",
          "Acceleration",
          "Sprint Speed",
          "Agility",
          "Reactions",
          "Balance",
          "Jumping",
          "Stamina",
          "Strength",
          "Long Shots",
          "Positioning",
          "Vision"
         ],
         "type": "scatterpolar"
        }
       ],
       "layout": {
        "annotations": [
         {
          "font": {
           "size": 16
          },
          "showarrow": false,
          "text": "Explosive Winger",
          "x": 0.14444444444444446,
          "xanchor": "center",
          "xref": "paper",
          "y": 1,
          "yanchor": "bottom",
          "yref": "paper"
         },
         {
          "font": {
           "size": 16
          },
          "showarrow": false,
          "text": "Complete Forward",
          "x": 0.5,
          "xanchor": "center",
          "xref": "paper",
          "y": 1,
          "yanchor": "bottom",
          "yref": "paper"
         },
         {
          "font": {
           "size": 16
          },
          "showarrow": false,
          "text": "Target Man",
          "x": 0.8555555555555556,
          "xanchor": "center",
          "xref": "paper",
          "y": 1,
          "yanchor": "bottom",
          "yref": "paper"
         },
         {
          "font": {
           "size": 16
          },
          "showarrow": false,
          "text": "Poacher",
          "x": 0.14444444444444446,
          "xanchor": "center",
          "xref": "paper",
          "y": 0.375,
          "yanchor": "bottom",
          "yref": "paper"
         },
         {
          "font": {
           "size": 16
          },
          "showarrow": false,
          "text": "Second Striker",
          "x": 0.5,
          "xanchor": "center",
          "xref": "paper",
          "y": 0.375,
          "yanchor": "bottom",
          "yref": "paper"
         }
        ],
        "height": 800,
        "polar": {
         "domain": {
          "x": [
           0,
           0.2888888888888889
          ],
          "y": [
           0.625,
           1
          ]
         }
        },
        "polar2": {
         "domain": {
          "x": [
           0.35555555555555557,
           0.6444444444444445
          ],
          "y": [
           0.625,
           1
          ]
         }
        },
        "polar3": {
         "domain": {
          "x": [
           0.7111111111111111,
           1
          ],
          "y": [
           0.625,
           1
          ]
         }
        },
        "polar4": {
         "domain": {
          "x": [
           0,
           0.2888888888888889
          ],
          "y": [
           0,
           0.375
          ]
         }
        },
        "polar5": {
         "domain": {
          "x": [
           0.35555555555555557,
           0.6444444444444445
          ],
          "y": [
           0,
           0.375
          ]
         }
        },
        "showlegend": false,
        "template": {
         "data": {
          "bar": [
           {
            "error_x": {
             "color": "#2a3f5f"
            },
            "error_y": {
             "color": "#2a3f5f"
            },
            "marker": {
             "line": {
              "color": "#E5ECF6",
              "width": 0.5
             },
             "pattern": {
              "fillmode": "overlay",
              "size": 10,
              "solidity": 0.2
             }
            },
            "type": "bar"
           }
          ],
          "barpolar": [
           {
            "marker": {
             "line": {
              "color": "#E5ECF6",
              "width": 0.5
             },
             "pattern": {
              "fillmode": "overlay",
              "size": 10,
              "solidity": 0.2
             }
            },
            "type": "barpolar"
           }
          ],
          "carpet": [
           {
            "aaxis": {
             "endlinecolor": "#2a3f5f",
             "gridcolor": "white",
             "linecolor": "white",
             "minorgridcolor": "white",
             "startlinecolor": "#2a3f5f"
            },
            "baxis": {
             "endlinecolor": "#2a3f5f",
             "gridcolor": "white",
             "linecolor": "white",
             "minorgridcolor": "white",
             "startlinecolor": "#2a3f5f"
            },
            "type": "carpet"
           }
          ],
          "choropleth": [
           {
            "colorbar": {
             "outlinewidth": 0,
             "ticks": ""
            },
            "type": "choropleth"
           }
          ],
          "contour": [
           {
            "colorbar": {
             "outlinewidth": 0,
             "ticks": ""
            },
            "colorscale": [
             [
              0,
              "#0d0887"
             ],
             [
              0.1111111111111111,
              "#46039f"
             ],
             [
              0.2222222222222222,
              "#7201a8"
             ],
             [
              0.3333333333333333,
              "#9c179e"
             ],
             [
              0.4444444444444444,
              "#bd3786"
             ],
             [
              0.5555555555555556,
              "#d8576b"
             ],
             [
              0.6666666666666666,
              "#ed7953"
             ],
             [
              0.7777777777777778,
              "#fb9f3a"
             ],
             [
              0.8888888888888888,
              "#fdca26"
             ],
             [
              1,
              "#f0f921"
             ]
            ],
            "type": "contour"
           }
          ],
          "contourcarpet": [
           {
            "colorbar": {
             "outlinewidth": 0,
             "ticks": ""
            },
            "type": "contourcarpet"
           }
          ],
          "heatmap": [
           {
            "colorbar": {
             "outlinewidth": 0,
             "ticks": ""
            },
            "colorscale": [
             [
              0,
              "#0d0887"
             ],
             [
              0.1111111111111111,
              "#46039f"
             ],
             [
              0.2222222222222222,
              "#7201a8"
             ],
             [
              0.3333333333333333,
              "#9c179e"
             ],
             [
              0.4444444444444444,
              "#bd3786"
             ],
             [
              0.5555555555555556,
              "#d8576b"
             ],
             [
              0.6666666666666666,
              "#ed7953"
             ],
             [
              0.7777777777777778,
              "#fb9f3a"
             ],
             [
              0.8888888888888888,
              "#fdca26"
             ],
             [
              1,
              "#f0f921"
             ]
            ],
            "type": "heatmap"
           }
          ],
          "histogram": [
           {
            "marker": {
             "pattern": {
              "fillmode": "overlay",
              "size": 10,
              "solidity": 0.2
             }
            },
            "type": "histogram"
           }
          ],
          "histogram2d": [
           {
            "colorbar": {
             "outlinewidth": 0,
             "ticks": ""
            },
            "colorscale": [
             [
              0,
              "#0d0887"
             ],
             [
              0.1111111111111111,
              "#46039f"
             ],
             [
              0.2222222222222222,
              "#7201a8"
             ],
             [
              0.3333333333333333,
              "#9c179e"
             ],
             [
              0.4444444444444444,
              "#bd3786"
             ],
             [
              0.5555555555555556,
              "#d8576b"
             ],
             [
              0.6666666666666666,
              "#ed7953"
             ],
             [
              0.7777777777777778,
              "#fb9f3a"
             ],
             [
              0.8888888888888888,
              "#fdca26"
             ],
             [
              1,
              "#f0f921"
             ]
            ],
            "type": "histogram2d"
           }
          ],
          "histogram2dcontour": [
           {
            "colorbar": {
             "outlinewidth": 0,
             "ticks": ""
            },
            "colorscale": [
             [
              0,
              "#0d0887"
             ],
             [
              0.1111111111111111,
              "#46039f"
             ],
             [
              0.2222222222222222,
              "#7201a8"
             ],
             [
              0.3333333333333333,
              "#9c179e"
             ],
             [
              0.4444444444444444,
              "#bd3786"
             ],
             [
              0.5555555555555556,
              "#d8576b"
             ],
             [
              0.6666666666666666,
              "#ed7953"
             ],
             [
              0.7777777777777778,
              "#fb9f3a"
             ],
             [
              0.8888888888888888,
              "#fdca26"
             ],
             [
              1,
              "#f0f921"
             ]
            ],
            "type": "histogram2dcontour"
           }
          ],
          "mesh3d": [
           {
            "colorbar": {
             "outlinewidth": 0,
             "ticks": ""
            },
            "type": "mesh3d"
           }
          ],
          "parcoords": [
           {
            "line": {
             "colorbar": {
              "outlinewidth": 0,
              "ticks": ""
             }
            },
            "type": "parcoords"
           }
          ],
          "pie": [
           {
            "automargin": true,
            "type": "pie"
           }
          ],
          "scatter": [
           {
            "fillpattern": {
             "fillmode": "overlay",
             "size": 10,
             "solidity": 0.2
            },
            "type": "scatter"
           }
          ],
          "scatter3d": [
           {
            "line": {
             "colorbar": {
              "outlinewidth": 0,
              "ticks": ""
             }
            },
            "marker": {
             "colorbar": {
              "outlinewidth": 0,
              "ticks": ""
             }
            },
            "type": "scatter3d"
           }
          ],
          "scattercarpet": [
           {
            "marker": {
             "colorbar": {
              "outlinewidth": 0,
              "ticks": ""
             }
            },
            "type": "scattercarpet"
           }
          ],
          "scattergeo": [
           {
            "marker": {
             "colorbar": {
              "outlinewidth": 0,
              "ticks": ""
             }
            },
            "type": "scattergeo"
           }
          ],
          "scattergl": [
           {
            "marker": {
             "colorbar": {
              "outlinewidth": 0,
              "ticks": ""
             }
            },
            "type": "scattergl"
           }
          ],
          "scattermap": [
           {
            "marker": {
             "colorbar": {
              "outlinewidth": 0,
              "ticks": ""
             }
            },
            "type": "scattermap"
           }
          ],
          "scattermapbox": [
           {
            "marker": {
             "colorbar": {
              "outlinewidth": 0,
              "ticks": ""
             }
            },
            "type": "scattermapbox"
           }
          ],
          "scatterpolar": [
           {
            "marker": {
             "colorbar": {
              "outlinewidth": 0,
              "ticks": ""
             }
            },
            "type": "scatterpolar"
           }
          ],
          "scatterpolargl": [
           {
            "marker": {
             "colorbar": {
              "outlinewidth": 0,
              "ticks": ""
             }
            },
            "type": "scatterpolargl"
           }
          ],
          "scatterternary": [
           {
            "marker": {
             "colorbar": {
              "outlinewidth": 0,
              "ticks": ""
             }
            },
            "type": "scatterternary"
           }
          ],
          "surface": [
           {
            "colorbar": {
             "outlinewidth": 0,
             "ticks": ""
            },
            "colorscale": [
             [
              0,
              "#0d0887"
             ],
             [
              0.1111111111111111,
              "#46039f"
             ],
             [
              0.2222222222222222,
              "#7201a8"
             ],
             [
              0.3333333333333333,
              "#9c179e"
             ],
             [
              0.4444444444444444,
              "#bd3786"
             ],
             [
              0.5555555555555556,
              "#d8576b"
             ],
             [
              0.6666666666666666,
              "#ed7953"
             ],
             [
              0.7777777777777778,
              "#fb9f3a"
             ],
             [
              0.8888888888888888,
              "#fdca26"
             ],
             [
              1,
              "#f0f921"
             ]
            ],
            "type": "surface"
           }
          ],
          "table": [
           {
            "cells": {
             "fill": {
              "color": "#EBF0F8"
             },
             "line": {
              "color": "white"
             }
            },
            "header": {
             "fill": {
              "color": "#C8D4E3"
             },
             "line": {
              "color": "white"
             }
            },
            "type": "table"
           }
          ]
         },
         "layout": {
          "annotationdefaults": {
           "arrowcolor": "#2a3f5f",
           "arrowhead": 0,
           "arrowwidth": 1
          },
          "autotypenumbers": "strict",
          "coloraxis": {
           "colorbar": {
            "outlinewidth": 0,
            "ticks": ""
           }
          },
          "colorscale": {
           "diverging": [
            [
             0,
             "#8e0152"
            ],
            [
             0.1,
             "#c51b7d"
            ],
            [
             0.2,
             "#de77ae"
            ],
            [
             0.3,
             "#f1b6da"
            ],
            [
             0.4,
             "#fde0ef"
            ],
            [
             0.5,
             "#f7f7f7"
            ],
            [
             0.6,
             "#e6f5d0"
            ],
            [
             0.7,
             "#b8e186"
            ],
            [
             0.8,
             "#7fbc41"
            ],
            [
             0.9,
             "#4d9221"
            ],
            [
             1,
             "#276419"
            ]
           ],
           "sequential": [
            [
             0,
             "#0d0887"
            ],
            [
             0.1111111111111111,
             "#46039f"
            ],
            [
             0.2222222222222222,
             "#7201a8"
            ],
            [
             0.3333333333333333,
             "#9c179e"
            ],
            [
             0.4444444444444444,
             "#bd3786"
            ],
            [
             0.5555555555555556,
             "#d8576b"
            ],
            [
             0.6666666666666666,
             "#ed7953"
            ],
            [
             0.7777777777777778,
             "#fb9f3a"
            ],
            [
             0.8888888888888888,
             "#fdca26"
            ],
            [
             1,
             "#f0f921"
            ]
           ],
           "sequentialminus": [
            [
             0,
             "#0d0887"
            ],
            [
             0.1111111111111111,
             "#46039f"
            ],
            [
             0.2222222222222222,
             "#7201a8"
            ],
            [
             0.3333333333333333,
             "#9c179e"
            ],
            [
             0.4444444444444444,
             "#bd3786"
            ],
            [
             0.5555555555555556,
             "#d8576b"
            ],
            [
             0.6666666666666666,
             "#ed7953"
            ],
            [
             0.7777777777777778,
             "#fb9f3a"
            ],
            [
             0.8888888888888888,
             "#fdca26"
            ],
            [
             1,
             "#f0f921"
            ]
           ]
          },
          "colorway": [
           "#636efa",
           "#EF553B",
           "#00cc96",
           "#ab63fa",
           "#FFA15A",
           "#19d3f3",
           "#FF6692",
           "#B6E880",
           "#FF97FF",
           "#FECB52"
          ],
          "font": {
           "color": "#2a3f5f"
          },
          "geo": {
           "bgcolor": "white",
           "lakecolor": "white",
           "landcolor": "#E5ECF6",
           "showlakes": true,
           "showland": true,
           "subunitcolor": "white"
          },
          "hoverlabel": {
           "align": "left"
          },
          "hovermode": "closest",
          "mapbox": {
           "style": "light"
          },
          "paper_bgcolor": "white",
          "plot_bgcolor": "#E5ECF6",
          "polar": {
           "angularaxis": {
            "gridcolor": "white",
            "linecolor": "white",
            "ticks": ""
           },
           "bgcolor": "#E5ECF6",
           "radialaxis": {
            "gridcolor": "white",
            "linecolor": "white",
            "ticks": ""
           }
          },
          "scene": {
           "xaxis": {
            "backgroundcolor": "#E5ECF6",
            "gridcolor": "white",
            "gridwidth": 2,
            "linecolor": "white",
            "showbackground": true,
            "ticks": "",
            "zerolinecolor": "white"
           },
           "yaxis": {
            "backgroundcolor": "#E5ECF6",
            "gridcolor": "white",
            "gridwidth": 2,
            "linecolor": "white",
            "showbackground": true,
            "ticks": "",
            "zerolinecolor": "white"
           },
           "zaxis": {
            "backgroundcolor": "#E5ECF6",
            "gridcolor": "white",
            "gridwidth": 2,
            "linecolor": "white",
            "showbackground": true,
            "ticks": "",
            "zerolinecolor": "white"
           }
          },
          "shapedefaults": {
           "line": {
            "color": "#2a3f5f"
           }
          },
          "ternary": {
           "aaxis": {
            "gridcolor": "white",
            "linecolor": "white",
            "ticks": ""
           },
           "baxis": {
            "gridcolor": "white",
            "linecolor": "white",
            "ticks": ""
           },
           "bgcolor": "#E5ECF6",
           "caxis": {
            "gridcolor": "white",
            "linecolor": "white",
            "ticks": ""
           }
          },
          "title": {
           "x": 0.05
          },
          "xaxis": {
           "automargin": true,
           "gridcolor": "white",
           "linecolor": "white",
           "ticks": "",
           "title": {
            "standoff": 15
           },
           "zerolinecolor": "white",
           "zerolinewidth": 2
          },
          "yaxis": {
           "automargin": true,
           "gridcolor": "white",
           "linecolor": "white",
           "ticks": "",
           "title": {
            "standoff": 15
           },
           "zerolinecolor": "white",
           "zerolinewidth": 2
          }
         }
        },
        "title": {
         "text": "FIFA23 Forward Archetypes (Radar Charts)"
        },
        "width": 1200
       }
      }
     },
     "metadata": {},
     "output_type": "display_data"
    }
   ],
   "source": [
    "radar_features = [f for f in forward_features if f not in ['Height(in cm)', 'Weight(in kg)']]\n",
    "\n",
    "fig = sp.make_subplots(\n",
    "    rows=2, cols=3,\n",
    "    specs=[[{'type': 'polar'}, {'type': 'polar'}, {'type': 'polar'}],\n",
    "           [{'type': 'polar'}, {'type': 'polar'}, None]],\n",
    "    subplot_titles=list(archetype_names.values())\n",
    ")\n",
    "\n",
    "row_col_map = [(1,1), (1,2), (1,3), (2,1), (2,2)]\n",
    "\n",
    "for i, (cluster_id, archetype) in enumerate(archetype_names.items()):\n",
    "    row, col = row_col_map[i]\n",
    "    fig.add_trace(\n",
    "        go.Scatterpolar(\n",
    "            r=cluster_means.loc[cluster_id, radar_features].values,\n",
    "            theta=radar_features,\n",
    "            fill='toself',\n",
    "            name=archetype,\n",
    "        ),\n",
    "        row=row, col=col\n",
    "    )\n",
    "\n",
    "fig.update_layout(\n",
    "    height=800, width=1200,\n",
    "    title_text=\"FIFA23 Forward Archetypes (Radar Charts)\",\n",
    "    showlegend=False\n",
    ")\n",
    "\n",
    "fig.show()"
   ]
  }
 ],
 "metadata": {
  "kernelspec": {
   "display_name": "Python 3",
   "language": "python",
   "name": "python3"
  },
  "language_info": {
   "codemirror_mode": {
    "name": "ipython",
    "version": 3
   },
   "file_extension": ".py",
   "mimetype": "text/x-python",
   "name": "python",
   "nbconvert_exporter": "python",
   "pygments_lexer": "ipython3",
   "version": "3.13.2"
  }
 },
 "nbformat": 4,
 "nbformat_minor": 5
}
