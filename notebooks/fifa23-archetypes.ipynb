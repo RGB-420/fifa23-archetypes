{
 "cells": [
  {
   "cell_type": "code",
   "execution_count": 80,
   "id": "a1096f7d",
   "metadata": {},
   "outputs": [],
   "source": [
    "import sys\n",
    "import os\n",
    "\n",
    "sys.path.append(os.path.abspath(\"../src\"))"
   ]
  },
  {
   "cell_type": "code",
   "execution_count": 81,
   "id": "d39e1252",
   "metadata": {},
   "outputs": [
    {
     "ename": "ImportError",
     "evalue": "cannot import name 'plot_archetypes_radar' from 'plot_utils' (c:\\Users\\rgbej\\OneDrive\\Escritorio\\Aprender Codigo\\Arquetipos\\fifa23-archetypes\\src\\plot_utils.py)",
     "output_type": "error",
     "traceback": [
      "\u001b[31m---------------------------------------------------------------------------\u001b[39m",
      "\u001b[31mImportError\u001b[39m                               Traceback (most recent call last)",
      "\u001b[36mCell\u001b[39m\u001b[36m \u001b[39m\u001b[32mIn[81]\u001b[39m\u001b[32m, line 9\u001b[39m\n\u001b[32m      7\u001b[39m \u001b[38;5;28;01mfrom\u001b[39;00m\u001b[38;5;250m \u001b[39m\u001b[34;01msklearn\u001b[39;00m\u001b[34;01m.\u001b[39;00m\u001b[34;01mpreprocessing\u001b[39;00m\u001b[38;5;250m \u001b[39m\u001b[38;5;28;01mimport\u001b[39;00m StandardScaler\n\u001b[32m      8\u001b[39m \u001b[38;5;28;01mfrom\u001b[39;00m\u001b[38;5;250m \u001b[39m\u001b[34;01mclustering_utils\u001b[39;00m\u001b[38;5;250m \u001b[39m\u001b[38;5;28;01mimport\u001b[39;00m cluster_position_group\n\u001b[32m----> \u001b[39m\u001b[32m9\u001b[39m \u001b[38;5;28;01mfrom\u001b[39;00m\u001b[38;5;250m \u001b[39m\u001b[34;01mplot_utils\u001b[39;00m\u001b[38;5;250m \u001b[39m\u001b[38;5;28;01mimport\u001b[39;00m plot_archetypes_radar\n\u001b[32m     11\u001b[39m df = pd.read_csv(\u001b[33m\"\u001b[39m\u001b[33m../data/fifa23.csv\u001b[39m\u001b[33m\"\u001b[39m, sep=\u001b[33m'\u001b[39m\u001b[33m;\u001b[39m\u001b[33m'\u001b[39m, encoding=\u001b[33m'\u001b[39m\u001b[33mutf-8\u001b[39m\u001b[33m'\u001b[39m)\n\u001b[32m     12\u001b[39m df_field_players = df[df[\u001b[33m'\u001b[39m\u001b[33mBest Position\u001b[39m\u001b[33m'\u001b[39m].str.contains(\u001b[33m'\u001b[39m\u001b[33mGK\u001b[39m\u001b[33m'\u001b[39m) == \u001b[38;5;28;01mFalse\u001b[39;00m]\n",
      "\u001b[31mImportError\u001b[39m: cannot import name 'plot_archetypes_radar' from 'plot_utils' (c:\\Users\\rgbej\\OneDrive\\Escritorio\\Aprender Codigo\\Arquetipos\\fifa23-archetypes\\src\\plot_utils.py)"
     ]
    }
   ],
   "source": [
    "import pandas as pd\n",
    "import plotly.express as px\n",
    "import plotly.graph_objects as go\n",
    "import plotly.subplots as sp\n",
    "import plotly.io as pio\n",
    "from sklearn.cluster import KMeans\n",
    "from sklearn.preprocessing import StandardScaler\n",
    "from clustering_utils import cluster_position_group\n",
    "from plot_utils import plot_archetypes_radar\n",
    "\n",
    "df = pd.read_csv(\"../data/fifa23.csv\", sep=';', encoding='utf-8')\n",
    "df_field_players = df[df['Best Position'].str.contains('GK') == False]"
   ]
  },
  {
   "cell_type": "code",
   "execution_count": null,
   "id": "b228320b",
   "metadata": {},
   "outputs": [],
   "source": [
    "stats = ['Crossing', 'Finishing', 'Heading Accuracy', 'Short Passing', 'Volleys',\n",
    "    'Dribbling', 'Curve', 'Freekick Accuracy', 'LongPassing', 'BallControl',\n",
    "    'Acceleration', 'Sprint Speed', 'Agility', 'Reactions', 'Balance',\n",
    "    'Shot Power', 'Jumping', 'Stamina', 'Strength', 'Long Shots',\n",
    "    'Aggression', 'Interceptions', 'Positioning', 'Vision',\n",
    "    'Composure', 'Marking', 'Standing Tackle', 'Sliding Tackle']\n",
    "\n",
    "df_field_players = df_field_players.copy()\n",
    "\n",
    "# Ensure the columns you’re modifying are floats\n",
    "df_field_players[stats] = df_field_players[stats].astype(float)\n",
    "\n",
    "# Divide all columns in one vectorized operation\n",
    "df_field_players.loc[:, stats] = df_field_players[stats].div(df['Overall'], axis=0)\n",
    "\n",
    "features = [\n",
    "    'Height(in cm)', 'Weight(in kg)',\n",
    "    'Crossing', 'Finishing', 'Heading Accuracy', 'Short Passing', 'Volleys',\n",
    "    'Dribbling', 'Curve', 'Freekick Accuracy', 'LongPassing', 'BallControl',\n",
    "    'Acceleration', 'Sprint Speed', 'Agility', 'Reactions', 'Balance',\n",
    "    'Shot Power', 'Jumping', 'Stamina', 'Strength', 'Long Shots',\n",
    "    'Aggression', 'Interceptions', 'Positioning', 'Vision',\n",
    "    'Composure', 'Marking', 'Standing Tackle', 'Sliding Tackle'\n",
    "]"
   ]
  },
  {
   "cell_type": "code",
   "execution_count": null,
   "id": "9d9aad51",
   "metadata": {},
   "outputs": [],
   "source": [
    "position_groups = {\n",
    "    'CB': 'DEF', 'LB': 'DEF', 'RB': 'DEF', 'LWB': 'DEF', 'RWB': 'DEF',\n",
    "    'CDM': 'MID', 'CM': 'MID', 'CAM': 'MID', 'LM': 'MID', 'RM': 'MID',\n",
    "    'ST': 'FWD', 'CF': 'FWD', 'LW': 'FWD', 'RW': 'FWD'\n",
    "}\n",
    "\n",
    "df_field_players['Position Group'] = df_field_players['Best Position'].map(position_groups)"
   ]
  },
  {
   "cell_type": "markdown",
   "id": "dd225397",
   "metadata": {},
   "source": [
    "## Defensas"
   ]
  },
  {
   "cell_type": "code",
   "execution_count": null,
   "id": "668b1c04",
   "metadata": {},
   "outputs": [
    {
     "name": "stdout",
     "output_type": "stream",
     "text": [
      "         Height(in cm)  Weight(in kg)  Crossing  Heading Accuracy  \\\n",
      "Cluster                                                             \n",
      "0           178.035311      72.254237  0.962854          0.821792   \n",
      "1           189.242583      82.817627  0.561646          1.013613   \n",
      "2           184.667279      77.974877  0.770992          0.971291   \n",
      "3           185.965585      78.388397  0.558754          0.975089   \n",
      "4           177.227872      71.099812  0.920745          0.799626   \n",
      "\n",
      "         Short Passing  Dribbling  LongPassing  BallControl  Acceleration  \\\n",
      "Cluster                                                                     \n",
      "0             0.951017   0.946979     0.866681     0.956063      1.072432   \n",
      "1             0.899877   0.670783     0.828714     0.828877      0.720240   \n",
      "2             0.958911   0.838596     0.896890     0.918224      0.953113   \n",
      "3             0.814273   0.622873     0.686290     0.756884      1.005005   \n",
      "4             0.884398   0.930434     0.776009     0.910037      1.213126   \n",
      "\n",
      "         Sprint Speed  ...   Jumping   Stamina  Strength  Aggression  \\\n",
      "Cluster                ...                                             \n",
      "0            1.071492  ...  0.968216  1.064409  0.935267    0.935423   \n",
      "1            0.769667  ...  1.011417  0.913502  1.175289    1.031360   \n",
      "2            0.980198  ...  1.100980  1.023230  1.117007    1.023505   \n",
      "3            1.023351  ...  1.186947  1.022780  1.184709    0.971279   \n",
      "4            1.211240  ...  1.100139  1.146591  0.992836    0.951774   \n",
      "\n",
      "         Interceptions  Positioning  Composure   Marking  Standing Tackle  \\\n",
      "Cluster                                                                     \n",
      "0             0.942323     0.856692   0.899196  0.937379         0.974165   \n",
      "1             0.985357     0.496534   0.901408  0.999107         1.015765   \n",
      "2             0.982397     0.686576   0.906391  0.981481         1.007666   \n",
      "3             0.972963     0.494631   0.799171  0.981577         1.044287   \n",
      "4             0.911846     0.817001   0.818099  0.895965         0.957894   \n",
      "\n",
      "         Sliding Tackle  \n",
      "Cluster                  \n",
      "0              0.956123  \n",
      "1              0.975546  \n",
      "2              0.980285  \n",
      "3              1.008198  \n",
      "4              0.941918  \n",
      "\n",
      "[5 rows x 23 columns]\n"
     ]
    }
   ],
   "source": [
    "defense_features = [\n",
    "    'Height(in cm)', 'Weight(in kg)',\n",
    "    'Crossing', 'Heading Accuracy', 'Short Passing',\n",
    "    'Dribbling', 'LongPassing', 'BallControl',\n",
    "    'Acceleration', 'Sprint Speed', 'Agility', 'Reactions', 'Balance',\n",
    "    'Jumping', 'Stamina', 'Strength',\n",
    "    'Aggression', 'Interceptions', 'Positioning',\n",
    "    'Composure', 'Marking', 'Standing Tackle', 'Sliding Tackle'\n",
    "]\n",
    "\n",
    "df_defenders, kmeans_def = cluster_position_group(\n",
    "    df_field_players, 'DEF', defense_features, n_clusters=5\n",
    ")\n",
    "\n",
    "cluster_means_def = df_defenders.groupby('Cluster')[defense_features].mean()\n",
    "cluster_means_def.to_csv(\"../outputs/cluster_means/clusters_defense.csv\")\n",
    "print(cluster_means_def)\n"
   ]
  },
  {
   "cell_type": "code",
   "execution_count": null,
   "id": "18500ad5",
   "metadata": {},
   "outputs": [
    {
     "name": "stdout",
     "output_type": "stream",
     "text": [
      "\n",
      "🔹 Aggresive Fast CB\n"
     ]
    },
    {
     "data": {
      "text/html": [
       "<div>\n",
       "<style scoped>\n",
       "    .dataframe tbody tr th:only-of-type {\n",
       "        vertical-align: middle;\n",
       "    }\n",
       "\n",
       "    .dataframe tbody tr th {\n",
       "        vertical-align: top;\n",
       "    }\n",
       "\n",
       "    .dataframe thead th {\n",
       "        text-align: right;\n",
       "    }\n",
       "</style>\n",
       "<table border=\"1\" class=\"dataframe\">\n",
       "  <thead>\n",
       "    <tr style=\"text-align: right;\">\n",
       "      <th></th>\n",
       "      <th>Known As</th>\n",
       "      <th>Best Position</th>\n",
       "      <th>Overall</th>\n",
       "      <th>Height(in cm)</th>\n",
       "    </tr>\n",
       "  </thead>\n",
       "  <tbody>\n",
       "    <tr>\n",
       "      <th>308</th>\n",
       "      <td>Heberto Gaúcho</td>\n",
       "      <td>CB</td>\n",
       "      <td>81</td>\n",
       "      <td>181</td>\n",
       "    </tr>\n",
       "    <tr>\n",
       "      <th>543</th>\n",
       "      <td>Ibañez</td>\n",
       "      <td>CB</td>\n",
       "      <td>79</td>\n",
       "      <td>185</td>\n",
       "    </tr>\n",
       "    <tr>\n",
       "      <th>844</th>\n",
       "      <td>J. Aidoo</td>\n",
       "      <td>CB</td>\n",
       "      <td>78</td>\n",
       "      <td>184</td>\n",
       "    </tr>\n",
       "    <tr>\n",
       "      <th>1269</th>\n",
       "      <td>Antonaldinho</td>\n",
       "      <td>CB</td>\n",
       "      <td>76</td>\n",
       "      <td>188</td>\n",
       "    </tr>\n",
       "    <tr>\n",
       "      <th>1319</th>\n",
       "      <td>Igor</td>\n",
       "      <td>CB</td>\n",
       "      <td>76</td>\n",
       "      <td>185</td>\n",
       "    </tr>\n",
       "  </tbody>\n",
       "</table>\n",
       "</div>"
      ],
      "text/plain": [
       "            Known As Best Position  Overall  Height(in cm)\n",
       "308   Heberto Gaúcho            CB       81            181\n",
       "543           Ibañez            CB       79            185\n",
       "844         J. Aidoo            CB       78            184\n",
       "1269    Antonaldinho            CB       76            188\n",
       "1319            Igor            CB       76            185"
      ]
     },
     "metadata": {},
     "output_type": "display_data"
    },
    {
     "name": "stdout",
     "output_type": "stream",
     "text": [
      "\n",
      "🔹 Attacking Wing-Back\n"
     ]
    },
    {
     "data": {
      "text/html": [
       "<div>\n",
       "<style scoped>\n",
       "    .dataframe tbody tr th:only-of-type {\n",
       "        vertical-align: middle;\n",
       "    }\n",
       "\n",
       "    .dataframe tbody tr th {\n",
       "        vertical-align: top;\n",
       "    }\n",
       "\n",
       "    .dataframe thead th {\n",
       "        text-align: right;\n",
       "    }\n",
       "</style>\n",
       "<table border=\"1\" class=\"dataframe\">\n",
       "  <thead>\n",
       "    <tr style=\"text-align: right;\">\n",
       "      <th></th>\n",
       "      <th>Known As</th>\n",
       "      <th>Best Position</th>\n",
       "      <th>Overall</th>\n",
       "      <th>Height(in cm)</th>\n",
       "    </tr>\n",
       "  </thead>\n",
       "  <tbody>\n",
       "    <tr>\n",
       "      <th>1209</th>\n",
       "      <td>L. Advíncula</td>\n",
       "      <td>RB</td>\n",
       "      <td>76</td>\n",
       "      <td>180</td>\n",
       "    </tr>\n",
       "    <tr>\n",
       "      <th>1851</th>\n",
       "      <td>R. Henry</td>\n",
       "      <td>LWB</td>\n",
       "      <td>75</td>\n",
       "      <td>170</td>\n",
       "    </tr>\n",
       "    <tr>\n",
       "      <th>1926</th>\n",
       "      <td>Luis Pérez</td>\n",
       "      <td>RB</td>\n",
       "      <td>74</td>\n",
       "      <td>174</td>\n",
       "    </tr>\n",
       "    <tr>\n",
       "      <th>2055</th>\n",
       "      <td>R. Cannon</td>\n",
       "      <td>RWB</td>\n",
       "      <td>74</td>\n",
       "      <td>180</td>\n",
       "    </tr>\n",
       "    <tr>\n",
       "      <th>2074</th>\n",
       "      <td>F. Sacko</td>\n",
       "      <td>RB</td>\n",
       "      <td>74</td>\n",
       "      <td>179</td>\n",
       "    </tr>\n",
       "  </tbody>\n",
       "</table>\n",
       "</div>"
      ],
      "text/plain": [
       "          Known As Best Position  Overall  Height(in cm)\n",
       "1209  L. Advíncula            RB       76            180\n",
       "1851      R. Henry           LWB       75            170\n",
       "1926    Luis Pérez            RB       74            174\n",
       "2055     R. Cannon           RWB       74            180\n",
       "2074      F. Sacko            RB       74            179"
      ]
     },
     "metadata": {},
     "output_type": "display_data"
    },
    {
     "name": "stdout",
     "output_type": "stream",
     "text": [
      "\n",
      "🔹 Ball Playing CB\n"
     ]
    },
    {
     "data": {
      "text/html": [
       "<div>\n",
       "<style scoped>\n",
       "    .dataframe tbody tr th:only-of-type {\n",
       "        vertical-align: middle;\n",
       "    }\n",
       "\n",
       "    .dataframe tbody tr th {\n",
       "        vertical-align: top;\n",
       "    }\n",
       "\n",
       "    .dataframe thead th {\n",
       "        text-align: right;\n",
       "    }\n",
       "</style>\n",
       "<table border=\"1\" class=\"dataframe\">\n",
       "  <thead>\n",
       "    <tr style=\"text-align: right;\">\n",
       "      <th></th>\n",
       "      <th>Known As</th>\n",
       "      <th>Best Position</th>\n",
       "      <th>Overall</th>\n",
       "      <th>Height(in cm)</th>\n",
       "    </tr>\n",
       "  </thead>\n",
       "  <tbody>\n",
       "    <tr>\n",
       "      <th>25</th>\n",
       "      <td>Marquinhos</td>\n",
       "      <td>CB</td>\n",
       "      <td>88</td>\n",
       "      <td>183</td>\n",
       "    </tr>\n",
       "    <tr>\n",
       "      <th>46</th>\n",
       "      <td>D. Alaba</td>\n",
       "      <td>CB</td>\n",
       "      <td>86</td>\n",
       "      <td>180</td>\n",
       "    </tr>\n",
       "    <tr>\n",
       "      <th>91</th>\n",
       "      <td>L. Hernández</td>\n",
       "      <td>CB</td>\n",
       "      <td>84</td>\n",
       "      <td>184</td>\n",
       "    </tr>\n",
       "    <tr>\n",
       "      <th>129</th>\n",
       "      <td>J. Koundé</td>\n",
       "      <td>CB</td>\n",
       "      <td>84</td>\n",
       "      <td>181</td>\n",
       "    </tr>\n",
       "    <tr>\n",
       "      <th>133</th>\n",
       "      <td>Éder Militão</td>\n",
       "      <td>CB</td>\n",
       "      <td>84</td>\n",
       "      <td>186</td>\n",
       "    </tr>\n",
       "  </tbody>\n",
       "</table>\n",
       "</div>"
      ],
      "text/plain": [
       "         Known As Best Position  Overall  Height(in cm)\n",
       "25     Marquinhos            CB       88            183\n",
       "46       D. Alaba            CB       86            180\n",
       "91   L. Hernández            CB       84            184\n",
       "129     J. Koundé            CB       84            181\n",
       "133  Éder Militão            CB       84            186"
      ]
     },
     "metadata": {},
     "output_type": "display_data"
    },
    {
     "name": "stdout",
     "output_type": "stream",
     "text": [
      "\n",
      "🔹 Offensive Full-Back\n"
     ]
    },
    {
     "data": {
      "text/html": [
       "<div>\n",
       "<style scoped>\n",
       "    .dataframe tbody tr th:only-of-type {\n",
       "        vertical-align: middle;\n",
       "    }\n",
       "\n",
       "    .dataframe tbody tr th {\n",
       "        vertical-align: top;\n",
       "    }\n",
       "\n",
       "    .dataframe thead th {\n",
       "        text-align: right;\n",
       "    }\n",
       "</style>\n",
       "<table border=\"1\" class=\"dataframe\">\n",
       "  <thead>\n",
       "    <tr style=\"text-align: right;\">\n",
       "      <th></th>\n",
       "      <th>Known As</th>\n",
       "      <th>Best Position</th>\n",
       "      <th>Overall</th>\n",
       "      <th>Height(in cm)</th>\n",
       "    </tr>\n",
       "  </thead>\n",
       "  <tbody>\n",
       "    <tr>\n",
       "      <th>24</th>\n",
       "      <td>João Cancelo</td>\n",
       "      <td>LB</td>\n",
       "      <td>88</td>\n",
       "      <td>182</td>\n",
       "    </tr>\n",
       "    <tr>\n",
       "      <th>39</th>\n",
       "      <td>A. Robertson</td>\n",
       "      <td>LB</td>\n",
       "      <td>87</td>\n",
       "      <td>178</td>\n",
       "    </tr>\n",
       "    <tr>\n",
       "      <th>69</th>\n",
       "      <td>K. Walker</td>\n",
       "      <td>RB</td>\n",
       "      <td>85</td>\n",
       "      <td>183</td>\n",
       "    </tr>\n",
       "    <tr>\n",
       "      <th>71</th>\n",
       "      <td>Jordi Alba</td>\n",
       "      <td>LB</td>\n",
       "      <td>85</td>\n",
       "      <td>170</td>\n",
       "    </tr>\n",
       "    <tr>\n",
       "      <th>77</th>\n",
       "      <td>M. Acuña</td>\n",
       "      <td>LB</td>\n",
       "      <td>85</td>\n",
       "      <td>172</td>\n",
       "    </tr>\n",
       "  </tbody>\n",
       "</table>\n",
       "</div>"
      ],
      "text/plain": [
       "        Known As Best Position  Overall  Height(in cm)\n",
       "24  João Cancelo            LB       88            182\n",
       "39  A. Robertson            LB       87            178\n",
       "69     K. Walker            RB       85            183\n",
       "71    Jordi Alba            LB       85            170\n",
       "77      M. Acuña            LB       85            172"
      ]
     },
     "metadata": {},
     "output_type": "display_data"
    },
    {
     "name": "stdout",
     "output_type": "stream",
     "text": [
      "\n",
      "🔹 Physical Tower CB\n"
     ]
    },
    {
     "data": {
      "text/html": [
       "<div>\n",
       "<style scoped>\n",
       "    .dataframe tbody tr th:only-of-type {\n",
       "        vertical-align: middle;\n",
       "    }\n",
       "\n",
       "    .dataframe tbody tr th {\n",
       "        vertical-align: top;\n",
       "    }\n",
       "\n",
       "    .dataframe thead th {\n",
       "        text-align: right;\n",
       "    }\n",
       "</style>\n",
       "<table border=\"1\" class=\"dataframe\">\n",
       "  <thead>\n",
       "    <tr style=\"text-align: right;\">\n",
       "      <th></th>\n",
       "      <th>Known As</th>\n",
       "      <th>Best Position</th>\n",
       "      <th>Overall</th>\n",
       "      <th>Height(in cm)</th>\n",
       "    </tr>\n",
       "  </thead>\n",
       "  <tbody>\n",
       "    <tr>\n",
       "      <th>9</th>\n",
       "      <td>V. van Dijk</td>\n",
       "      <td>CB</td>\n",
       "      <td>90</td>\n",
       "      <td>193</td>\n",
       "    </tr>\n",
       "    <tr>\n",
       "      <th>20</th>\n",
       "      <td>Rúben Dias</td>\n",
       "      <td>CB</td>\n",
       "      <td>88</td>\n",
       "      <td>187</td>\n",
       "    </tr>\n",
       "    <tr>\n",
       "      <th>30</th>\n",
       "      <td>A. Rüdiger</td>\n",
       "      <td>CB</td>\n",
       "      <td>87</td>\n",
       "      <td>190</td>\n",
       "    </tr>\n",
       "    <tr>\n",
       "      <th>40</th>\n",
       "      <td>K. Koulibaly</td>\n",
       "      <td>CB</td>\n",
       "      <td>87</td>\n",
       "      <td>187</td>\n",
       "    </tr>\n",
       "    <tr>\n",
       "      <th>50</th>\n",
       "      <td>Thiago Silva</td>\n",
       "      <td>CB</td>\n",
       "      <td>86</td>\n",
       "      <td>183</td>\n",
       "    </tr>\n",
       "  </tbody>\n",
       "</table>\n",
       "</div>"
      ],
      "text/plain": [
       "        Known As Best Position  Overall  Height(in cm)\n",
       "9    V. van Dijk            CB       90            193\n",
       "20    Rúben Dias            CB       88            187\n",
       "30    A. Rüdiger            CB       87            190\n",
       "40  K. Koulibaly            CB       87            187\n",
       "50  Thiago Silva            CB       86            183"
      ]
     },
     "metadata": {},
     "output_type": "display_data"
    }
   ],
   "source": [
    "archetype_names_def = {\n",
    "    0: \"Offensive Full-Back\",\n",
    "    1: \"Physical Tower CB\",\n",
    "    2: \"Ball Playing CB\",\n",
    "    3: \"Aggresive Fast CB\",\n",
    "    4: \"Attacking Wing-Back\"\n",
    "}\n",
    "\n",
    "df_defenders['archetype'] = df_defenders['Cluster'].map(archetype_names_def)\n",
    "\n",
    "for archetype, group in df_defenders.groupby('archetype'):\n",
    "    print(f\"\\n🔹 {archetype}\")\n",
    "    display(group[['Known As', 'Best Position', 'Overall', 'Height(in cm)']].head(5))"
   ]
  },
  {
   "cell_type": "code",
   "execution_count": null,
   "id": "d12cf23c",
   "metadata": {},
   "outputs": [
    {
     "data": {
      "application/vnd.plotly.v1+json": {
       "config": {
        "plotlyServerURL": "https://plot.ly"
       },
       "data": [
        {
         "fill": "toself",
         "name": "Offensive Full-Back",
         "r": {
          "bdata": "zw/NCrPP7j9sUe63HkzqP0hCDL66bu4/Axo+d6dN7j8alK2X2bvrP5yplEkSmO4/OVG5ja4o8T+KDkm/1CTxP3KQ8hzRXPA/0m8HhWk87j82k/TkE4zwP9A9EKmf++4/RHldbtEH8T9IV6TAtO3tPygX1MT77u0/ttilnIEn7j9DFF1DBWrrPwSI3E43xuw/BsCqowH/7T9rXt4uXCzvP/fKzGKPmO4/",
          "dtype": "f8"
         },
         "subplot": "polar",
         "theta": [
          "Crossing",
          "Heading Accuracy",
          "Short Passing",
          "Dribbling",
          "LongPassing",
          "BallControl",
          "Acceleration",
          "Sprint Speed",
          "Agility",
          "Reactions",
          "Balance",
          "Jumping",
          "Stamina",
          "Strength",
          "Aggression",
          "Interceptions",
          "Positioning",
          "Composure",
          "Marking",
          "Standing Tackle",
          "Sliding Tackle"
         ],
         "type": "scatterpolar"
        },
        {
         "fill": "toself",
         "name": "Physical Tower CB",
         "r": {
          "bdata": "05nLEAD54T8SwUWGwjfwPxsrnN7Jy+w/+LDfPg535T8TVT4D04TqP3j86vYohuo/8kklCTUM5z+hDmQmHKHoP4exQywgl+U/86tfl/Tx7T/8qwcJjD/mP+t/b1fDLvA/f0AZZWk77T+gb3kQ/M3yP5aSd9dygPA/EoMpXwyI7z+dSRtLOMffP+dPNdlV2Ow/1tJlfq747z8rg2H6kkDwP/Q28cirN+8/",
          "dtype": "f8"
         },
         "subplot": "polar2",
         "theta": [
          "Crossing",
          "Heading Accuracy",
          "Short Passing",
          "Dribbling",
          "LongPassing",
          "BallControl",
          "Acceleration",
          "Sprint Speed",
          "Agility",
          "Reactions",
          "Balance",
          "Jumping",
          "Stamina",
          "Strength",
          "Aggression",
          "Interceptions",
          "Positioning",
          "Composure",
          "Marking",
          "Standing Tackle",
          "Sliding Tackle"
         ],
         "type": "scatterpolar"
        },
        {
         "fill": "toself",
         "name": "Ball Playing CB",
         "r": {
          "bdata": "3J9Szfer6D+w8Wtp0RTvP6tPCMxmr+4/I9GcQcjV6j/1g+p0UrPsP5BkJJgWYu0/Af6mbed/7j/jtMtByF3vP1gWpvMVOO0/kOFtPMpR7j8Jk7X0VTDtP4TV2RmdnfE/yc/y6iZf8D8oXW4xQ9/xP/vqCgRHYPA/HnKK0cxv7z+mchu1bvjlPyEo84coAe0/GkvnB0to7z+Y0S3GZh/wP1BI1tR9Xu8/",
          "dtype": "f8"
         },
         "subplot": "polar3",
         "theta": [
          "Crossing",
          "Heading Accuracy",
          "Short Passing",
          "Dribbling",
          "LongPassing",
          "BallControl",
          "Acceleration",
          "Sprint Speed",
          "Agility",
          "Reactions",
          "Balance",
          "Jumping",
          "Stamina",
          "Strength",
          "Aggression",
          "Interceptions",
          "Positioning",
          "Composure",
          "Marking",
          "Standing Tackle",
          "Sliding Tackle"
         ],
         "type": "scatterpolar"
        },
        {
         "fill": "toself",
         "name": "Aggresive Fast CB",
         "r": {
          "bdata": "kYF/cVDh4T/3QsV17jPvP2CqqciGDuo/OpeuH5Tu4z8hzlLAFfblP5eIe4BlOOg/MV7iyn8U8D/bTx3MpF/wPzOotAxwZus/abKVSObV7D8k6HICG+vtP7DxHQW8/fI/nTbXA09d8D+Fb7LxkfTyP50Pj563FO8/PHXejoMi7z/Q2JUdCqjfPyJ7Ju3Okuk/33ByJRVp7z9X/no+ZrXwP/h+OemTIfA/",
          "dtype": "f8"
         },
         "subplot": "polar4",
         "theta": [
          "Crossing",
          "Heading Accuracy",
          "Short Passing",
          "Dribbling",
          "LongPassing",
          "BallControl",
          "Acceleration",
          "Sprint Speed",
          "Agility",
          "Reactions",
          "Balance",
          "Jumping",
          "Stamina",
          "Strength",
          "Aggression",
          "Interceptions",
          "Positioning",
          "Composure",
          "Marking",
          "Standing Tackle",
          "Sliding Tackle"
         ],
         "type": "scatterpolar"
        },
        {
         "fill": "toself",
         "name": "Attacking Wing-Back",
         "r": {
          "bdata": "aeum5r127T/MEngAipbpP69VwQ/+TOw/HIVp5xzG7T8ER1SdENXoP4/OA2QGH+0/4xCKHfdo8z8L9NVDPWHzP1Q2RvCHQfI/cuOGoJ7W7D8pzlPvIIPyPyloYwormvE/LgCuAXBY8j+HgPgBUMXvP+u7gcrudO4/8xRVgtgt7T/FNdAi4CTqP97oXV3dLeo/OA1LwL6r7D+6/gCfEKfuPzyGtdQxJO4/",
          "dtype": "f8"
         },
         "subplot": "polar5",
         "theta": [
          "Crossing",
          "Heading Accuracy",
          "Short Passing",
          "Dribbling",
          "LongPassing",
          "BallControl",
          "Acceleration",
          "Sprint Speed",
          "Agility",
          "Reactions",
          "Balance",
          "Jumping",
          "Stamina",
          "Strength",
          "Aggression",
          "Interceptions",
          "Positioning",
          "Composure",
          "Marking",
          "Standing Tackle",
          "Sliding Tackle"
         ],
         "type": "scatterpolar"
        }
       ],
       "layout": {
        "annotations": [
         {
          "font": {
           "size": 16
          },
          "showarrow": false,
          "text": "Offensive Full-Back",
          "x": 0.14444444444444446,
          "xanchor": "center",
          "xref": "paper",
          "y": 1,
          "yanchor": "bottom",
          "yref": "paper"
         },
         {
          "font": {
           "size": 16
          },
          "showarrow": false,
          "text": "Physical Tower CB",
          "x": 0.5,
          "xanchor": "center",
          "xref": "paper",
          "y": 1,
          "yanchor": "bottom",
          "yref": "paper"
         },
         {
          "font": {
           "size": 16
          },
          "showarrow": false,
          "text": "Ball Playing CB",
          "x": 0.8555555555555556,
          "xanchor": "center",
          "xref": "paper",
          "y": 1,
          "yanchor": "bottom",
          "yref": "paper"
         },
         {
          "font": {
           "size": 16
          },
          "showarrow": false,
          "text": "Aggresive Fast CB",
          "x": 0.14444444444444446,
          "xanchor": "center",
          "xref": "paper",
          "y": 0.375,
          "yanchor": "bottom",
          "yref": "paper"
         },
         {
          "font": {
           "size": 16
          },
          "showarrow": false,
          "text": "Attacking Wing-Back",
          "x": 0.5,
          "xanchor": "center",
          "xref": "paper",
          "y": 0.375,
          "yanchor": "bottom",
          "yref": "paper"
         }
        ],
        "height": 800,
        "polar": {
         "domain": {
          "x": [
           0,
           0.2888888888888889
          ],
          "y": [
           0.625,
           1
          ]
         }
        },
        "polar2": {
         "domain": {
          "x": [
           0.35555555555555557,
           0.6444444444444445
          ],
          "y": [
           0.625,
           1
          ]
         }
        },
        "polar3": {
         "domain": {
          "x": [
           0.7111111111111111,
           1
          ],
          "y": [
           0.625,
           1
          ]
         }
        },
        "polar4": {
         "domain": {
          "x": [
           0,
           0.2888888888888889
          ],
          "y": [
           0,
           0.375
          ]
         }
        },
        "polar5": {
         "domain": {
          "x": [
           0.35555555555555557,
           0.6444444444444445
          ],
          "y": [
           0,
           0.375
          ]
         }
        },
        "showlegend": false,
        "template": {
         "data": {
          "bar": [
           {
            "error_x": {
             "color": "#2a3f5f"
            },
            "error_y": {
             "color": "#2a3f5f"
            },
            "marker": {
             "line": {
              "color": "#E5ECF6",
              "width": 0.5
             },
             "pattern": {
              "fillmode": "overlay",
              "size": 10,
              "solidity": 0.2
             }
            },
            "type": "bar"
           }
          ],
          "barpolar": [
           {
            "marker": {
             "line": {
              "color": "#E5ECF6",
              "width": 0.5
             },
             "pattern": {
              "fillmode": "overlay",
              "size": 10,
              "solidity": 0.2
             }
            },
            "type": "barpolar"
           }
          ],
          "carpet": [
           {
            "aaxis": {
             "endlinecolor": "#2a3f5f",
             "gridcolor": "white",
             "linecolor": "white",
             "minorgridcolor": "white",
             "startlinecolor": "#2a3f5f"
            },
            "baxis": {
             "endlinecolor": "#2a3f5f",
             "gridcolor": "white",
             "linecolor": "white",
             "minorgridcolor": "white",
             "startlinecolor": "#2a3f5f"
            },
            "type": "carpet"
           }
          ],
          "choropleth": [
           {
            "colorbar": {
             "outlinewidth": 0,
             "ticks": ""
            },
            "type": "choropleth"
           }
          ],
          "contour": [
           {
            "colorbar": {
             "outlinewidth": 0,
             "ticks": ""
            },
            "colorscale": [
             [
              0,
              "#0d0887"
             ],
             [
              0.1111111111111111,
              "#46039f"
             ],
             [
              0.2222222222222222,
              "#7201a8"
             ],
             [
              0.3333333333333333,
              "#9c179e"
             ],
             [
              0.4444444444444444,
              "#bd3786"
             ],
             [
              0.5555555555555556,
              "#d8576b"
             ],
             [
              0.6666666666666666,
              "#ed7953"
             ],
             [
              0.7777777777777778,
              "#fb9f3a"
             ],
             [
              0.8888888888888888,
              "#fdca26"
             ],
             [
              1,
              "#f0f921"
             ]
            ],
            "type": "contour"
           }
          ],
          "contourcarpet": [
           {
            "colorbar": {
             "outlinewidth": 0,
             "ticks": ""
            },
            "type": "contourcarpet"
           }
          ],
          "heatmap": [
           {
            "colorbar": {
             "outlinewidth": 0,
             "ticks": ""
            },
            "colorscale": [
             [
              0,
              "#0d0887"
             ],
             [
              0.1111111111111111,
              "#46039f"
             ],
             [
              0.2222222222222222,
              "#7201a8"
             ],
             [
              0.3333333333333333,
              "#9c179e"
             ],
             [
              0.4444444444444444,
              "#bd3786"
             ],
             [
              0.5555555555555556,
              "#d8576b"
             ],
             [
              0.6666666666666666,
              "#ed7953"
             ],
             [
              0.7777777777777778,
              "#fb9f3a"
             ],
             [
              0.8888888888888888,
              "#fdca26"
             ],
             [
              1,
              "#f0f921"
             ]
            ],
            "type": "heatmap"
           }
          ],
          "histogram": [
           {
            "marker": {
             "pattern": {
              "fillmode": "overlay",
              "size": 10,
              "solidity": 0.2
             }
            },
            "type": "histogram"
           }
          ],
          "histogram2d": [
           {
            "colorbar": {
             "outlinewidth": 0,
             "ticks": ""
            },
            "colorscale": [
             [
              0,
              "#0d0887"
             ],
             [
              0.1111111111111111,
              "#46039f"
             ],
             [
              0.2222222222222222,
              "#7201a8"
             ],
             [
              0.3333333333333333,
              "#9c179e"
             ],
             [
              0.4444444444444444,
              "#bd3786"
             ],
             [
              0.5555555555555556,
              "#d8576b"
             ],
             [
              0.6666666666666666,
              "#ed7953"
             ],
             [
              0.7777777777777778,
              "#fb9f3a"
             ],
             [
              0.8888888888888888,
              "#fdca26"
             ],
             [
              1,
              "#f0f921"
             ]
            ],
            "type": "histogram2d"
           }
          ],
          "histogram2dcontour": [
           {
            "colorbar": {
             "outlinewidth": 0,
             "ticks": ""
            },
            "colorscale": [
             [
              0,
              "#0d0887"
             ],
             [
              0.1111111111111111,
              "#46039f"
             ],
             [
              0.2222222222222222,
              "#7201a8"
             ],
             [
              0.3333333333333333,
              "#9c179e"
             ],
             [
              0.4444444444444444,
              "#bd3786"
             ],
             [
              0.5555555555555556,
              "#d8576b"
             ],
             [
              0.6666666666666666,
              "#ed7953"
             ],
             [
              0.7777777777777778,
              "#fb9f3a"
             ],
             [
              0.8888888888888888,
              "#fdca26"
             ],
             [
              1,
              "#f0f921"
             ]
            ],
            "type": "histogram2dcontour"
           }
          ],
          "mesh3d": [
           {
            "colorbar": {
             "outlinewidth": 0,
             "ticks": ""
            },
            "type": "mesh3d"
           }
          ],
          "parcoords": [
           {
            "line": {
             "colorbar": {
              "outlinewidth": 0,
              "ticks": ""
             }
            },
            "type": "parcoords"
           }
          ],
          "pie": [
           {
            "automargin": true,
            "type": "pie"
           }
          ],
          "scatter": [
           {
            "fillpattern": {
             "fillmode": "overlay",
             "size": 10,
             "solidity": 0.2
            },
            "type": "scatter"
           }
          ],
          "scatter3d": [
           {
            "line": {
             "colorbar": {
              "outlinewidth": 0,
              "ticks": ""
             }
            },
            "marker": {
             "colorbar": {
              "outlinewidth": 0,
              "ticks": ""
             }
            },
            "type": "scatter3d"
           }
          ],
          "scattercarpet": [
           {
            "marker": {
             "colorbar": {
              "outlinewidth": 0,
              "ticks": ""
             }
            },
            "type": "scattercarpet"
           }
          ],
          "scattergeo": [
           {
            "marker": {
             "colorbar": {
              "outlinewidth": 0,
              "ticks": ""
             }
            },
            "type": "scattergeo"
           }
          ],
          "scattergl": [
           {
            "marker": {
             "colorbar": {
              "outlinewidth": 0,
              "ticks": ""
             }
            },
            "type": "scattergl"
           }
          ],
          "scattermap": [
           {
            "marker": {
             "colorbar": {
              "outlinewidth": 0,
              "ticks": ""
             }
            },
            "type": "scattermap"
           }
          ],
          "scattermapbox": [
           {
            "marker": {
             "colorbar": {
              "outlinewidth": 0,
              "ticks": ""
             }
            },
            "type": "scattermapbox"
           }
          ],
          "scatterpolar": [
           {
            "marker": {
             "colorbar": {
              "outlinewidth": 0,
              "ticks": ""
             }
            },
            "type": "scatterpolar"
           }
          ],
          "scatterpolargl": [
           {
            "marker": {
             "colorbar": {
              "outlinewidth": 0,
              "ticks": ""
             }
            },
            "type": "scatterpolargl"
           }
          ],
          "scatterternary": [
           {
            "marker": {
             "colorbar": {
              "outlinewidth": 0,
              "ticks": ""
             }
            },
            "type": "scatterternary"
           }
          ],
          "surface": [
           {
            "colorbar": {
             "outlinewidth": 0,
             "ticks": ""
            },
            "colorscale": [
             [
              0,
              "#0d0887"
             ],
             [
              0.1111111111111111,
              "#46039f"
             ],
             [
              0.2222222222222222,
              "#7201a8"
             ],
             [
              0.3333333333333333,
              "#9c179e"
             ],
             [
              0.4444444444444444,
              "#bd3786"
             ],
             [
              0.5555555555555556,
              "#d8576b"
             ],
             [
              0.6666666666666666,
              "#ed7953"
             ],
             [
              0.7777777777777778,
              "#fb9f3a"
             ],
             [
              0.8888888888888888,
              "#fdca26"
             ],
             [
              1,
              "#f0f921"
             ]
            ],
            "type": "surface"
           }
          ],
          "table": [
           {
            "cells": {
             "fill": {
              "color": "#EBF0F8"
             },
             "line": {
              "color": "white"
             }
            },
            "header": {
             "fill": {
              "color": "#C8D4E3"
             },
             "line": {
              "color": "white"
             }
            },
            "type": "table"
           }
          ]
         },
         "layout": {
          "annotationdefaults": {
           "arrowcolor": "#2a3f5f",
           "arrowhead": 0,
           "arrowwidth": 1
          },
          "autotypenumbers": "strict",
          "coloraxis": {
           "colorbar": {
            "outlinewidth": 0,
            "ticks": ""
           }
          },
          "colorscale": {
           "diverging": [
            [
             0,
             "#8e0152"
            ],
            [
             0.1,
             "#c51b7d"
            ],
            [
             0.2,
             "#de77ae"
            ],
            [
             0.3,
             "#f1b6da"
            ],
            [
             0.4,
             "#fde0ef"
            ],
            [
             0.5,
             "#f7f7f7"
            ],
            [
             0.6,
             "#e6f5d0"
            ],
            [
             0.7,
             "#b8e186"
            ],
            [
             0.8,
             "#7fbc41"
            ],
            [
             0.9,
             "#4d9221"
            ],
            [
             1,
             "#276419"
            ]
           ],
           "sequential": [
            [
             0,
             "#0d0887"
            ],
            [
             0.1111111111111111,
             "#46039f"
            ],
            [
             0.2222222222222222,
             "#7201a8"
            ],
            [
             0.3333333333333333,
             "#9c179e"
            ],
            [
             0.4444444444444444,
             "#bd3786"
            ],
            [
             0.5555555555555556,
             "#d8576b"
            ],
            [
             0.6666666666666666,
             "#ed7953"
            ],
            [
             0.7777777777777778,
             "#fb9f3a"
            ],
            [
             0.8888888888888888,
             "#fdca26"
            ],
            [
             1,
             "#f0f921"
            ]
           ],
           "sequentialminus": [
            [
             0,
             "#0d0887"
            ],
            [
             0.1111111111111111,
             "#46039f"
            ],
            [
             0.2222222222222222,
             "#7201a8"
            ],
            [
             0.3333333333333333,
             "#9c179e"
            ],
            [
             0.4444444444444444,
             "#bd3786"
            ],
            [
             0.5555555555555556,
             "#d8576b"
            ],
            [
             0.6666666666666666,
             "#ed7953"
            ],
            [
             0.7777777777777778,
             "#fb9f3a"
            ],
            [
             0.8888888888888888,
             "#fdca26"
            ],
            [
             1,
             "#f0f921"
            ]
           ]
          },
          "colorway": [
           "#636efa",
           "#EF553B",
           "#00cc96",
           "#ab63fa",
           "#FFA15A",
           "#19d3f3",
           "#FF6692",
           "#B6E880",
           "#FF97FF",
           "#FECB52"
          ],
          "font": {
           "color": "#2a3f5f"
          },
          "geo": {
           "bgcolor": "white",
           "lakecolor": "white",
           "landcolor": "#E5ECF6",
           "showlakes": true,
           "showland": true,
           "subunitcolor": "white"
          },
          "hoverlabel": {
           "align": "left"
          },
          "hovermode": "closest",
          "mapbox": {
           "style": "light"
          },
          "paper_bgcolor": "white",
          "plot_bgcolor": "#E5ECF6",
          "polar": {
           "angularaxis": {
            "gridcolor": "white",
            "linecolor": "white",
            "ticks": ""
           },
           "bgcolor": "#E5ECF6",
           "radialaxis": {
            "gridcolor": "white",
            "linecolor": "white",
            "ticks": ""
           }
          },
          "scene": {
           "xaxis": {
            "backgroundcolor": "#E5ECF6",
            "gridcolor": "white",
            "gridwidth": 2,
            "linecolor": "white",
            "showbackground": true,
            "ticks": "",
            "zerolinecolor": "white"
           },
           "yaxis": {
            "backgroundcolor": "#E5ECF6",
            "gridcolor": "white",
            "gridwidth": 2,
            "linecolor": "white",
            "showbackground": true,
            "ticks": "",
            "zerolinecolor": "white"
           },
           "zaxis": {
            "backgroundcolor": "#E5ECF6",
            "gridcolor": "white",
            "gridwidth": 2,
            "linecolor": "white",
            "showbackground": true,
            "ticks": "",
            "zerolinecolor": "white"
           }
          },
          "shapedefaults": {
           "line": {
            "color": "#2a3f5f"
           }
          },
          "ternary": {
           "aaxis": {
            "gridcolor": "white",
            "linecolor": "white",
            "ticks": ""
           },
           "baxis": {
            "gridcolor": "white",
            "linecolor": "white",
            "ticks": ""
           },
           "bgcolor": "#E5ECF6",
           "caxis": {
            "gridcolor": "white",
            "linecolor": "white",
            "ticks": ""
           }
          },
          "title": {
           "x": 0.05
          },
          "xaxis": {
           "automargin": true,
           "gridcolor": "white",
           "linecolor": "white",
           "ticks": "",
           "title": {
            "standoff": 15
           },
           "zerolinecolor": "white",
           "zerolinewidth": 2
          },
          "yaxis": {
           "automargin": true,
           "gridcolor": "white",
           "linecolor": "white",
           "ticks": "",
           "title": {
            "standoff": 15
           },
           "zerolinecolor": "white",
           "zerolinewidth": 2
          }
         }
        },
        "title": {
         "text": "FIFA23 Defender Archetypes (Radar Charts)"
        },
        "width": 1200
       }
      }
     },
     "metadata": {},
     "output_type": "display_data"
    }
   ],
   "source": [
    "radar_features = [f for f in defense_features if f not in ['Height(in cm)', 'Weight(in kg)']]\n",
    "\n",
    "plot_archetypes_radar(\n",
    "    cluster_means=cluster_means_def,\n",
    "    radar_features=radar_features,\n",
    "    archetype_names=archetype_names_def,\n",
    "    position_group='DEF'\n",
    ")"
   ]
  },
  {
   "cell_type": "markdown",
   "id": "a0cb9fbe",
   "metadata": {},
   "source": [
    "## Mediocentros\n"
   ]
  },
  {
   "cell_type": "code",
   "execution_count": null,
   "id": "95ea3cb2",
   "metadata": {},
   "outputs": [
    {
     "name": "stdout",
     "output_type": "stream",
     "text": [
      "         Height(in cm)  Weight(in kg)  Crossing  Finishing  Heading Accuracy  \\\n",
      "Cluster                                                                        \n",
      "0           181.160889      75.130804  0.918524   0.869726          0.823792   \n",
      "1           175.514957      69.266382  0.906118   0.915162          0.686120   \n",
      "2           181.272081      74.837563  0.752762   0.675077          0.856674   \n",
      "3           176.096467      69.503085  0.863460   0.818207          0.781583   \n",
      "4           176.794399      70.759027  0.933574   0.930306          0.709247   \n",
      "\n",
      "         Short Passing   Volleys  Dribbling     Curve  Freekick Accuracy  ...  \\\n",
      "Cluster                                                                   ...   \n",
      "0             1.033834  0.818292   0.985538  0.940150           0.891473  ...   \n",
      "1             0.938086  0.786258   1.049622  0.850245           0.737577  ...   \n",
      "2             1.025079  0.601332   0.906574  0.710399           0.684608  ...   \n",
      "3             1.041718  0.727513   1.010009  0.848499           0.774860  ...   \n",
      "4             1.004064  0.855993   1.040336  0.964757           0.908211  ...   \n",
      "\n",
      "         Strength  Long Shots  Aggression  Interceptions  Positioning  \\\n",
      "Cluster                                                                 \n",
      "0        0.988183    0.947578    0.961153       0.918239     0.935893   \n",
      "1        0.827061    0.835021    0.690459       0.462687     0.925408   \n",
      "2        1.045840    0.773829    1.027704       0.968173     0.782203   \n",
      "3        0.913559    0.838505    0.938341       0.869483     0.924811   \n",
      "4        0.822277    0.938434    0.744027       0.569776     0.955796   \n",
      "\n",
      "           Vision  Composure   Marking  Standing Tackle  Sliding Tackle  \n",
      "Cluster                                                                  \n",
      "0        0.995612   0.986497  0.892245         0.932200        0.874337  \n",
      "1        0.905477   0.887244  0.501984         0.512088        0.493822  \n",
      "2        0.906791   0.906783  0.950109         0.989672        0.947475  \n",
      "3        0.971598   0.934099  0.845933         0.911155        0.872098  \n",
      "4        0.988831   0.959011  0.581531         0.600498        0.555070  \n",
      "\n",
      "[5 rows x 29 columns]\n"
     ]
    }
   ],
   "source": [
    "midfield_features = [\n",
    "    'Height(in cm)', 'Weight(in kg)',\n",
    "    'Crossing', 'Finishing', 'Heading Accuracy', 'Short Passing', 'Volleys',\n",
    "    'Dribbling','Curve','Freekick Accuracy', 'LongPassing', 'BallControl',\n",
    "    'Acceleration', 'Sprint Speed', 'Agility', 'Reactions', 'Balance',\n",
    "    'Jumping', 'Stamina', 'Strength','Long Shots',\n",
    "    'Aggression', 'Interceptions', 'Positioning', 'Vision',\n",
    "    'Composure', 'Marking', 'Standing Tackle', 'Sliding Tackle'\n",
    "]\n",
    "\n",
    "df_midfielders, kmeans_def = cluster_position_group(\n",
    "    df_field_players, 'MID', midfield_features, n_clusters=5\n",
    ")\n",
    "cluster_means_mid = df_midfielders.groupby('Cluster')[midfield_features].mean()\n",
    "cluster_means_mid.to_csv(\"../outputs/cluster_means/clusters_midfield.csv\")\n",
    "print(cluster_means_mid)\n"
   ]
  },
  {
   "cell_type": "code",
   "execution_count": null,
   "id": "0af78484",
   "metadata": {},
   "outputs": [
    {
     "name": "stdout",
     "output_type": "stream",
     "text": [
      "\n",
      "🔹 Attacking Midfielder\n"
     ]
    },
    {
     "data": {
      "text/html": [
       "<div>\n",
       "<style scoped>\n",
       "    .dataframe tbody tr th:only-of-type {\n",
       "        vertical-align: middle;\n",
       "    }\n",
       "\n",
       "    .dataframe tbody tr th {\n",
       "        vertical-align: top;\n",
       "    }\n",
       "\n",
       "    .dataframe thead th {\n",
       "        text-align: right;\n",
       "    }\n",
       "</style>\n",
       "<table border=\"1\" class=\"dataframe\">\n",
       "  <thead>\n",
       "    <tr style=\"text-align: right;\">\n",
       "      <th></th>\n",
       "      <th>Known As</th>\n",
       "      <th>Best Position</th>\n",
       "      <th>Overall</th>\n",
       "      <th>Short Passing</th>\n",
       "    </tr>\n",
       "  </thead>\n",
       "  <tbody>\n",
       "    <tr>\n",
       "      <th>0</th>\n",
       "      <td>L. Messi</td>\n",
       "      <td>CAM</td>\n",
       "      <td>91</td>\n",
       "      <td>1.000000</td>\n",
       "    </tr>\n",
       "    <tr>\n",
       "      <th>15</th>\n",
       "      <td>S. Mané</td>\n",
       "      <td>LM</td>\n",
       "      <td>89</td>\n",
       "      <td>0.943820</td>\n",
       "    </tr>\n",
       "    <tr>\n",
       "      <th>23</th>\n",
       "      <td>Bernardo Silva</td>\n",
       "      <td>CAM</td>\n",
       "      <td>88</td>\n",
       "      <td>1.011364</td>\n",
       "    </tr>\n",
       "    <tr>\n",
       "      <th>49</th>\n",
       "      <td>P. Dybala</td>\n",
       "      <td>CAM</td>\n",
       "      <td>86</td>\n",
       "      <td>1.000000</td>\n",
       "    </tr>\n",
       "    <tr>\n",
       "      <th>56</th>\n",
       "      <td>K. Coman</td>\n",
       "      <td>LM</td>\n",
       "      <td>86</td>\n",
       "      <td>0.930233</td>\n",
       "    </tr>\n",
       "  </tbody>\n",
       "</table>\n",
       "</div>"
      ],
      "text/plain": [
       "          Known As Best Position  Overall  Short Passing\n",
       "0         L. Messi           CAM       91       1.000000\n",
       "15         S. Mané            LM       89       0.943820\n",
       "23  Bernardo Silva           CAM       88       1.011364\n",
       "49       P. Dybala           CAM       86       1.000000\n",
       "56        K. Coman            LM       86       0.930233"
      ]
     },
     "metadata": {},
     "output_type": "display_data"
    },
    {
     "name": "stdout",
     "output_type": "stream",
     "text": [
      "\n",
      "🔹 Attacking Wide Midfielder\n"
     ]
    },
    {
     "data": {
      "text/html": [
       "<div>\n",
       "<style scoped>\n",
       "    .dataframe tbody tr th:only-of-type {\n",
       "        vertical-align: middle;\n",
       "    }\n",
       "\n",
       "    .dataframe tbody tr th {\n",
       "        vertical-align: top;\n",
       "    }\n",
       "\n",
       "    .dataframe thead th {\n",
       "        text-align: right;\n",
       "    }\n",
       "</style>\n",
       "<table border=\"1\" class=\"dataframe\">\n",
       "  <thead>\n",
       "    <tr style=\"text-align: right;\">\n",
       "      <th></th>\n",
       "      <th>Known As</th>\n",
       "      <th>Best Position</th>\n",
       "      <th>Overall</th>\n",
       "      <th>Short Passing</th>\n",
       "    </tr>\n",
       "  </thead>\n",
       "  <tbody>\n",
       "    <tr>\n",
       "      <th>126</th>\n",
       "      <td>M. Diaby</td>\n",
       "      <td>RM</td>\n",
       "      <td>84</td>\n",
       "      <td>0.952381</td>\n",
       "    </tr>\n",
       "    <tr>\n",
       "      <th>244</th>\n",
       "      <td>C. Pulisic</td>\n",
       "      <td>RM</td>\n",
       "      <td>82</td>\n",
       "      <td>0.939024</td>\n",
       "    </tr>\n",
       "    <tr>\n",
       "      <th>369</th>\n",
       "      <td>A. Saint-Maximin</td>\n",
       "      <td>CAM</td>\n",
       "      <td>81</td>\n",
       "      <td>0.938272</td>\n",
       "    </tr>\n",
       "    <tr>\n",
       "      <th>415</th>\n",
       "      <td>N. González</td>\n",
       "      <td>LM</td>\n",
       "      <td>80</td>\n",
       "      <td>1.000000</td>\n",
       "    </tr>\n",
       "    <tr>\n",
       "      <th>537</th>\n",
       "      <td>S. Chukwueze</td>\n",
       "      <td>LM</td>\n",
       "      <td>79</td>\n",
       "      <td>0.924051</td>\n",
       "    </tr>\n",
       "  </tbody>\n",
       "</table>\n",
       "</div>"
      ],
      "text/plain": [
       "             Known As Best Position  Overall  Short Passing\n",
       "126          M. Diaby            RM       84       0.952381\n",
       "244        C. Pulisic            RM       82       0.939024\n",
       "369  A. Saint-Maximin           CAM       81       0.938272\n",
       "415       N. González            LM       80       1.000000\n",
       "537      S. Chukwueze            LM       79       0.924051"
      ]
     },
     "metadata": {},
     "output_type": "display_data"
    },
    {
     "name": "stdout",
     "output_type": "stream",
     "text": [
      "\n",
      "🔹 Box-to-Box Midfielder\n"
     ]
    },
    {
     "data": {
      "text/html": [
       "<div>\n",
       "<style scoped>\n",
       "    .dataframe tbody tr th:only-of-type {\n",
       "        vertical-align: middle;\n",
       "    }\n",
       "\n",
       "    .dataframe tbody tr th {\n",
       "        vertical-align: top;\n",
       "    }\n",
       "\n",
       "    .dataframe thead th {\n",
       "        text-align: right;\n",
       "    }\n",
       "</style>\n",
       "<table border=\"1\" class=\"dataframe\">\n",
       "  <thead>\n",
       "    <tr style=\"text-align: right;\">\n",
       "      <th></th>\n",
       "      <th>Known As</th>\n",
       "      <th>Best Position</th>\n",
       "      <th>Overall</th>\n",
       "      <th>Short Passing</th>\n",
       "    </tr>\n",
       "  </thead>\n",
       "  <tbody>\n",
       "    <tr>\n",
       "      <th>3</th>\n",
       "      <td>K. De Bruyne</td>\n",
       "      <td>CM</td>\n",
       "      <td>91</td>\n",
       "      <td>1.021978</td>\n",
       "    </tr>\n",
       "    <tr>\n",
       "      <th>17</th>\n",
       "      <td>J. Kimmich</td>\n",
       "      <td>CDM</td>\n",
       "      <td>89</td>\n",
       "      <td>0.977528</td>\n",
       "    </tr>\n",
       "    <tr>\n",
       "      <th>28</th>\n",
       "      <td>T. Kroos</td>\n",
       "      <td>CM</td>\n",
       "      <td>88</td>\n",
       "      <td>1.056818</td>\n",
       "    </tr>\n",
       "    <tr>\n",
       "      <th>29</th>\n",
       "      <td>L. Modrić</td>\n",
       "      <td>CM</td>\n",
       "      <td>88</td>\n",
       "      <td>1.034091</td>\n",
       "    </tr>\n",
       "    <tr>\n",
       "      <th>34</th>\n",
       "      <td>T. Müller</td>\n",
       "      <td>CAM</td>\n",
       "      <td>87</td>\n",
       "      <td>0.977011</td>\n",
       "    </tr>\n",
       "  </tbody>\n",
       "</table>\n",
       "</div>"
      ],
      "text/plain": [
       "        Known As Best Position  Overall  Short Passing\n",
       "3   K. De Bruyne            CM       91       1.021978\n",
       "17    J. Kimmich           CDM       89       0.977528\n",
       "28      T. Kroos            CM       88       1.056818\n",
       "29     L. Modrić            CM       88       1.034091\n",
       "34     T. Müller           CAM       87       0.977011"
      ]
     },
     "metadata": {},
     "output_type": "display_data"
    },
    {
     "name": "stdout",
     "output_type": "stream",
     "text": [
      "\n",
      "🔹 Holding Midfielder\n"
     ]
    },
    {
     "data": {
      "text/html": [
       "<div>\n",
       "<style scoped>\n",
       "    .dataframe tbody tr th:only-of-type {\n",
       "        vertical-align: middle;\n",
       "    }\n",
       "\n",
       "    .dataframe tbody tr th {\n",
       "        vertical-align: top;\n",
       "    }\n",
       "\n",
       "    .dataframe thead th {\n",
       "        text-align: right;\n",
       "    }\n",
       "</style>\n",
       "<table border=\"1\" class=\"dataframe\">\n",
       "  <thead>\n",
       "    <tr style=\"text-align: right;\">\n",
       "      <th></th>\n",
       "      <th>Known As</th>\n",
       "      <th>Best Position</th>\n",
       "      <th>Overall</th>\n",
       "      <th>Short Passing</th>\n",
       "    </tr>\n",
       "  </thead>\n",
       "  <tbody>\n",
       "    <tr>\n",
       "      <th>13</th>\n",
       "      <td>Casemiro</td>\n",
       "      <td>CDM</td>\n",
       "      <td>89</td>\n",
       "      <td>0.943820</td>\n",
       "    </tr>\n",
       "    <tr>\n",
       "      <th>19</th>\n",
       "      <td>N. Kanté</td>\n",
       "      <td>CDM</td>\n",
       "      <td>89</td>\n",
       "      <td>0.921348</td>\n",
       "    </tr>\n",
       "    <tr>\n",
       "      <th>31</th>\n",
       "      <td>Rodri</td>\n",
       "      <td>CDM</td>\n",
       "      <td>87</td>\n",
       "      <td>0.988506</td>\n",
       "    </tr>\n",
       "    <tr>\n",
       "      <th>32</th>\n",
       "      <td>Fabinho</td>\n",
       "      <td>CDM</td>\n",
       "      <td>87</td>\n",
       "      <td>0.965517</td>\n",
       "    </tr>\n",
       "    <tr>\n",
       "      <th>72</th>\n",
       "      <td>Sergio Busquets</td>\n",
       "      <td>CDM</td>\n",
       "      <td>85</td>\n",
       "      <td>1.023529</td>\n",
       "    </tr>\n",
       "  </tbody>\n",
       "</table>\n",
       "</div>"
      ],
      "text/plain": [
       "           Known As Best Position  Overall  Short Passing\n",
       "13         Casemiro           CDM       89       0.943820\n",
       "19         N. Kanté           CDM       89       0.921348\n",
       "31            Rodri           CDM       87       0.988506\n",
       "32          Fabinho           CDM       87       0.965517\n",
       "72  Sergio Busquets           CDM       85       1.023529"
      ]
     },
     "metadata": {},
     "output_type": "display_data"
    },
    {
     "name": "stdout",
     "output_type": "stream",
     "text": [
      "\n",
      "🔹 Mobile Playmaker\n"
     ]
    },
    {
     "data": {
      "text/html": [
       "<div>\n",
       "<style scoped>\n",
       "    .dataframe tbody tr th:only-of-type {\n",
       "        vertical-align: middle;\n",
       "    }\n",
       "\n",
       "    .dataframe tbody tr th {\n",
       "        vertical-align: top;\n",
       "    }\n",
       "\n",
       "    .dataframe thead th {\n",
       "        text-align: right;\n",
       "    }\n",
       "</style>\n",
       "<table border=\"1\" class=\"dataframe\">\n",
       "  <thead>\n",
       "    <tr style=\"text-align: right;\">\n",
       "      <th></th>\n",
       "      <th>Known As</th>\n",
       "      <th>Best Position</th>\n",
       "      <th>Overall</th>\n",
       "      <th>Short Passing</th>\n",
       "    </tr>\n",
       "  </thead>\n",
       "  <tbody>\n",
       "    <tr>\n",
       "      <th>36</th>\n",
       "      <td>M. Verratti</td>\n",
       "      <td>CM</td>\n",
       "      <td>87</td>\n",
       "      <td>1.034483</td>\n",
       "    </tr>\n",
       "    <tr>\n",
       "      <th>82</th>\n",
       "      <td>Pedri</td>\n",
       "      <td>CM</td>\n",
       "      <td>85</td>\n",
       "      <td>1.023529</td>\n",
       "    </tr>\n",
       "    <tr>\n",
       "      <th>141</th>\n",
       "      <td>A. Davies</td>\n",
       "      <td>LM</td>\n",
       "      <td>84</td>\n",
       "      <td>0.976190</td>\n",
       "    </tr>\n",
       "    <tr>\n",
       "      <th>233</th>\n",
       "      <td>N. Mazraoui</td>\n",
       "      <td>RM</td>\n",
       "      <td>82</td>\n",
       "      <td>1.012195</td>\n",
       "    </tr>\n",
       "    <tr>\n",
       "      <th>360</th>\n",
       "      <td>S. Lobotka</td>\n",
       "      <td>CM</td>\n",
       "      <td>81</td>\n",
       "      <td>1.049383</td>\n",
       "    </tr>\n",
       "  </tbody>\n",
       "</table>\n",
       "</div>"
      ],
      "text/plain": [
       "        Known As Best Position  Overall  Short Passing\n",
       "36   M. Verratti            CM       87       1.034483\n",
       "82         Pedri            CM       85       1.023529\n",
       "141    A. Davies            LM       84       0.976190\n",
       "233  N. Mazraoui            RM       82       1.012195\n",
       "360   S. Lobotka            CM       81       1.049383"
      ]
     },
     "metadata": {},
     "output_type": "display_data"
    }
   ],
   "source": [
    "archetype_names_mid = {\n",
    "    0: \"Box-to-Box Midfielder\",\n",
    "    1: \"Attacking Wide Midfielder\",\n",
    "    2: \"Holding Midfielder\",\n",
    "    3: \"Mobile Playmaker\",\n",
    "    4: \"Attacking Midfielder\"\n",
    "}\n",
    "\n",
    "df_midfielders['archetype'] = df_midfielders['Cluster'].map(archetype_names_mid)\n",
    "\n",
    "for archetype, group in df_midfielders.groupby('archetype'):\n",
    "    print(f\"\\n🔹 {archetype}\")\n",
    "    display(group[['Known As', 'Best Position', 'Overall', 'Short Passing']].head(5))"
   ]
  },
  {
   "cell_type": "code",
   "execution_count": null,
   "id": "0202a31a",
   "metadata": {},
   "outputs": [
    {
     "data": {
      "application/vnd.plotly.v1+json": {
       "config": {
        "plotlyServerURL": "https://plot.ly"
       },
       "data": [
        {
         "fill": "toself",
         "name": "Box-to-Box Midfielder",
         "r": {
          "bdata": "CPiEdItk7T9ACCZpzNTrP776lESAXOo/wHddSZWK8D8g/yeVci/qP8di0KqHie8/kfwYJ7UV7j/bciLk8obsP+aTvDMP++8/+FMbLDFJ8D97qU4xRZftP8H3Jg0VGe0/0TKxW3lP7z+GeidG4STvPw3Q5yCDcu8/5HyYbld47T+9sbTR4ePwP0g5lLsxn+8/we9JoI9S7j/GyYurxMHuPydXIBk2Yu0/1dnZU9Xy7T/CJLjXDNzvP897sjxhke8/G+9wDkaN7D8TBRP8ldTtPxHbEYaR+us/",
          "dtype": "f8"
         },
         "subplot": "polar",
         "theta": [
          "Crossing",
          "Finishing",
          "Heading Accuracy",
          "Short Passing",
          "Volleys",
          "Dribbling",
          "Curve",
          "Freekick Accuracy",
          "LongPassing",
          "BallControl",
          "Acceleration",
          "Sprint Speed",
          "Agility",
          "Reactions",
          "Balance",
          "Jumping",
          "Stamina",
          "Strength",
          "Long Shots",
          "Aggression",
          "Interceptions",
          "Positioning",
          "Vision",
          "Composure",
          "Marking",
          "Standing Tackle",
          "Sliding Tackle"
         ],
         "type": "scatterpolar"
        },
        {
         "fill": "toself",
         "name": "Attacking Wide Midfielder",
         "r": {
          "bdata": "KGssR+r+7D+gUR7cAUntP8PVx0ey9OU/mXaFsM0E7j/Za6Z5BinpP8trCz1Ay/A/j/5J3DU16z/NC/EZOprnP9UySB1rZuo/D3sivTgw8D+IyW9ZlQD0P/9IaVMQr/M/FH5txI5d8z+C5iKV8B3sPzrVAiv+JfM/MfvSw5N17D+5A3sbR3/vP9pXhkFId+o/jZeAr3646j8yEFf7PBjmP+DzdryonN0/UqKRq/Gc7T89eSuZq/nsPxVhRapNZOw/8k09p0EQ4D/EOCO4BWPgPy0mhgnJmt8/",
          "dtype": "f8"
         },
         "subplot": "polar2",
         "theta": [
          "Crossing",
          "Finishing",
          "Heading Accuracy",
          "Short Passing",
          "Volleys",
          "Dribbling",
          "Curve",
          "Freekick Accuracy",
          "LongPassing",
          "BallControl",
          "Acceleration",
          "Sprint Speed",
          "Agility",
          "Reactions",
          "Balance",
          "Jumping",
          "Stamina",
          "Strength",
          "Long Shots",
          "Aggression",
          "Interceptions",
          "Positioning",
          "Vision",
          "Composure",
          "Marking",
          "Standing Tackle",
          "Sliding Tackle"
         ],
         "type": "scatterpolar"
        },
        {
         "fill": "toself",
         "name": "Holding Midfielder",
         "r": {
          "bdata": "Ne0KAaEW6D8RCL4fPJrlP9fQbRLfaes/AilHTLlm8D+H8YUuHT7jP5/BfmuoAu0/QIrp95a75j8X0p0SUOjlP9MB5gLqc+8/YkTaLEw67z/nTc2qSP3tP8kUHxbmmu0/szVVdjBs7j90vwcDtIfuPy9qQeH1u+8/B0Lz794K8D/OapsxTovxP73YbePCu/A/TOkjyjXD6D83Fu45eXHwP6thvdpF++4/lIn7cs8H6T+WbzWJbwTtP9C6rQNdBO0/RG2EG0pn7j+YbHxbZKvvP7Sy5gS4Ue4/",
          "dtype": "f8"
         },
         "subplot": "polar3",
         "theta": [
          "Crossing",
          "Finishing",
          "Heading Accuracy",
          "Short Passing",
          "Volleys",
          "Dribbling",
          "Curve",
          "Freekick Accuracy",
          "LongPassing",
          "BallControl",
          "Acceleration",
          "Sprint Speed",
          "Agility",
          "Reactions",
          "Balance",
          "Jumping",
          "Stamina",
          "Strength",
          "Long Shots",
          "Aggression",
          "Interceptions",
          "Positioning",
          "Vision",
          "Composure",
          "Marking",
          "Standing Tackle",
          "Sliding Tackle"
         ],
         "type": "scatterpolar"
        },
        {
         "fill": "toself",
         "name": "Mobile Playmaker",
         "r": {
          "bdata": "9pYUhHeh6z/qQ2nVvy7qP+hLKFO6Auk/fNtlIeCq8D/duuf+yUfnP4dj+tD+KPA/tM87Tugm6z+TU/MKp8voP51NZ0dUde8/OOZo0jJa8D8ImSRm/U7yP+6LD+s4+fE/sbwmeS+L8j8oLWtgP4/uP8ius5+KMvM/ZeqlnNU88D+YaS145nLxP25QEZ/fO+0/+0eeAQjV6j8xKLSo4wbuP6uwma/O0us/Pts4qA2Y7T88ScbcVBfvP6fsYwgj5O0/zxNIDOER6z9NonzrLSjtP9cobYE66Os/",
          "dtype": "f8"
         },
         "subplot": "polar4",
         "theta": [
          "Crossing",
          "Finishing",
          "Heading Accuracy",
          "Short Passing",
          "Volleys",
          "Dribbling",
          "Curve",
          "Freekick Accuracy",
          "LongPassing",
          "BallControl",
          "Acceleration",
          "Sprint Speed",
          "Agility",
          "Reactions",
          "Balance",
          "Jumping",
          "Stamina",
          "Strength",
          "Long Shots",
          "Aggression",
          "Interceptions",
          "Positioning",
          "Vision",
          "Composure",
          "Marking",
          "Standing Tackle",
          "Sliding Tackle"
         ],
         "type": "scatterpolar"
        },
        {
         "fill": "toself",
         "name": "Attacking Midfielder",
         "r": {
          "bdata": "1yqUwdXf7T9j4hBYEMXtP9t4bvImsuY/H0KSe6UQ8D/as6qXS2TrP8THcr43pfA/sw+g50rf7j/KEiZMEBDtP5P8bhaW8e0/N/tnInl68D9nkns0/RXxP921TcZ8nfA/Sw4Ygg6J8T+dNvFH++/tP0wsL8NfS/E/TyF+ubjT6j+QM/xpndDtP+jYhgAYUOo/VqMEhKcH7j9IhxH1Ec/nP3v77XubO+I/fHlHgeKV7j/xetqsgaTvP+s9/yA4sO4/S+dkfOeb4j/a/v8oSDfjP6anr3siw+E/",
          "dtype": "f8"
         },
         "subplot": "polar5",
         "theta": [
          "Crossing",
          "Finishing",
          "Heading Accuracy",
          "Short Passing",
          "Volleys",
          "Dribbling",
          "Curve",
          "Freekick Accuracy",
          "LongPassing",
          "BallControl",
          "Acceleration",
          "Sprint Speed",
          "Agility",
          "Reactions",
          "Balance",
          "Jumping",
          "Stamina",
          "Strength",
          "Long Shots",
          "Aggression",
          "Interceptions",
          "Positioning",
          "Vision",
          "Composure",
          "Marking",
          "Standing Tackle",
          "Sliding Tackle"
         ],
         "type": "scatterpolar"
        }
       ],
       "layout": {
        "annotations": [
         {
          "font": {
           "size": 16
          },
          "showarrow": false,
          "text": "Box-to-Box Midfielder",
          "x": 0.14444444444444446,
          "xanchor": "center",
          "xref": "paper",
          "y": 1,
          "yanchor": "bottom",
          "yref": "paper"
         },
         {
          "font": {
           "size": 16
          },
          "showarrow": false,
          "text": "Attacking Wide Midfielder",
          "x": 0.5,
          "xanchor": "center",
          "xref": "paper",
          "y": 1,
          "yanchor": "bottom",
          "yref": "paper"
         },
         {
          "font": {
           "size": 16
          },
          "showarrow": false,
          "text": "Holding Midfielder",
          "x": 0.8555555555555556,
          "xanchor": "center",
          "xref": "paper",
          "y": 1,
          "yanchor": "bottom",
          "yref": "paper"
         },
         {
          "font": {
           "size": 16
          },
          "showarrow": false,
          "text": "Mobile Playmaker",
          "x": 0.14444444444444446,
          "xanchor": "center",
          "xref": "paper",
          "y": 0.375,
          "yanchor": "bottom",
          "yref": "paper"
         },
         {
          "font": {
           "size": 16
          },
          "showarrow": false,
          "text": "Attacking Midfielder",
          "x": 0.5,
          "xanchor": "center",
          "xref": "paper",
          "y": 0.375,
          "yanchor": "bottom",
          "yref": "paper"
         }
        ],
        "height": 800,
        "polar": {
         "domain": {
          "x": [
           0,
           0.2888888888888889
          ],
          "y": [
           0.625,
           1
          ]
         }
        },
        "polar2": {
         "domain": {
          "x": [
           0.35555555555555557,
           0.6444444444444445
          ],
          "y": [
           0.625,
           1
          ]
         }
        },
        "polar3": {
         "domain": {
          "x": [
           0.7111111111111111,
           1
          ],
          "y": [
           0.625,
           1
          ]
         }
        },
        "polar4": {
         "domain": {
          "x": [
           0,
           0.2888888888888889
          ],
          "y": [
           0,
           0.375
          ]
         }
        },
        "polar5": {
         "domain": {
          "x": [
           0.35555555555555557,
           0.6444444444444445
          ],
          "y": [
           0,
           0.375
          ]
         }
        },
        "showlegend": false,
        "template": {
         "data": {
          "bar": [
           {
            "error_x": {
             "color": "#2a3f5f"
            },
            "error_y": {
             "color": "#2a3f5f"
            },
            "marker": {
             "line": {
              "color": "#E5ECF6",
              "width": 0.5
             },
             "pattern": {
              "fillmode": "overlay",
              "size": 10,
              "solidity": 0.2
             }
            },
            "type": "bar"
           }
          ],
          "barpolar": [
           {
            "marker": {
             "line": {
              "color": "#E5ECF6",
              "width": 0.5
             },
             "pattern": {
              "fillmode": "overlay",
              "size": 10,
              "solidity": 0.2
             }
            },
            "type": "barpolar"
           }
          ],
          "carpet": [
           {
            "aaxis": {
             "endlinecolor": "#2a3f5f",
             "gridcolor": "white",
             "linecolor": "white",
             "minorgridcolor": "white",
             "startlinecolor": "#2a3f5f"
            },
            "baxis": {
             "endlinecolor": "#2a3f5f",
             "gridcolor": "white",
             "linecolor": "white",
             "minorgridcolor": "white",
             "startlinecolor": "#2a3f5f"
            },
            "type": "carpet"
           }
          ],
          "choropleth": [
           {
            "colorbar": {
             "outlinewidth": 0,
             "ticks": ""
            },
            "type": "choropleth"
           }
          ],
          "contour": [
           {
            "colorbar": {
             "outlinewidth": 0,
             "ticks": ""
            },
            "colorscale": [
             [
              0,
              "#0d0887"
             ],
             [
              0.1111111111111111,
              "#46039f"
             ],
             [
              0.2222222222222222,
              "#7201a8"
             ],
             [
              0.3333333333333333,
              "#9c179e"
             ],
             [
              0.4444444444444444,
              "#bd3786"
             ],
             [
              0.5555555555555556,
              "#d8576b"
             ],
             [
              0.6666666666666666,
              "#ed7953"
             ],
             [
              0.7777777777777778,
              "#fb9f3a"
             ],
             [
              0.8888888888888888,
              "#fdca26"
             ],
             [
              1,
              "#f0f921"
             ]
            ],
            "type": "contour"
           }
          ],
          "contourcarpet": [
           {
            "colorbar": {
             "outlinewidth": 0,
             "ticks": ""
            },
            "type": "contourcarpet"
           }
          ],
          "heatmap": [
           {
            "colorbar": {
             "outlinewidth": 0,
             "ticks": ""
            },
            "colorscale": [
             [
              0,
              "#0d0887"
             ],
             [
              0.1111111111111111,
              "#46039f"
             ],
             [
              0.2222222222222222,
              "#7201a8"
             ],
             [
              0.3333333333333333,
              "#9c179e"
             ],
             [
              0.4444444444444444,
              "#bd3786"
             ],
             [
              0.5555555555555556,
              "#d8576b"
             ],
             [
              0.6666666666666666,
              "#ed7953"
             ],
             [
              0.7777777777777778,
              "#fb9f3a"
             ],
             [
              0.8888888888888888,
              "#fdca26"
             ],
             [
              1,
              "#f0f921"
             ]
            ],
            "type": "heatmap"
           }
          ],
          "histogram": [
           {
            "marker": {
             "pattern": {
              "fillmode": "overlay",
              "size": 10,
              "solidity": 0.2
             }
            },
            "type": "histogram"
           }
          ],
          "histogram2d": [
           {
            "colorbar": {
             "outlinewidth": 0,
             "ticks": ""
            },
            "colorscale": [
             [
              0,
              "#0d0887"
             ],
             [
              0.1111111111111111,
              "#46039f"
             ],
             [
              0.2222222222222222,
              "#7201a8"
             ],
             [
              0.3333333333333333,
              "#9c179e"
             ],
             [
              0.4444444444444444,
              "#bd3786"
             ],
             [
              0.5555555555555556,
              "#d8576b"
             ],
             [
              0.6666666666666666,
              "#ed7953"
             ],
             [
              0.7777777777777778,
              "#fb9f3a"
             ],
             [
              0.8888888888888888,
              "#fdca26"
             ],
             [
              1,
              "#f0f921"
             ]
            ],
            "type": "histogram2d"
           }
          ],
          "histogram2dcontour": [
           {
            "colorbar": {
             "outlinewidth": 0,
             "ticks": ""
            },
            "colorscale": [
             [
              0,
              "#0d0887"
             ],
             [
              0.1111111111111111,
              "#46039f"
             ],
             [
              0.2222222222222222,
              "#7201a8"
             ],
             [
              0.3333333333333333,
              "#9c179e"
             ],
             [
              0.4444444444444444,
              "#bd3786"
             ],
             [
              0.5555555555555556,
              "#d8576b"
             ],
             [
              0.6666666666666666,
              "#ed7953"
             ],
             [
              0.7777777777777778,
              "#fb9f3a"
             ],
             [
              0.8888888888888888,
              "#fdca26"
             ],
             [
              1,
              "#f0f921"
             ]
            ],
            "type": "histogram2dcontour"
           }
          ],
          "mesh3d": [
           {
            "colorbar": {
             "outlinewidth": 0,
             "ticks": ""
            },
            "type": "mesh3d"
           }
          ],
          "parcoords": [
           {
            "line": {
             "colorbar": {
              "outlinewidth": 0,
              "ticks": ""
             }
            },
            "type": "parcoords"
           }
          ],
          "pie": [
           {
            "automargin": true,
            "type": "pie"
           }
          ],
          "scatter": [
           {
            "fillpattern": {
             "fillmode": "overlay",
             "size": 10,
             "solidity": 0.2
            },
            "type": "scatter"
           }
          ],
          "scatter3d": [
           {
            "line": {
             "colorbar": {
              "outlinewidth": 0,
              "ticks": ""
             }
            },
            "marker": {
             "colorbar": {
              "outlinewidth": 0,
              "ticks": ""
             }
            },
            "type": "scatter3d"
           }
          ],
          "scattercarpet": [
           {
            "marker": {
             "colorbar": {
              "outlinewidth": 0,
              "ticks": ""
             }
            },
            "type": "scattercarpet"
           }
          ],
          "scattergeo": [
           {
            "marker": {
             "colorbar": {
              "outlinewidth": 0,
              "ticks": ""
             }
            },
            "type": "scattergeo"
           }
          ],
          "scattergl": [
           {
            "marker": {
             "colorbar": {
              "outlinewidth": 0,
              "ticks": ""
             }
            },
            "type": "scattergl"
           }
          ],
          "scattermap": [
           {
            "marker": {
             "colorbar": {
              "outlinewidth": 0,
              "ticks": ""
             }
            },
            "type": "scattermap"
           }
          ],
          "scattermapbox": [
           {
            "marker": {
             "colorbar": {
              "outlinewidth": 0,
              "ticks": ""
             }
            },
            "type": "scattermapbox"
           }
          ],
          "scatterpolar": [
           {
            "marker": {
             "colorbar": {
              "outlinewidth": 0,
              "ticks": ""
             }
            },
            "type": "scatterpolar"
           }
          ],
          "scatterpolargl": [
           {
            "marker": {
             "colorbar": {
              "outlinewidth": 0,
              "ticks": ""
             }
            },
            "type": "scatterpolargl"
           }
          ],
          "scatterternary": [
           {
            "marker": {
             "colorbar": {
              "outlinewidth": 0,
              "ticks": ""
             }
            },
            "type": "scatterternary"
           }
          ],
          "surface": [
           {
            "colorbar": {
             "outlinewidth": 0,
             "ticks": ""
            },
            "colorscale": [
             [
              0,
              "#0d0887"
             ],
             [
              0.1111111111111111,
              "#46039f"
             ],
             [
              0.2222222222222222,
              "#7201a8"
             ],
             [
              0.3333333333333333,
              "#9c179e"
             ],
             [
              0.4444444444444444,
              "#bd3786"
             ],
             [
              0.5555555555555556,
              "#d8576b"
             ],
             [
              0.6666666666666666,
              "#ed7953"
             ],
             [
              0.7777777777777778,
              "#fb9f3a"
             ],
             [
              0.8888888888888888,
              "#fdca26"
             ],
             [
              1,
              "#f0f921"
             ]
            ],
            "type": "surface"
           }
          ],
          "table": [
           {
            "cells": {
             "fill": {
              "color": "#EBF0F8"
             },
             "line": {
              "color": "white"
             }
            },
            "header": {
             "fill": {
              "color": "#C8D4E3"
             },
             "line": {
              "color": "white"
             }
            },
            "type": "table"
           }
          ]
         },
         "layout": {
          "annotationdefaults": {
           "arrowcolor": "#2a3f5f",
           "arrowhead": 0,
           "arrowwidth": 1
          },
          "autotypenumbers": "strict",
          "coloraxis": {
           "colorbar": {
            "outlinewidth": 0,
            "ticks": ""
           }
          },
          "colorscale": {
           "diverging": [
            [
             0,
             "#8e0152"
            ],
            [
             0.1,
             "#c51b7d"
            ],
            [
             0.2,
             "#de77ae"
            ],
            [
             0.3,
             "#f1b6da"
            ],
            [
             0.4,
             "#fde0ef"
            ],
            [
             0.5,
             "#f7f7f7"
            ],
            [
             0.6,
             "#e6f5d0"
            ],
            [
             0.7,
             "#b8e186"
            ],
            [
             0.8,
             "#7fbc41"
            ],
            [
             0.9,
             "#4d9221"
            ],
            [
             1,
             "#276419"
            ]
           ],
           "sequential": [
            [
             0,
             "#0d0887"
            ],
            [
             0.1111111111111111,
             "#46039f"
            ],
            [
             0.2222222222222222,
             "#7201a8"
            ],
            [
             0.3333333333333333,
             "#9c179e"
            ],
            [
             0.4444444444444444,
             "#bd3786"
            ],
            [
             0.5555555555555556,
             "#d8576b"
            ],
            [
             0.6666666666666666,
             "#ed7953"
            ],
            [
             0.7777777777777778,
             "#fb9f3a"
            ],
            [
             0.8888888888888888,
             "#fdca26"
            ],
            [
             1,
             "#f0f921"
            ]
           ],
           "sequentialminus": [
            [
             0,
             "#0d0887"
            ],
            [
             0.1111111111111111,
             "#46039f"
            ],
            [
             0.2222222222222222,
             "#7201a8"
            ],
            [
             0.3333333333333333,
             "#9c179e"
            ],
            [
             0.4444444444444444,
             "#bd3786"
            ],
            [
             0.5555555555555556,
             "#d8576b"
            ],
            [
             0.6666666666666666,
             "#ed7953"
            ],
            [
             0.7777777777777778,
             "#fb9f3a"
            ],
            [
             0.8888888888888888,
             "#fdca26"
            ],
            [
             1,
             "#f0f921"
            ]
           ]
          },
          "colorway": [
           "#636efa",
           "#EF553B",
           "#00cc96",
           "#ab63fa",
           "#FFA15A",
           "#19d3f3",
           "#FF6692",
           "#B6E880",
           "#FF97FF",
           "#FECB52"
          ],
          "font": {
           "color": "#2a3f5f"
          },
          "geo": {
           "bgcolor": "white",
           "lakecolor": "white",
           "landcolor": "#E5ECF6",
           "showlakes": true,
           "showland": true,
           "subunitcolor": "white"
          },
          "hoverlabel": {
           "align": "left"
          },
          "hovermode": "closest",
          "mapbox": {
           "style": "light"
          },
          "paper_bgcolor": "white",
          "plot_bgcolor": "#E5ECF6",
          "polar": {
           "angularaxis": {
            "gridcolor": "white",
            "linecolor": "white",
            "ticks": ""
           },
           "bgcolor": "#E5ECF6",
           "radialaxis": {
            "gridcolor": "white",
            "linecolor": "white",
            "ticks": ""
           }
          },
          "scene": {
           "xaxis": {
            "backgroundcolor": "#E5ECF6",
            "gridcolor": "white",
            "gridwidth": 2,
            "linecolor": "white",
            "showbackground": true,
            "ticks": "",
            "zerolinecolor": "white"
           },
           "yaxis": {
            "backgroundcolor": "#E5ECF6",
            "gridcolor": "white",
            "gridwidth": 2,
            "linecolor": "white",
            "showbackground": true,
            "ticks": "",
            "zerolinecolor": "white"
           },
           "zaxis": {
            "backgroundcolor": "#E5ECF6",
            "gridcolor": "white",
            "gridwidth": 2,
            "linecolor": "white",
            "showbackground": true,
            "ticks": "",
            "zerolinecolor": "white"
           }
          },
          "shapedefaults": {
           "line": {
            "color": "#2a3f5f"
           }
          },
          "ternary": {
           "aaxis": {
            "gridcolor": "white",
            "linecolor": "white",
            "ticks": ""
           },
           "baxis": {
            "gridcolor": "white",
            "linecolor": "white",
            "ticks": ""
           },
           "bgcolor": "#E5ECF6",
           "caxis": {
            "gridcolor": "white",
            "linecolor": "white",
            "ticks": ""
           }
          },
          "title": {
           "x": 0.05
          },
          "xaxis": {
           "automargin": true,
           "gridcolor": "white",
           "linecolor": "white",
           "ticks": "",
           "title": {
            "standoff": 15
           },
           "zerolinecolor": "white",
           "zerolinewidth": 2
          },
          "yaxis": {
           "automargin": true,
           "gridcolor": "white",
           "linecolor": "white",
           "ticks": "",
           "title": {
            "standoff": 15
           },
           "zerolinecolor": "white",
           "zerolinewidth": 2
          }
         }
        },
        "title": {
         "text": "FIFA23 Midfielder Archetypes (Radar Charts)"
        },
        "width": 1200
       }
      }
     },
     "metadata": {},
     "output_type": "display_data"
    }
   ],
   "source": [
    "radar_features = [f for f in midfield_features if f not in ['Height(in cm)', 'Weight(in kg)']]\n",
    "\n",
    "plot_archetypes_radar(\n",
    "    cluster_means=cluster_means_mid,\n",
    "    radar_features=radar_features,\n",
    "    archetype_names=archetype_names_mid,\n",
    "    position_group='MID'\n",
    ")"
   ]
  },
  {
   "cell_type": "markdown",
   "id": "cd13c58f",
   "metadata": {},
   "source": [
    "## Delanteros"
   ]
  },
  {
   "cell_type": "code",
   "execution_count": null,
   "id": "f89f1f39",
   "metadata": {},
   "outputs": [
    {
     "name": "stdout",
     "output_type": "stream",
     "text": [
      "         Height(in cm)  Weight(in kg)  Crossing  Finishing  Heading Accuracy  \\\n",
      "Cluster                                                                        \n",
      "0           181.418014      75.864896  0.857791   1.010876          0.944624   \n",
      "1           179.650206      73.240055  0.753215   1.013421          0.914920   \n",
      "2           174.902010      68.939698  0.928121   0.947714          0.700773   \n",
      "3           188.990268      83.839416  0.677949   1.033354          1.059595   \n",
      "4           185.655451      79.188425  0.602920   1.035239          1.017969   \n",
      "\n",
      "         Short Passing   Volleys  Dribbling     Curve  Freekick Accuracy  ...  \\\n",
      "Cluster                                                                   ...   \n",
      "0             0.952179  0.935132   0.997504  0.889948           0.814673  ...   \n",
      "1             0.884019  0.847351   1.009450  0.772804           0.655410  ...   \n",
      "2             0.943200  0.852043   1.052324  0.916089           0.810812  ...   \n",
      "3             0.913018  0.953272   0.925493  0.775079           0.729195  ...   \n",
      "4             0.860883  0.863620   0.936966  0.707049           0.635211  ...   \n",
      "\n",
      "         Sprint Speed   Agility  Reactions   Balance   Jumping   Stamina  \\\n",
      "Cluster                                                                    \n",
      "0            1.049148  1.027149   0.969763  0.988055  1.006732  0.991415   \n",
      "1            1.249176  1.163412   0.926610  1.142616  1.102355  1.010012   \n",
      "2            1.164965  1.181729   0.909227  1.160324  0.844683  0.903258   \n",
      "3            0.843509  0.793821   0.973328  0.734794  0.998248  0.886257   \n",
      "4            1.081610  0.974265   0.941235  0.941820  1.110609  0.998162   \n",
      "\n",
      "         Strength  Long Shots  Positioning    Vision  \n",
      "Cluster                                               \n",
      "0        1.008072    0.960015     1.011789  0.917247  \n",
      "1        1.034186    0.899217     0.981551  0.852753  \n",
      "2        0.789636    0.914514     0.948625  0.918686  \n",
      "3        1.183495    0.926869     1.039405  0.845019  \n",
      "4        1.159929    0.903168     1.003879  0.791903  \n",
      "\n",
      "[5 rows x 23 columns]\n"
     ]
    }
   ],
   "source": [
    "forward_features = [\n",
    "    'Height(in cm)', 'Weight(in kg)',\n",
    "    'Crossing', 'Finishing', 'Heading Accuracy', 'Short Passing', 'Volleys',\n",
    "    'Dribbling','Curve','Freekick Accuracy', 'LongPassing', 'BallControl',\n",
    "    'Acceleration', 'Sprint Speed', 'Agility', 'Reactions', 'Balance',\n",
    "    'Jumping', 'Stamina', 'Strength','Long Shots',\n",
    "    'Positioning', 'Vision'\n",
    "]\n",
    "\n",
    "df_forwards, kmeans_def = cluster_position_group(\n",
    "    df_field_players, 'FWD', forward_features, n_clusters=5\n",
    ")\n",
    "\n",
    "cluster_means_fwd = df_forwards.groupby('Cluster')[forward_features].mean()\n",
    "cluster_means_fwd.to_csv(\"../outputs/cluster_means/clusters_forward.csv\")\n",
    "print(cluster_means_fwd)\n"
   ]
  },
  {
   "cell_type": "code",
   "execution_count": null,
   "id": "88955d3d",
   "metadata": {},
   "outputs": [
    {
     "name": "stdout",
     "output_type": "stream",
     "text": [
      "\n",
      "🔹 Complete Forward\n"
     ]
    },
    {
     "data": {
      "text/html": [
       "<div>\n",
       "<style scoped>\n",
       "    .dataframe tbody tr th:only-of-type {\n",
       "        vertical-align: middle;\n",
       "    }\n",
       "\n",
       "    .dataframe tbody tr th {\n",
       "        vertical-align: top;\n",
       "    }\n",
       "\n",
       "    .dataframe thead th {\n",
       "        text-align: right;\n",
       "    }\n",
       "</style>\n",
       "<table border=\"1\" class=\"dataframe\">\n",
       "  <thead>\n",
       "    <tr style=\"text-align: right;\">\n",
       "      <th></th>\n",
       "      <th>Known As</th>\n",
       "      <th>Best Position</th>\n",
       "      <th>Overall</th>\n",
       "      <th>Short Passing</th>\n",
       "    </tr>\n",
       "  </thead>\n",
       "  <tbody>\n",
       "    <tr>\n",
       "      <th>1</th>\n",
       "      <td>K. Benzema</td>\n",
       "      <td>CF</td>\n",
       "      <td>91</td>\n",
       "      <td>0.978022</td>\n",
       "    </tr>\n",
       "    <tr>\n",
       "      <th>4</th>\n",
       "      <td>K. Mbappé</td>\n",
       "      <td>ST</td>\n",
       "      <td>91</td>\n",
       "      <td>0.934066</td>\n",
       "    </tr>\n",
       "    <tr>\n",
       "      <th>5</th>\n",
       "      <td>M. Salah</td>\n",
       "      <td>RW</td>\n",
       "      <td>90</td>\n",
       "      <td>0.933333</td>\n",
       "    </tr>\n",
       "    <tr>\n",
       "      <th>12</th>\n",
       "      <td>H. Son</td>\n",
       "      <td>LW</td>\n",
       "      <td>89</td>\n",
       "      <td>0.943820</td>\n",
       "    </tr>\n",
       "    <tr>\n",
       "      <th>59</th>\n",
       "      <td>L. Martínez</td>\n",
       "      <td>ST</td>\n",
       "      <td>86</td>\n",
       "      <td>0.883721</td>\n",
       "    </tr>\n",
       "  </tbody>\n",
       "</table>\n",
       "</div>"
      ],
      "text/plain": [
       "       Known As Best Position  Overall  Short Passing\n",
       "1    K. Benzema            CF       91       0.978022\n",
       "4     K. Mbappé            ST       91       0.934066\n",
       "5      M. Salah            RW       90       0.933333\n",
       "12       H. Son            LW       89       0.943820\n",
       "59  L. Martínez            ST       86       0.883721"
      ]
     },
     "metadata": {},
     "output_type": "display_data"
    },
    {
     "name": "stdout",
     "output_type": "stream",
     "text": [
      "\n",
      "🔹 Explosive Winger\n"
     ]
    },
    {
     "data": {
      "text/html": [
       "<div>\n",
       "<style scoped>\n",
       "    .dataframe tbody tr th:only-of-type {\n",
       "        vertical-align: middle;\n",
       "    }\n",
       "\n",
       "    .dataframe tbody tr th {\n",
       "        vertical-align: top;\n",
       "    }\n",
       "\n",
       "    .dataframe thead th {\n",
       "        text-align: right;\n",
       "    }\n",
       "</style>\n",
       "<table border=\"1\" class=\"dataframe\">\n",
       "  <thead>\n",
       "    <tr style=\"text-align: right;\">\n",
       "      <th></th>\n",
       "      <th>Known As</th>\n",
       "      <th>Best Position</th>\n",
       "      <th>Overall</th>\n",
       "      <th>Short Passing</th>\n",
       "    </tr>\n",
       "  </thead>\n",
       "  <tbody>\n",
       "    <tr>\n",
       "      <th>11</th>\n",
       "      <td>Neymar Jr</td>\n",
       "      <td>LW</td>\n",
       "      <td>89</td>\n",
       "      <td>0.955056</td>\n",
       "    </tr>\n",
       "    <tr>\n",
       "      <th>47</th>\n",
       "      <td>R. Sterling</td>\n",
       "      <td>LW</td>\n",
       "      <td>86</td>\n",
       "      <td>0.965116</td>\n",
       "    </tr>\n",
       "    <tr>\n",
       "      <th>48</th>\n",
       "      <td>R. Mahrez</td>\n",
       "      <td>RW</td>\n",
       "      <td>86</td>\n",
       "      <td>0.965116</td>\n",
       "    </tr>\n",
       "    <tr>\n",
       "      <th>63</th>\n",
       "      <td>Vinícius Jr.</td>\n",
       "      <td>LW</td>\n",
       "      <td>86</td>\n",
       "      <td>0.872093</td>\n",
       "    </tr>\n",
       "    <tr>\n",
       "      <th>95</th>\n",
       "      <td>D. Mertens</td>\n",
       "      <td>CF</td>\n",
       "      <td>84</td>\n",
       "      <td>1.000000</td>\n",
       "    </tr>\n",
       "  </tbody>\n",
       "</table>\n",
       "</div>"
      ],
      "text/plain": [
       "        Known As Best Position  Overall  Short Passing\n",
       "11     Neymar Jr            LW       89       0.955056\n",
       "47   R. Sterling            LW       86       0.965116\n",
       "48     R. Mahrez            RW       86       0.965116\n",
       "63  Vinícius Jr.            LW       86       0.872093\n",
       "95    D. Mertens            CF       84       1.000000"
      ]
     },
     "metadata": {},
     "output_type": "display_data"
    },
    {
     "name": "stdout",
     "output_type": "stream",
     "text": [
      "\n",
      "🔹 Poacher\n"
     ]
    },
    {
     "data": {
      "text/html": [
       "<div>\n",
       "<style scoped>\n",
       "    .dataframe tbody tr th:only-of-type {\n",
       "        vertical-align: middle;\n",
       "    }\n",
       "\n",
       "    .dataframe tbody tr th {\n",
       "        vertical-align: top;\n",
       "    }\n",
       "\n",
       "    .dataframe thead th {\n",
       "        text-align: right;\n",
       "    }\n",
       "</style>\n",
       "<table border=\"1\" class=\"dataframe\">\n",
       "  <thead>\n",
       "    <tr style=\"text-align: right;\">\n",
       "      <th></th>\n",
       "      <th>Known As</th>\n",
       "      <th>Best Position</th>\n",
       "      <th>Overall</th>\n",
       "      <th>Short Passing</th>\n",
       "    </tr>\n",
       "  </thead>\n",
       "  <tbody>\n",
       "    <tr>\n",
       "      <th>166</th>\n",
       "      <td>V. Osimhen</td>\n",
       "      <td>ST</td>\n",
       "      <td>83</td>\n",
       "      <td>0.867470</td>\n",
       "    </tr>\n",
       "    <tr>\n",
       "      <th>474</th>\n",
       "      <td>D. Calvert-Lewin</td>\n",
       "      <td>ST</td>\n",
       "      <td>80</td>\n",
       "      <td>0.887500</td>\n",
       "    </tr>\n",
       "    <tr>\n",
       "      <th>494</th>\n",
       "      <td>A. Belotti</td>\n",
       "      <td>ST</td>\n",
       "      <td>80</td>\n",
       "      <td>0.850000</td>\n",
       "    </tr>\n",
       "    <tr>\n",
       "      <th>539</th>\n",
       "      <td>Beto</td>\n",
       "      <td>ST</td>\n",
       "      <td>79</td>\n",
       "      <td>0.848101</td>\n",
       "    </tr>\n",
       "    <tr>\n",
       "      <th>545</th>\n",
       "      <td>B. Dia</td>\n",
       "      <td>ST</td>\n",
       "      <td>79</td>\n",
       "      <td>0.936709</td>\n",
       "    </tr>\n",
       "  </tbody>\n",
       "</table>\n",
       "</div>"
      ],
      "text/plain": [
       "             Known As Best Position  Overall  Short Passing\n",
       "166        V. Osimhen            ST       83       0.867470\n",
       "474  D. Calvert-Lewin            ST       80       0.887500\n",
       "494        A. Belotti            ST       80       0.850000\n",
       "539              Beto            ST       79       0.848101\n",
       "545            B. Dia            ST       79       0.936709"
      ]
     },
     "metadata": {},
     "output_type": "display_data"
    },
    {
     "name": "stdout",
     "output_type": "stream",
     "text": [
      "\n",
      "🔹 Second Striker\n"
     ]
    },
    {
     "data": {
      "text/html": [
       "<div>\n",
       "<style scoped>\n",
       "    .dataframe tbody tr th:only-of-type {\n",
       "        vertical-align: middle;\n",
       "    }\n",
       "\n",
       "    .dataframe tbody tr th {\n",
       "        vertical-align: top;\n",
       "    }\n",
       "\n",
       "    .dataframe thead th {\n",
       "        text-align: right;\n",
       "    }\n",
       "</style>\n",
       "<table border=\"1\" class=\"dataframe\">\n",
       "  <thead>\n",
       "    <tr style=\"text-align: right;\">\n",
       "      <th></th>\n",
       "      <th>Known As</th>\n",
       "      <th>Best Position</th>\n",
       "      <th>Overall</th>\n",
       "      <th>Short Passing</th>\n",
       "    </tr>\n",
       "  </thead>\n",
       "  <tbody>\n",
       "    <tr>\n",
       "      <th>754</th>\n",
       "      <td>J. Martínez</td>\n",
       "      <td>ST</td>\n",
       "      <td>78</td>\n",
       "      <td>0.858974</td>\n",
       "    </tr>\n",
       "    <tr>\n",
       "      <th>1009</th>\n",
       "      <td>P. Daka</td>\n",
       "      <td>ST</td>\n",
       "      <td>77</td>\n",
       "      <td>0.883117</td>\n",
       "    </tr>\n",
       "    <tr>\n",
       "      <th>1230</th>\n",
       "      <td>E. Dennis</td>\n",
       "      <td>ST</td>\n",
       "      <td>76</td>\n",
       "      <td>0.855263</td>\n",
       "    </tr>\n",
       "    <tr>\n",
       "      <th>1258</th>\n",
       "      <td>E. Boateng</td>\n",
       "      <td>ST</td>\n",
       "      <td>76</td>\n",
       "      <td>0.868421</td>\n",
       "    </tr>\n",
       "    <tr>\n",
       "      <th>1460</th>\n",
       "      <td>A. Elis</td>\n",
       "      <td>ST</td>\n",
       "      <td>75</td>\n",
       "      <td>0.866667</td>\n",
       "    </tr>\n",
       "  </tbody>\n",
       "</table>\n",
       "</div>"
      ],
      "text/plain": [
       "         Known As Best Position  Overall  Short Passing\n",
       "754   J. Martínez            ST       78       0.858974\n",
       "1009      P. Daka            ST       77       0.883117\n",
       "1230    E. Dennis            ST       76       0.855263\n",
       "1258   E. Boateng            ST       76       0.868421\n",
       "1460      A. Elis            ST       75       0.866667"
      ]
     },
     "metadata": {},
     "output_type": "display_data"
    },
    {
     "name": "stdout",
     "output_type": "stream",
     "text": [
      "\n",
      "🔹 Target Man\n"
     ]
    },
    {
     "data": {
      "text/html": [
       "<div>\n",
       "<style scoped>\n",
       "    .dataframe tbody tr th:only-of-type {\n",
       "        vertical-align: middle;\n",
       "    }\n",
       "\n",
       "    .dataframe tbody tr th {\n",
       "        vertical-align: top;\n",
       "    }\n",
       "\n",
       "    .dataframe thead th {\n",
       "        text-align: right;\n",
       "    }\n",
       "</style>\n",
       "<table border=\"1\" class=\"dataframe\">\n",
       "  <thead>\n",
       "    <tr style=\"text-align: right;\">\n",
       "      <th></th>\n",
       "      <th>Known As</th>\n",
       "      <th>Best Position</th>\n",
       "      <th>Overall</th>\n",
       "      <th>Short Passing</th>\n",
       "    </tr>\n",
       "  </thead>\n",
       "  <tbody>\n",
       "    <tr>\n",
       "      <th>2</th>\n",
       "      <td>R. Lewandowski</td>\n",
       "      <td>ST</td>\n",
       "      <td>91</td>\n",
       "      <td>0.923077</td>\n",
       "    </tr>\n",
       "    <tr>\n",
       "      <th>8</th>\n",
       "      <td>Cristiano Ronaldo</td>\n",
       "      <td>ST</td>\n",
       "      <td>90</td>\n",
       "      <td>0.888889</td>\n",
       "    </tr>\n",
       "    <tr>\n",
       "      <th>10</th>\n",
       "      <td>H. Kane</td>\n",
       "      <td>ST</td>\n",
       "      <td>89</td>\n",
       "      <td>0.943820</td>\n",
       "    </tr>\n",
       "    <tr>\n",
       "      <th>21</th>\n",
       "      <td>E. Haaland</td>\n",
       "      <td>ST</td>\n",
       "      <td>88</td>\n",
       "      <td>0.840909</td>\n",
       "    </tr>\n",
       "    <tr>\n",
       "      <th>44</th>\n",
       "      <td>C. Immobile</td>\n",
       "      <td>ST</td>\n",
       "      <td>86</td>\n",
       "      <td>0.918605</td>\n",
       "    </tr>\n",
       "  </tbody>\n",
       "</table>\n",
       "</div>"
      ],
      "text/plain": [
       "             Known As Best Position  Overall  Short Passing\n",
       "2      R. Lewandowski            ST       91       0.923077\n",
       "8   Cristiano Ronaldo            ST       90       0.888889\n",
       "10            H. Kane            ST       89       0.943820\n",
       "21         E. Haaland            ST       88       0.840909\n",
       "44        C. Immobile            ST       86       0.918605"
      ]
     },
     "metadata": {},
     "output_type": "display_data"
    }
   ],
   "source": [
    "archetype_names_fwd = {\n",
    "    0: \"Complete Forward\",\n",
    "    1: \"Second Striker\",\n",
    "    2: \"Explosive Winger\",\n",
    "    3: \"Target Man\",\n",
    "    4: \"Poacher\"\n",
    "}\n",
    "\n",
    "df_forwards['archetype'] = df_forwards['Cluster'].map(archetype_names_fwd)\n",
    "\n",
    "for archetype, group in df_forwards.groupby('archetype'):\n",
    "    print(f\"\\n🔹 {archetype}\")\n",
    "    display(group[['Known As', 'Best Position', 'Overall', 'Short Passing']].head(5))"
   ]
  },
  {
   "cell_type": "code",
   "execution_count": null,
   "id": "23760c7b",
   "metadata": {},
   "outputs": [
    {
     "data": {
      "application/vnd.plotly.v1+json": {
       "config": {
        "plotlyServerURL": "https://plot.ly"
       },
       "data": [
        {
         "fill": "toself",
         "name": "Complete Forward",
         "r": {
          "bdata": "wXQNIwZz6z+UfKZ9jCzwP7beWABcOu4/Fm6vEkF47j/WVC+pmeztPyx1DOCM6+8/kwBgn3N67D+8ijB5zRHqP4lH6y19Zeo/LNJ1xlwM8D93KSoQdbbwP77ifVpPyfA/jcemiTNv8D8oMEf0SwjvP4oLFpYlnu8/AqVwwJIb8D8Pxcn9qrnvP38wmp0QIfA/q/QlZXK47j9tUe7vSTDwP+USPosVWu0/",
          "dtype": "f8"
         },
         "subplot": "polar",
         "theta": [
          "Crossing",
          "Finishing",
          "Heading Accuracy",
          "Short Passing",
          "Volleys",
          "Dribbling",
          "Curve",
          "Freekick Accuracy",
          "LongPassing",
          "BallControl",
          "Acceleration",
          "Sprint Speed",
          "Agility",
          "Reactions",
          "Balance",
          "Jumping",
          "Stamina",
          "Strength",
          "Long Shots",
          "Positioning",
          "Vision"
         ],
         "type": "scatterpolar"
        },
        {
         "fill": "toself",
         "name": "Second Striker",
         "r": {
          "bdata": "SZk5T1Ya6D8oiCgy+TbwP3qcVeAGR+0/FaEwFuJJ7D9ove2egB3rPzp6nqG0JvA/5Jy5NM+66D+/BT0gH/nkP38tTuwFHeY/zdPkRyKr7z91LldLQvLzPzkDl8af/PM/Q3o4wFWd8j/paJI8yabtP6mmidYnSPI/tVVjQz+j8T9hjjcyAinwP80/M8QGjPA/4rEP62LG7D/QL9WS3mjvP5w7mGrASes/",
          "dtype": "f8"
         },
         "subplot": "polar2",
         "theta": [
          "Crossing",
          "Finishing",
          "Heading Accuracy",
          "Short Passing",
          "Volleys",
          "Dribbling",
          "Curve",
          "Freekick Accuracy",
          "LongPassing",
          "BallControl",
          "Acceleration",
          "Sprint Speed",
          "Agility",
          "Reactions",
          "Balance",
          "Jumping",
          "Stamina",
          "Strength",
          "Long Shots",
          "Positioning",
          "Vision"
         ],
         "type": "scatterpolar"
        },
        {
         "fill": "toself",
         "name": "Explosive Winger",
         "r": {
          "bdata": "qgJQDCqz7T8b1JGsq1PuP/asN9S7bOY/jJMyH7Eu7j/0z3UF70PrPymjXopR1vA/nk/KYZpQ7T8yie6tK/LpP6ViZKHIU+o/PM+OoM1N8D83X4tl3APzP+vD5/6xo/I/cmVgylzo8j97jtpaYxjtP0li5uWvkPI/Sdk4hKQH6z9oshrcfOfsP9KCvRSyROk/xyDWcbJD7T97f4noIVvuP7vAYCrgZe0/",
          "dtype": "f8"
         },
         "subplot": "polar3",
         "theta": [
          "Crossing",
          "Finishing",
          "Heading Accuracy",
          "Short Passing",
          "Volleys",
          "Dribbling",
          "Curve",
          "Freekick Accuracy",
          "LongPassing",
          "BallControl",
          "Acceleration",
          "Sprint Speed",
          "Agility",
          "Reactions",
          "Balance",
          "Jumping",
          "Stamina",
          "Strength",
          "Long Shots",
          "Positioning",
          "Vision"
         ],
         "type": "scatterpolar"
        },
        {
         "fill": "toself",
         "name": "Target Man",
         "r": {
          "bdata": "07Dp1cKx5T/LcImKnojwP5RzZlga9PA/Y8H97XE37T+cpkkTNYHuP9tT4UKjne0/ReRNBXPN6D/z7isxkFXnP896YHk2seY/blxZf4hU7z+Jcu13l6npP+JvUyAG/uo/AFgZFvtm6T9iMuCPgCXvP4Az1jVvg+c/nKS0lKXx7z/6AzDhNlzsP8dKwz+Y7/I/1bIRiOmo7T+Phm+QZ6HwP3py8qJkCus/",
          "dtype": "f8"
         },
         "subplot": "polar4",
         "theta": [
          "Crossing",
          "Finishing",
          "Heading Accuracy",
          "Short Passing",
          "Volleys",
          "Dribbling",
          "Curve",
          "Freekick Accuracy",
          "LongPassing",
          "BallControl",
          "Acceleration",
          "Sprint Speed",
          "Agility",
          "Reactions",
          "Balance",
          "Jumping",
          "Stamina",
          "Strength",
          "Long Shots",
          "Positioning",
          "Vision"
         ],
         "type": "scatterpolar"
        },
        {
         "fill": "toself",
         "name": "Poacher",
         "r": {
          "bdata": "wbHJSx9L4z8YZezrVpDwP4fzywWaSfA/O9O37FmM6z/wuvKqxaLrP23P9XOg++0/pOwigCSg5j89pDZqplPkPzpNJzK5U+Q/FxQT5Bne7j/LDDqRmcXwPwEmsQBGTvE/uXROVy0t7z+8YxWFmR7uP3Y/lpdkI+4/Uowjsg3F8T8ED+vq8fDvP+tn5OcRj/I/ZnFWhcHm7D8szMgn4w/wPyybBVhEV+k/",
          "dtype": "f8"
         },
         "subplot": "polar5",
         "theta": [
          "Crossing",
          "Finishing",
          "Heading Accuracy",
          "Short Passing",
          "Volleys",
          "Dribbling",
          "Curve",
          "Freekick Accuracy",
          "LongPassing",
          "BallControl",
          "Acceleration",
          "Sprint Speed",
          "Agility",
          "Reactions",
          "Balance",
          "Jumping",
          "Stamina",
          "Strength",
          "Long Shots",
          "Positioning",
          "Vision"
         ],
         "type": "scatterpolar"
        }
       ],
       "layout": {
        "annotations": [
         {
          "font": {
           "size": 16
          },
          "showarrow": false,
          "text": "Complete Forward",
          "x": 0.14444444444444446,
          "xanchor": "center",
          "xref": "paper",
          "y": 1,
          "yanchor": "bottom",
          "yref": "paper"
         },
         {
          "font": {
           "size": 16
          },
          "showarrow": false,
          "text": "Second Striker",
          "x": 0.5,
          "xanchor": "center",
          "xref": "paper",
          "y": 1,
          "yanchor": "bottom",
          "yref": "paper"
         },
         {
          "font": {
           "size": 16
          },
          "showarrow": false,
          "text": "Explosive Winger",
          "x": 0.8555555555555556,
          "xanchor": "center",
          "xref": "paper",
          "y": 1,
          "yanchor": "bottom",
          "yref": "paper"
         },
         {
          "font": {
           "size": 16
          },
          "showarrow": false,
          "text": "Target Man",
          "x": 0.14444444444444446,
          "xanchor": "center",
          "xref": "paper",
          "y": 0.375,
          "yanchor": "bottom",
          "yref": "paper"
         },
         {
          "font": {
           "size": 16
          },
          "showarrow": false,
          "text": "Poacher",
          "x": 0.5,
          "xanchor": "center",
          "xref": "paper",
          "y": 0.375,
          "yanchor": "bottom",
          "yref": "paper"
         }
        ],
        "height": 800,
        "polar": {
         "domain": {
          "x": [
           0,
           0.2888888888888889
          ],
          "y": [
           0.625,
           1
          ]
         }
        },
        "polar2": {
         "domain": {
          "x": [
           0.35555555555555557,
           0.6444444444444445
          ],
          "y": [
           0.625,
           1
          ]
         }
        },
        "polar3": {
         "domain": {
          "x": [
           0.7111111111111111,
           1
          ],
          "y": [
           0.625,
           1
          ]
         }
        },
        "polar4": {
         "domain": {
          "x": [
           0,
           0.2888888888888889
          ],
          "y": [
           0,
           0.375
          ]
         }
        },
        "polar5": {
         "domain": {
          "x": [
           0.35555555555555557,
           0.6444444444444445
          ],
          "y": [
           0,
           0.375
          ]
         }
        },
        "showlegend": false,
        "template": {
         "data": {
          "bar": [
           {
            "error_x": {
             "color": "#2a3f5f"
            },
            "error_y": {
             "color": "#2a3f5f"
            },
            "marker": {
             "line": {
              "color": "#E5ECF6",
              "width": 0.5
             },
             "pattern": {
              "fillmode": "overlay",
              "size": 10,
              "solidity": 0.2
             }
            },
            "type": "bar"
           }
          ],
          "barpolar": [
           {
            "marker": {
             "line": {
              "color": "#E5ECF6",
              "width": 0.5
             },
             "pattern": {
              "fillmode": "overlay",
              "size": 10,
              "solidity": 0.2
             }
            },
            "type": "barpolar"
           }
          ],
          "carpet": [
           {
            "aaxis": {
             "endlinecolor": "#2a3f5f",
             "gridcolor": "white",
             "linecolor": "white",
             "minorgridcolor": "white",
             "startlinecolor": "#2a3f5f"
            },
            "baxis": {
             "endlinecolor": "#2a3f5f",
             "gridcolor": "white",
             "linecolor": "white",
             "minorgridcolor": "white",
             "startlinecolor": "#2a3f5f"
            },
            "type": "carpet"
           }
          ],
          "choropleth": [
           {
            "colorbar": {
             "outlinewidth": 0,
             "ticks": ""
            },
            "type": "choropleth"
           }
          ],
          "contour": [
           {
            "colorbar": {
             "outlinewidth": 0,
             "ticks": ""
            },
            "colorscale": [
             [
              0,
              "#0d0887"
             ],
             [
              0.1111111111111111,
              "#46039f"
             ],
             [
              0.2222222222222222,
              "#7201a8"
             ],
             [
              0.3333333333333333,
              "#9c179e"
             ],
             [
              0.4444444444444444,
              "#bd3786"
             ],
             [
              0.5555555555555556,
              "#d8576b"
             ],
             [
              0.6666666666666666,
              "#ed7953"
             ],
             [
              0.7777777777777778,
              "#fb9f3a"
             ],
             [
              0.8888888888888888,
              "#fdca26"
             ],
             [
              1,
              "#f0f921"
             ]
            ],
            "type": "contour"
           }
          ],
          "contourcarpet": [
           {
            "colorbar": {
             "outlinewidth": 0,
             "ticks": ""
            },
            "type": "contourcarpet"
           }
          ],
          "heatmap": [
           {
            "colorbar": {
             "outlinewidth": 0,
             "ticks": ""
            },
            "colorscale": [
             [
              0,
              "#0d0887"
             ],
             [
              0.1111111111111111,
              "#46039f"
             ],
             [
              0.2222222222222222,
              "#7201a8"
             ],
             [
              0.3333333333333333,
              "#9c179e"
             ],
             [
              0.4444444444444444,
              "#bd3786"
             ],
             [
              0.5555555555555556,
              "#d8576b"
             ],
             [
              0.6666666666666666,
              "#ed7953"
             ],
             [
              0.7777777777777778,
              "#fb9f3a"
             ],
             [
              0.8888888888888888,
              "#fdca26"
             ],
             [
              1,
              "#f0f921"
             ]
            ],
            "type": "heatmap"
           }
          ],
          "histogram": [
           {
            "marker": {
             "pattern": {
              "fillmode": "overlay",
              "size": 10,
              "solidity": 0.2
             }
            },
            "type": "histogram"
           }
          ],
          "histogram2d": [
           {
            "colorbar": {
             "outlinewidth": 0,
             "ticks": ""
            },
            "colorscale": [
             [
              0,
              "#0d0887"
             ],
             [
              0.1111111111111111,
              "#46039f"
             ],
             [
              0.2222222222222222,
              "#7201a8"
             ],
             [
              0.3333333333333333,
              "#9c179e"
             ],
             [
              0.4444444444444444,
              "#bd3786"
             ],
             [
              0.5555555555555556,
              "#d8576b"
             ],
             [
              0.6666666666666666,
              "#ed7953"
             ],
             [
              0.7777777777777778,
              "#fb9f3a"
             ],
             [
              0.8888888888888888,
              "#fdca26"
             ],
             [
              1,
              "#f0f921"
             ]
            ],
            "type": "histogram2d"
           }
          ],
          "histogram2dcontour": [
           {
            "colorbar": {
             "outlinewidth": 0,
             "ticks": ""
            },
            "colorscale": [
             [
              0,
              "#0d0887"
             ],
             [
              0.1111111111111111,
              "#46039f"
             ],
             [
              0.2222222222222222,
              "#7201a8"
             ],
             [
              0.3333333333333333,
              "#9c179e"
             ],
             [
              0.4444444444444444,
              "#bd3786"
             ],
             [
              0.5555555555555556,
              "#d8576b"
             ],
             [
              0.6666666666666666,
              "#ed7953"
             ],
             [
              0.7777777777777778,
              "#fb9f3a"
             ],
             [
              0.8888888888888888,
              "#fdca26"
             ],
             [
              1,
              "#f0f921"
             ]
            ],
            "type": "histogram2dcontour"
           }
          ],
          "mesh3d": [
           {
            "colorbar": {
             "outlinewidth": 0,
             "ticks": ""
            },
            "type": "mesh3d"
           }
          ],
          "parcoords": [
           {
            "line": {
             "colorbar": {
              "outlinewidth": 0,
              "ticks": ""
             }
            },
            "type": "parcoords"
           }
          ],
          "pie": [
           {
            "automargin": true,
            "type": "pie"
           }
          ],
          "scatter": [
           {
            "fillpattern": {
             "fillmode": "overlay",
             "size": 10,
             "solidity": 0.2
            },
            "type": "scatter"
           }
          ],
          "scatter3d": [
           {
            "line": {
             "colorbar": {
              "outlinewidth": 0,
              "ticks": ""
             }
            },
            "marker": {
             "colorbar": {
              "outlinewidth": 0,
              "ticks": ""
             }
            },
            "type": "scatter3d"
           }
          ],
          "scattercarpet": [
           {
            "marker": {
             "colorbar": {
              "outlinewidth": 0,
              "ticks": ""
             }
            },
            "type": "scattercarpet"
           }
          ],
          "scattergeo": [
           {
            "marker": {
             "colorbar": {
              "outlinewidth": 0,
              "ticks": ""
             }
            },
            "type": "scattergeo"
           }
          ],
          "scattergl": [
           {
            "marker": {
             "colorbar": {
              "outlinewidth": 0,
              "ticks": ""
             }
            },
            "type": "scattergl"
           }
          ],
          "scattermap": [
           {
            "marker": {
             "colorbar": {
              "outlinewidth": 0,
              "ticks": ""
             }
            },
            "type": "scattermap"
           }
          ],
          "scattermapbox": [
           {
            "marker": {
             "colorbar": {
              "outlinewidth": 0,
              "ticks": ""
             }
            },
            "type": "scattermapbox"
           }
          ],
          "scatterpolar": [
           {
            "marker": {
             "colorbar": {
              "outlinewidth": 0,
              "ticks": ""
             }
            },
            "type": "scatterpolar"
           }
          ],
          "scatterpolargl": [
           {
            "marker": {
             "colorbar": {
              "outlinewidth": 0,
              "ticks": ""
             }
            },
            "type": "scatterpolargl"
           }
          ],
          "scatterternary": [
           {
            "marker": {
             "colorbar": {
              "outlinewidth": 0,
              "ticks": ""
             }
            },
            "type": "scatterternary"
           }
          ],
          "surface": [
           {
            "colorbar": {
             "outlinewidth": 0,
             "ticks": ""
            },
            "colorscale": [
             [
              0,
              "#0d0887"
             ],
             [
              0.1111111111111111,
              "#46039f"
             ],
             [
              0.2222222222222222,
              "#7201a8"
             ],
             [
              0.3333333333333333,
              "#9c179e"
             ],
             [
              0.4444444444444444,
              "#bd3786"
             ],
             [
              0.5555555555555556,
              "#d8576b"
             ],
             [
              0.6666666666666666,
              "#ed7953"
             ],
             [
              0.7777777777777778,
              "#fb9f3a"
             ],
             [
              0.8888888888888888,
              "#fdca26"
             ],
             [
              1,
              "#f0f921"
             ]
            ],
            "type": "surface"
           }
          ],
          "table": [
           {
            "cells": {
             "fill": {
              "color": "#EBF0F8"
             },
             "line": {
              "color": "white"
             }
            },
            "header": {
             "fill": {
              "color": "#C8D4E3"
             },
             "line": {
              "color": "white"
             }
            },
            "type": "table"
           }
          ]
         },
         "layout": {
          "annotationdefaults": {
           "arrowcolor": "#2a3f5f",
           "arrowhead": 0,
           "arrowwidth": 1
          },
          "autotypenumbers": "strict",
          "coloraxis": {
           "colorbar": {
            "outlinewidth": 0,
            "ticks": ""
           }
          },
          "colorscale": {
           "diverging": [
            [
             0,
             "#8e0152"
            ],
            [
             0.1,
             "#c51b7d"
            ],
            [
             0.2,
             "#de77ae"
            ],
            [
             0.3,
             "#f1b6da"
            ],
            [
             0.4,
             "#fde0ef"
            ],
            [
             0.5,
             "#f7f7f7"
            ],
            [
             0.6,
             "#e6f5d0"
            ],
            [
             0.7,
             "#b8e186"
            ],
            [
             0.8,
             "#7fbc41"
            ],
            [
             0.9,
             "#4d9221"
            ],
            [
             1,
             "#276419"
            ]
           ],
           "sequential": [
            [
             0,
             "#0d0887"
            ],
            [
             0.1111111111111111,
             "#46039f"
            ],
            [
             0.2222222222222222,
             "#7201a8"
            ],
            [
             0.3333333333333333,
             "#9c179e"
            ],
            [
             0.4444444444444444,
             "#bd3786"
            ],
            [
             0.5555555555555556,
             "#d8576b"
            ],
            [
             0.6666666666666666,
             "#ed7953"
            ],
            [
             0.7777777777777778,
             "#fb9f3a"
            ],
            [
             0.8888888888888888,
             "#fdca26"
            ],
            [
             1,
             "#f0f921"
            ]
           ],
           "sequentialminus": [
            [
             0,
             "#0d0887"
            ],
            [
             0.1111111111111111,
             "#46039f"
            ],
            [
             0.2222222222222222,
             "#7201a8"
            ],
            [
             0.3333333333333333,
             "#9c179e"
            ],
            [
             0.4444444444444444,
             "#bd3786"
            ],
            [
             0.5555555555555556,
             "#d8576b"
            ],
            [
             0.6666666666666666,
             "#ed7953"
            ],
            [
             0.7777777777777778,
             "#fb9f3a"
            ],
            [
             0.8888888888888888,
             "#fdca26"
            ],
            [
             1,
             "#f0f921"
            ]
           ]
          },
          "colorway": [
           "#636efa",
           "#EF553B",
           "#00cc96",
           "#ab63fa",
           "#FFA15A",
           "#19d3f3",
           "#FF6692",
           "#B6E880",
           "#FF97FF",
           "#FECB52"
          ],
          "font": {
           "color": "#2a3f5f"
          },
          "geo": {
           "bgcolor": "white",
           "lakecolor": "white",
           "landcolor": "#E5ECF6",
           "showlakes": true,
           "showland": true,
           "subunitcolor": "white"
          },
          "hoverlabel": {
           "align": "left"
          },
          "hovermode": "closest",
          "mapbox": {
           "style": "light"
          },
          "paper_bgcolor": "white",
          "plot_bgcolor": "#E5ECF6",
          "polar": {
           "angularaxis": {
            "gridcolor": "white",
            "linecolor": "white",
            "ticks": ""
           },
           "bgcolor": "#E5ECF6",
           "radialaxis": {
            "gridcolor": "white",
            "linecolor": "white",
            "ticks": ""
           }
          },
          "scene": {
           "xaxis": {
            "backgroundcolor": "#E5ECF6",
            "gridcolor": "white",
            "gridwidth": 2,
            "linecolor": "white",
            "showbackground": true,
            "ticks": "",
            "zerolinecolor": "white"
           },
           "yaxis": {
            "backgroundcolor": "#E5ECF6",
            "gridcolor": "white",
            "gridwidth": 2,
            "linecolor": "white",
            "showbackground": true,
            "ticks": "",
            "zerolinecolor": "white"
           },
           "zaxis": {
            "backgroundcolor": "#E5ECF6",
            "gridcolor": "white",
            "gridwidth": 2,
            "linecolor": "white",
            "showbackground": true,
            "ticks": "",
            "zerolinecolor": "white"
           }
          },
          "shapedefaults": {
           "line": {
            "color": "#2a3f5f"
           }
          },
          "ternary": {
           "aaxis": {
            "gridcolor": "white",
            "linecolor": "white",
            "ticks": ""
           },
           "baxis": {
            "gridcolor": "white",
            "linecolor": "white",
            "ticks": ""
           },
           "bgcolor": "#E5ECF6",
           "caxis": {
            "gridcolor": "white",
            "linecolor": "white",
            "ticks": ""
           }
          },
          "title": {
           "x": 0.05
          },
          "xaxis": {
           "automargin": true,
           "gridcolor": "white",
           "linecolor": "white",
           "ticks": "",
           "title": {
            "standoff": 15
           },
           "zerolinecolor": "white",
           "zerolinewidth": 2
          },
          "yaxis": {
           "automargin": true,
           "gridcolor": "white",
           "linecolor": "white",
           "ticks": "",
           "title": {
            "standoff": 15
           },
           "zerolinecolor": "white",
           "zerolinewidth": 2
          }
         }
        },
        "title": {
         "text": "FIFA23 Forward Archetypes (Radar Charts)"
        },
        "width": 1200
       }
      }
     },
     "metadata": {},
     "output_type": "display_data"
    }
   ],
   "source": [
    "radar_features = [f for f in forward_features if f not in ['Height(in cm)', 'Weight(in kg)']]\n",
    "\n",
    "plot_archetypes_radar(\n",
    "    cluster_means=cluster_means_fwd,\n",
    "    radar_features=radar_features,\n",
    "    archetype_names=archetype_names_fwd,\n",
    "    position_group='FWD'\n",
    ")"
   ]
  }
 ],
 "metadata": {
  "kernelspec": {
   "display_name": ".venv",
   "language": "python",
   "name": "python3"
  },
  "language_info": {
   "codemirror_mode": {
    "name": "ipython",
    "version": 3
   },
   "file_extension": ".py",
   "mimetype": "text/x-python",
   "name": "python",
   "nbconvert_exporter": "python",
   "pygments_lexer": "ipython3",
   "version": "3.13.2"
  }
 },
 "nbformat": 4,
 "nbformat_minor": 5
}
